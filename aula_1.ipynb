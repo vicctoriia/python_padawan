{
  "nbformat": 4,
  "nbformat_minor": 0,
  "metadata": {
    "colab": {
      "name": "Aprendendo.ipynb",
      "provenance": [],
      "authorship_tag": "ABX9TyMqaJk3ktB/f6QtW2zKHEoh",
      "include_colab_link": true
    },
    "kernelspec": {
      "name": "python3",
      "display_name": "Python 3"
    }
  },
  "cells": [
    {
      "cell_type": "markdown",
      "metadata": {
        "id": "view-in-github",
        "colab_type": "text"
      },
      "source": [
        "<a href=\"https://colab.research.google.com/github/vicctoriia/python_padawan/blob/main/aula_1.ipynb\" target=\"_parent\"><img src=\"https://colab.research.google.com/assets/colab-badge.svg\" alt=\"Open In Colab\"/></a>"
      ]
    },
    {
      "cell_type": "markdown",
      "metadata": {
        "id": "HURlZA318zgi"
      },
      "source": [
        "Oi\n"
      ]
    },
    {
      "cell_type": "markdown",
      "metadata": {
        "id": "9MV84-KC9FmN"
      },
      "source": [
        "$\\partial x$\n",
        "Você pode usar latex! \n"
      ]
    },
    {
      "cell_type": "code",
      "metadata": {
        "colab": {
          "base_uri": "https://localhost:8080/"
        },
        "id": "3YXu8afM8_wC",
        "outputId": "289af4bc-ee2d-4186-af48-95ab8798c0fd"
      },
      "source": [
        "print('Hello World!')"
      ],
      "execution_count": null,
      "outputs": [
        {
          "output_type": "stream",
          "text": [
            "Hello World!\n"
          ],
          "name": "stdout"
        }
      ]
    },
    {
      "cell_type": "code",
      "metadata": {
        "colab": {
          "base_uri": "https://localhost:8080/"
        },
        "id": "SKy5N5Zy816Z",
        "outputId": "1f9dc75f-8a5c-449d-8942-944dc59acd6f"
      },
      "source": [
        "print('Hello World!'*2)"
      ],
      "execution_count": null,
      "outputs": [
        {
          "output_type": "stream",
          "text": [
            "Hello World!Hello World!\n"
          ],
          "name": "stdout"
        }
      ]
    },
    {
      "cell_type": "code",
      "metadata": {
        "colab": {
          "base_uri": "https://localhost:8080/"
        },
        "id": "ghhW5zdh9pB1",
        "outputId": "ab8eb02b-76e6-4077-9af8-cab797db31bc"
      },
      "source": [
        "a = 2\n",
        "print(a)"
      ],
      "execution_count": null,
      "outputs": [
        {
          "output_type": "stream",
          "text": [
            "2\n"
          ],
          "name": "stdout"
        }
      ]
    },
    {
      "cell_type": "code",
      "metadata": {
        "colab": {
          "base_uri": "https://localhost:8080/"
        },
        "id": "l9XqVdNJ-pRY",
        "outputId": "eab10447-df83-442d-8952-7276758d6750"
      },
      "source": [
        "meunome = \"Mattheus\"\n",
        "sobrenome = \"Marzola\"\n",
        "print(meunome, sobrenome)"
      ],
      "execution_count": null,
      "outputs": [
        {
          "output_type": "stream",
          "text": [
            "Mattheus Marzola\n"
          ],
          "name": "stdout"
        }
      ]
    },
    {
      "cell_type": "code",
      "metadata": {
        "colab": {
          "base_uri": "https://localhost:8080/"
        },
        "id": "120ovgrn--E8",
        "outputId": "07275eec-f469-4d66-81f7-b62be5a50a72"
      },
      "source": [
        "nome, sobrenome = 'Victoria', 'Oliveira'\n",
        "print(nome, sobrenome)"
      ],
      "execution_count": 1,
      "outputs": [
        {
          "output_type": "stream",
          "text": [
            "Victoria Oliveira\n"
          ],
          "name": "stdout"
        }
      ]
    },
    {
      "cell_type": "code",
      "metadata": {
        "colab": {
          "base_uri": "https://localhost:8080/"
        },
        "id": "d_-oIdFx_OBA",
        "outputId": "9de965ff-a282-40ae-a420-771c613d2bcf"
      },
      "source": [
        "frase = 'O nome do professor é {} {}'.format(nome, sobrenome)\n",
        "print (frase)"
      ],
      "execution_count": 2,
      "outputs": [
        {
          "output_type": "stream",
          "text": [
            "O nome do professor é Victoria Oliveira\n"
          ],
          "name": "stdout"
        }
      ]
    },
    {
      "cell_type": "code",
      "metadata": {
        "colab": {
          "base_uri": "https://localhost:8080/"
        },
        "id": "uUIWH1EoAKdJ",
        "outputId": "7159c361-e0a2-42aa-bb6c-aefdbea736dd"
      },
      "source": [
        "type(nome)"
      ],
      "execution_count": null,
      "outputs": [
        {
          "output_type": "execute_result",
          "data": {
            "text/plain": [
              "str"
            ]
          },
          "metadata": {
            "tags": []
          },
          "execution_count": 11
        }
      ]
    },
    {
      "cell_type": "markdown",
      "metadata": {
        "id": "VDxPuXbpBdLR"
      },
      "source": [
        "##Booleanos (coisas true e false) "
      ]
    },
    {
      "cell_type": "code",
      "metadata": {
        "colab": {
          "base_uri": "https://localhost:8080/"
        },
        "id": "-NF0QnKSBgDv",
        "outputId": "d5c3d2da-2892-4633-ab5b-0d69d25e1cac"
      },
      "source": [
        "a > 3"
      ],
      "execution_count": null,
      "outputs": [
        {
          "output_type": "execute_result",
          "data": {
            "text/plain": [
              "False"
            ]
          },
          "metadata": {
            "tags": []
          },
          "execution_count": 24
        }
      ]
    },
    {
      "cell_type": "markdown",
      "metadata": {
        "id": "EBI8PNEVCi_l"
      },
      "source": [
        "## Condicionais"
      ]
    },
    {
      "cell_type": "code",
      "metadata": {
        "id": "FBn8vLlEDJHS"
      },
      "source": [
        "IF - ELIF - ELSE\n",
        "if condicao_se_verdadeira:\n",
        "  oi\n",
        " elif condicao_alternativa:\n",
        "   oi oi \n",
        "else: #caso nenhuma das condições sejam satisfeitas\n",
        "aqui  "
      ],
      "execution_count": null,
      "outputs": []
    },
    {
      "cell_type": "code",
      "metadata": {
        "colab": {
          "base_uri": "https://localhost:8080/"
        },
        "id": "LKjcjpd2DcPH",
        "outputId": "95ce315c-00e5-458f-82ff-ed9ca64c96fa"
      },
      "source": [
        "a =1\n",
        "\n",
        "b = -2\n",
        "\n",
        "c=3\n",
        "\n",
        "a,b,c = 1,-2,1\n",
        "\n",
        "delta = (b**2-4*a*c)**(1/2)\n",
        "print(delta)"
      ],
      "execution_count": null,
      "outputs": [
        {
          "output_type": "stream",
          "text": [
            "0.0\n"
          ],
          "name": "stdout"
        }
      ]
    },
    {
      "cell_type": "code",
      "metadata": {
        "id": "2eOr1knKEMB0"
      },
      "source": [
        "if delta > 0:\n",
        "  print('Essa equação possui duas raízes')\n",
        "  x1 = (-b + delta**(1/2))/(2*a)\n",
        "  x2 = (-b - delta**(1/2))/(2*a)\n",
        "  print('A raiz 1 é:', x1)\n",
        "  print('A raiz 1 é:', x2)\n",
        "\n",
        "  delta == 0 \n"
      ],
      "execution_count": null,
      "outputs": []
    },
    {
      "cell_type": "markdown",
      "metadata": {
        "id": "6qSuVOwDzbd0"
      },
      "source": [
        "Definindo Funções Próprias"
      ]
    },
    {
      "cell_type": "code",
      "metadata": {
        "id": "cMKUy7BZ0AK6"
      },
      "source": [
        "def Minhafuncao()\n",
        "    print('*'*20)\n",
        "    print('Meu nome é Victoria')\n",
        "    print('*'*20)"
      ],
      "execution_count": null,
      "outputs": []
    },
    {
      "cell_type": "markdown",
      "metadata": {
        "id": "bkPyg_3e1p1q"
      },
      "source": [
        "##Listas \n"
      ]
    },
    {
      "cell_type": "code",
      "metadata": {
        "colab": {
          "base_uri": "https://localhost:8080/"
        },
        "id": "zSnuglo01r9_",
        "outputId": "558cefa5-a817-4752-e189-3b8c5eec1fc2"
      },
      "source": [
        "lista = ['Victoria', 23, print]\n",
        "lista =[0]\n",
        "lista"
      ],
      "execution_count": null,
      "outputs": [
        {
          "output_type": "execute_result",
          "data": {
            "text/plain": [
              "[0]"
            ]
          },
          "metadata": {
            "tags": []
          },
          "execution_count": 38
        }
      ]
    },
    {
      "cell_type": "code",
      "metadata": {
        "colab": {
          "base_uri": "https://localhost:8080/"
        },
        "id": "pObq6nqq15ZK",
        "outputId": "40a90f7a-5907-4147-f8ff-d67a410cc571"
      },
      "source": [
        "lista.append('Mattheus')\n",
        "lista  \n"
      ],
      "execution_count": null,
      "outputs": [
        {
          "output_type": "execute_result",
          "data": {
            "text/plain": [
              "[0]"
            ]
          },
          "metadata": {
            "tags": []
          },
          "execution_count": 36
        }
      ]
    },
    {
      "cell_type": "markdown",
      "metadata": {
        "id": "2kFRfNfH4Gjy"
      },
      "source": [
        "## Conjunto"
      ]
    },
    {
      "cell_type": "code",
      "metadata": {
        "colab": {
          "base_uri": "https://localhost:8080/"
        },
        "id": "YPyj_yzQ4IGH",
        "outputId": "ac191f0a-15a1-405c-f43e-3066b7b57ce8"
      },
      "source": [
        "churras1 = {'carne', 'pão', 'cerveja', 'carne'}\n",
        "churras2 = {'carne', 'caipirinha', 'frango', 'carne'}\n",
        "churras1.union(churras2)\n",
        "churras1.intersection(churras2)"
      ],
      "execution_count": null,
      "outputs": [
        {
          "output_type": "execute_result",
          "data": {
            "text/plain": [
              "{'carne'}"
            ]
          },
          "metadata": {
            "tags": []
          },
          "execution_count": 43
        }
      ]
    },
    {
      "cell_type": "markdown",
      "metadata": {
        "id": "xUhkfWcj46J8"
      },
      "source": [
        "## Importanto uma biblioteca"
      ]
    },
    {
      "cell_type": "code",
      "metadata": {
        "colab": {
          "base_uri": "https://localhost:8080/"
        },
        "id": "HVUE1tLL48tt",
        "outputId": "bb83fd54-afb0-4366-c956-a431be3b9499"
      },
      "source": [
        "import random\n",
        "meujogo = set([34,19,10,29,11,60])\n",
        "sorteio = set(random.sample(range(1,61), k=6))\n",
        "print('Meu jogo:', meujogo)\n",
        "print('Sorteio:', sorteio)\n",
        "\n",
        "acertos = meujogo.intersection(sorteio)\n",
        "numacertos = len(acertos)\n",
        "\n",
        "print('Acertos', acertos)\n",
        "print('#Acertos', numacertos)"
      ],
      "execution_count": null,
      "outputs": [
        {
          "output_type": "stream",
          "text": [
            "Meu jogo: {34, 10, 11, 19, 60, 29}\n",
            "Sorteio: {33, 40, 17, 52, 22, 56}\n",
            "Acertos set()\n",
            "#Acertos 0\n"
          ],
          "name": "stdout"
        }
      ]
    }
  ]
}