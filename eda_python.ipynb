{
  "nbformat": 4,
  "nbformat_minor": 0,
  "metadata": {
    "colab": {
      "name": "EDA.ipynb",
      "provenance": [],
      "authorship_tag": "ABX9TyP7tQDOVslEWJTUTrT54/KS",
      "include_colab_link": true
    },
    "kernelspec": {
      "name": "python3",
      "display_name": "Python 3"
    }
  },
  "cells": [
    {
      "cell_type": "markdown",
      "metadata": {
        "id": "view-in-github",
        "colab_type": "text"
      },
      "source": [
        "<a href=\"https://colab.research.google.com/github/vicctoriia/python_padawan/blob/main/eda_python.ipynb\" target=\"_parent\"><img src=\"https://colab.research.google.com/assets/colab-badge.svg\" alt=\"Open In Colab\"/></a>"
      ]
    },
    {
      "cell_type": "markdown",
      "metadata": {
        "id": "C28aETs3WEiP"
      },
      "source": [
        "# PANDAS \r\n",
        "\r\n"
      ]
    },
    {
      "cell_type": "code",
      "metadata": {
        "colab": {
          "base_uri": "https://localhost:8080/"
        },
        "id": "CucXzk2bWS4h",
        "outputId": "f1e625f3-4f5e-40b5-a14c-3b79a0316392"
      },
      "source": [
        "#Dicionários \r\n",
        "dicionario = {'nome': 'Victoria',  'idade': 23, 'comida_favorita':'camarão'}\r\n",
        "dicionario"
      ],
      "execution_count": 36,
      "outputs": [
        {
          "output_type": "execute_result",
          "data": {
            "text/plain": [
              "{'comida_favorita': 'camarão', 'idade': 23, 'nome': 'Victoria'}"
            ]
          },
          "metadata": {
            "tags": []
          },
          "execution_count": 36
        }
      ]
    },
    {
      "cell_type": "code",
      "metadata": {
        "colab": {
          "base_uri": "https://localhost:8080/"
        },
        "id": "h_0kFHA4Wn_r",
        "outputId": "5ca89aeb-3594-4ad7-dbe3-547f48511d71"
      },
      "source": [
        "dicionario.values() #mais uma forma de guardar códigos \r\n",
        "\r\n"
      ],
      "execution_count": 37,
      "outputs": [
        {
          "output_type": "execute_result",
          "data": {
            "text/plain": [
              "dict_values(['Victoria', 23, 'camarão'])"
            ]
          },
          "metadata": {
            "tags": []
          },
          "execution_count": 37
        }
      ]
    },
    {
      "cell_type": "code",
      "metadata": {
        "id": "IbmU5kyvWyON"
      },
      "source": [
        "#aplicação importante: passar parâmetros para uma função\r\n",
        "parametros = {'loc':0, 'scale': 1, 'size':10}"
      ],
      "execution_count": 38,
      "outputs": []
    },
    {
      "cell_type": "code",
      "metadata": {
        "id": "aUNe2apYW7pt"
      },
      "source": [
        "import numpy as np"
      ],
      "execution_count": 39,
      "outputs": []
    },
    {
      "cell_type": "code",
      "metadata": {
        "colab": {
          "base_uri": "https://localhost:8080/"
        },
        "id": "unQeIfd5W-qJ",
        "outputId": "2c910940-34cd-4a90-f1d4-2ebb454acffe"
      },
      "source": [
        "np.random.normal(**parametros) #dois ** = dicionário "
      ],
      "execution_count": 40,
      "outputs": [
        {
          "output_type": "execute_result",
          "data": {
            "text/plain": [
              "array([-0.65963654,  0.15316554,  0.56249558, -0.52091804,  0.37395443,\n",
              "       -1.2041488 ,  0.82932486,  0.10144806, -1.09760577, -0.17638263])"
            ]
          },
          "metadata": {
            "tags": []
          },
          "execution_count": 40
        }
      ]
    },
    {
      "cell_type": "markdown",
      "metadata": {
        "id": "1yIjQORtXSeK"
      },
      "source": [
        "**Pandas**\r\n",
        "Dois objetos principais\r\n",
        "\r\n",
        "*   *Data frame*: representação bidimensional de dados;\r\n",
        "*   *series*: parecido com array.\r\n",
        "\r\n"
      ]
    },
    {
      "cell_type": "code",
      "metadata": {
        "id": "RpUFQymFXy6u"
      },
      "source": [
        "import pandas as pd\r\n"
      ],
      "execution_count": null,
      "outputs": []
    },
    {
      "cell_type": "code",
      "metadata": {
        "colab": {
          "base_uri": "https://localhost:8080/",
          "height": 359
        },
        "id": "v8gaHHkhX068",
        "outputId": "2fa928de-c662-40a0-e41a-87bc19266cf7"
      },
      "source": [
        "#Criando um conjunto de dados\r\n",
        "\r\n",
        "#Exemplo nota de provas de alunos, de 0 a 10, de 30 alunos.\r\n",
        "x = np.random.uniform(0,10,30).round(1).reshape(10,3) #round: quantas casas você quer depois da vírgula\r\n",
        "#reshape: como você quer apresentar\r\n",
        "x \r\n",
        "colunas = ['P1', 'P2', 'P3']\r\n",
        "índices = ['Alice', 'Bruno', 'Carla', 'David', 'Emily', \r\n",
        "           'Fábio', 'Glória','Hélio', 'Isabela', 'Lucas']\r\n",
        "notas = pd.DataFrame (data= x, index = índices, columns = colunas)\r\n",
        "notas"
      ],
      "execution_count": 41,
      "outputs": [
        {
          "output_type": "execute_result",
          "data": {
            "text/html": [
              "<div>\n",
              "<style scoped>\n",
              "    .dataframe tbody tr th:only-of-type {\n",
              "        vertical-align: middle;\n",
              "    }\n",
              "\n",
              "    .dataframe tbody tr th {\n",
              "        vertical-align: top;\n",
              "    }\n",
              "\n",
              "    .dataframe thead th {\n",
              "        text-align: right;\n",
              "    }\n",
              "</style>\n",
              "<table border=\"1\" class=\"dataframe\">\n",
              "  <thead>\n",
              "    <tr style=\"text-align: right;\">\n",
              "      <th></th>\n",
              "      <th>P1</th>\n",
              "      <th>P2</th>\n",
              "      <th>P3</th>\n",
              "    </tr>\n",
              "  </thead>\n",
              "  <tbody>\n",
              "    <tr>\n",
              "      <th>Alice</th>\n",
              "      <td>7.8</td>\n",
              "      <td>2.2</td>\n",
              "      <td>1.6</td>\n",
              "    </tr>\n",
              "    <tr>\n",
              "      <th>Bruno</th>\n",
              "      <td>5.6</td>\n",
              "      <td>2.6</td>\n",
              "      <td>8.8</td>\n",
              "    </tr>\n",
              "    <tr>\n",
              "      <th>Carla</th>\n",
              "      <td>9.0</td>\n",
              "      <td>7.3</td>\n",
              "      <td>2.3</td>\n",
              "    </tr>\n",
              "    <tr>\n",
              "      <th>David</th>\n",
              "      <td>4.1</td>\n",
              "      <td>8.4</td>\n",
              "      <td>9.4</td>\n",
              "    </tr>\n",
              "    <tr>\n",
              "      <th>Emily</th>\n",
              "      <td>8.0</td>\n",
              "      <td>6.1</td>\n",
              "      <td>2.9</td>\n",
              "    </tr>\n",
              "    <tr>\n",
              "      <th>Fábio</th>\n",
              "      <td>10.0</td>\n",
              "      <td>6.0</td>\n",
              "      <td>6.0</td>\n",
              "    </tr>\n",
              "    <tr>\n",
              "      <th>Glória</th>\n",
              "      <td>7.8</td>\n",
              "      <td>9.9</td>\n",
              "      <td>1.2</td>\n",
              "    </tr>\n",
              "    <tr>\n",
              "      <th>Hélio</th>\n",
              "      <td>3.8</td>\n",
              "      <td>7.6</td>\n",
              "      <td>3.7</td>\n",
              "    </tr>\n",
              "    <tr>\n",
              "      <th>Isabela</th>\n",
              "      <td>4.3</td>\n",
              "      <td>0.9</td>\n",
              "      <td>6.5</td>\n",
              "    </tr>\n",
              "    <tr>\n",
              "      <th>Lucas</th>\n",
              "      <td>9.5</td>\n",
              "      <td>1.9</td>\n",
              "      <td>6.1</td>\n",
              "    </tr>\n",
              "  </tbody>\n",
              "</table>\n",
              "</div>"
            ],
            "text/plain": [
              "           P1   P2   P3\n",
              "Alice     7.8  2.2  1.6\n",
              "Bruno     5.6  2.6  8.8\n",
              "Carla     9.0  7.3  2.3\n",
              "David     4.1  8.4  9.4\n",
              "Emily     8.0  6.1  2.9\n",
              "Fábio    10.0  6.0  6.0\n",
              "Glória    7.8  9.9  1.2\n",
              "Hélio     3.8  7.6  3.7\n",
              "Isabela   4.3  0.9  6.5\n",
              "Lucas     9.5  1.9  6.1"
            ]
          },
          "metadata": {
            "tags": []
          },
          "execution_count": 41
        }
      ]
    },
    {
      "cell_type": "code",
      "metadata": {
        "colab": {
          "base_uri": "https://localhost:8080/",
          "height": 297
        },
        "id": "ySFlhXx2ZlD2",
        "outputId": "d04c030b-f580-4a7e-a027-e8db0c1faaa7"
      },
      "source": [
        "#Data.frame tem muitos métodos particulares!\r\n",
        "\r\n",
        "notas.describe()\r\n"
      ],
      "execution_count": null,
      "outputs": [
        {
          "output_type": "execute_result",
          "data": {
            "text/html": [
              "<div>\n",
              "<style scoped>\n",
              "    .dataframe tbody tr th:only-of-type {\n",
              "        vertical-align: middle;\n",
              "    }\n",
              "\n",
              "    .dataframe tbody tr th {\n",
              "        vertical-align: top;\n",
              "    }\n",
              "\n",
              "    .dataframe thead th {\n",
              "        text-align: right;\n",
              "    }\n",
              "</style>\n",
              "<table border=\"1\" class=\"dataframe\">\n",
              "  <thead>\n",
              "    <tr style=\"text-align: right;\">\n",
              "      <th></th>\n",
              "      <th>P1</th>\n",
              "      <th>P2</th>\n",
              "      <th>P3</th>\n",
              "    </tr>\n",
              "  </thead>\n",
              "  <tbody>\n",
              "    <tr>\n",
              "      <th>count</th>\n",
              "      <td>10.000000</td>\n",
              "      <td>10.000000</td>\n",
              "      <td>10.000000</td>\n",
              "    </tr>\n",
              "    <tr>\n",
              "      <th>mean</th>\n",
              "      <td>5.080000</td>\n",
              "      <td>5.550000</td>\n",
              "      <td>3.870000</td>\n",
              "    </tr>\n",
              "    <tr>\n",
              "      <th>std</th>\n",
              "      <td>3.304139</td>\n",
              "      <td>3.080494</td>\n",
              "      <td>3.099122</td>\n",
              "    </tr>\n",
              "    <tr>\n",
              "      <th>min</th>\n",
              "      <td>1.100000</td>\n",
              "      <td>1.800000</td>\n",
              "      <td>0.200000</td>\n",
              "    </tr>\n",
              "    <tr>\n",
              "      <th>25%</th>\n",
              "      <td>2.125000</td>\n",
              "      <td>2.900000</td>\n",
              "      <td>0.925000</td>\n",
              "    </tr>\n",
              "    <tr>\n",
              "      <th>50%</th>\n",
              "      <td>4.850000</td>\n",
              "      <td>5.700000</td>\n",
              "      <td>3.850000</td>\n",
              "    </tr>\n",
              "    <tr>\n",
              "      <th>75%</th>\n",
              "      <td>7.475000</td>\n",
              "      <td>7.950000</td>\n",
              "      <td>6.125000</td>\n",
              "    </tr>\n",
              "    <tr>\n",
              "      <th>max</th>\n",
              "      <td>9.800000</td>\n",
              "      <td>9.600000</td>\n",
              "      <td>8.900000</td>\n",
              "    </tr>\n",
              "  </tbody>\n",
              "</table>\n",
              "</div>"
            ],
            "text/plain": [
              "              P1         P2         P3\n",
              "count  10.000000  10.000000  10.000000\n",
              "mean    5.080000   5.550000   3.870000\n",
              "std     3.304139   3.080494   3.099122\n",
              "min     1.100000   1.800000   0.200000\n",
              "25%     2.125000   2.900000   0.925000\n",
              "50%     4.850000   5.700000   3.850000\n",
              "75%     7.475000   7.950000   6.125000\n",
              "max     9.800000   9.600000   8.900000"
            ]
          },
          "metadata": {
            "tags": []
          },
          "execution_count": 16
        }
      ]
    },
    {
      "cell_type": "code",
      "metadata": {
        "id": "-U3FEgiZZ4jN"
      },
      "source": [
        "notas.info()"
      ],
      "execution_count": null,
      "outputs": []
    },
    {
      "cell_type": "code",
      "metadata": {
        "colab": {
          "base_uri": "https://localhost:8080/",
          "height": 317
        },
        "id": "-L2wBzjPZzN5",
        "outputId": "732658a2-b405-449f-b62a-efdc8cf1bc7c"
      },
      "source": [
        "notas.transpose().describe()"
      ],
      "execution_count": null,
      "outputs": [
        {
          "output_type": "execute_result",
          "data": {
            "text/html": [
              "<div>\n",
              "<style scoped>\n",
              "    .dataframe tbody tr th:only-of-type {\n",
              "        vertical-align: middle;\n",
              "    }\n",
              "\n",
              "    .dataframe tbody tr th {\n",
              "        vertical-align: top;\n",
              "    }\n",
              "\n",
              "    .dataframe thead th {\n",
              "        text-align: right;\n",
              "    }\n",
              "</style>\n",
              "<table border=\"1\" class=\"dataframe\">\n",
              "  <thead>\n",
              "    <tr style=\"text-align: right;\">\n",
              "      <th></th>\n",
              "      <th>Alice</th>\n",
              "      <th>Bruno</th>\n",
              "      <th>Carla</th>\n",
              "      <th>David</th>\n",
              "      <th>Emily</th>\n",
              "      <th>Fábio</th>\n",
              "      <th>Glória</th>\n",
              "      <th>Hélio</th>\n",
              "      <th>Isabela</th>\n",
              "      <th>Lucas</th>\n",
              "    </tr>\n",
              "  </thead>\n",
              "  <tbody>\n",
              "    <tr>\n",
              "      <th>count</th>\n",
              "      <td>3.000000</td>\n",
              "      <td>3.000000</td>\n",
              "      <td>3.000000</td>\n",
              "      <td>3.000000</td>\n",
              "      <td>3.000000</td>\n",
              "      <td>3.000000</td>\n",
              "      <td>3.000000</td>\n",
              "      <td>3.000000</td>\n",
              "      <td>3.000000</td>\n",
              "      <td>3.000000</td>\n",
              "    </tr>\n",
              "    <tr>\n",
              "      <th>mean</th>\n",
              "      <td>4.466667</td>\n",
              "      <td>4.766667</td>\n",
              "      <td>5.733333</td>\n",
              "      <td>5.000000</td>\n",
              "      <td>5.466667</td>\n",
              "      <td>5.933333</td>\n",
              "      <td>6.533333</td>\n",
              "      <td>3.500000</td>\n",
              "      <td>1.533333</td>\n",
              "      <td>5.400000</td>\n",
              "    </tr>\n",
              "    <tr>\n",
              "      <th>std</th>\n",
              "      <td>2.809508</td>\n",
              "      <td>2.470493</td>\n",
              "      <td>4.826317</td>\n",
              "      <td>4.293018</td>\n",
              "      <td>2.050203</td>\n",
              "      <td>3.843609</td>\n",
              "      <td>2.970410</td>\n",
              "      <td>4.084116</td>\n",
              "      <td>1.301281</td>\n",
              "      <td>3.601389</td>\n",
              "    </tr>\n",
              "    <tr>\n",
              "      <th>min</th>\n",
              "      <td>1.800000</td>\n",
              "      <td>2.500000</td>\n",
              "      <td>0.400000</td>\n",
              "      <td>1.100000</td>\n",
              "      <td>3.400000</td>\n",
              "      <td>1.800000</td>\n",
              "      <td>3.200000</td>\n",
              "      <td>0.300000</td>\n",
              "      <td>0.200000</td>\n",
              "      <td>2.200000</td>\n",
              "    </tr>\n",
              "    <tr>\n",
              "      <th>25%</th>\n",
              "      <td>3.000000</td>\n",
              "      <td>3.450000</td>\n",
              "      <td>3.700000</td>\n",
              "      <td>2.700000</td>\n",
              "      <td>4.450000</td>\n",
              "      <td>4.200000</td>\n",
              "      <td>5.350000</td>\n",
              "      <td>1.200000</td>\n",
              "      <td>0.900000</td>\n",
              "      <td>3.450000</td>\n",
              "    </tr>\n",
              "    <tr>\n",
              "      <th>50%</th>\n",
              "      <td>4.200000</td>\n",
              "      <td>4.400000</td>\n",
              "      <td>7.000000</td>\n",
              "      <td>4.300000</td>\n",
              "      <td>5.500000</td>\n",
              "      <td>6.600000</td>\n",
              "      <td>7.500000</td>\n",
              "      <td>2.100000</td>\n",
              "      <td>1.600000</td>\n",
              "      <td>4.700000</td>\n",
              "    </tr>\n",
              "    <tr>\n",
              "      <th>75%</th>\n",
              "      <td>5.800000</td>\n",
              "      <td>5.900000</td>\n",
              "      <td>8.400000</td>\n",
              "      <td>6.950000</td>\n",
              "      <td>6.500000</td>\n",
              "      <td>8.000000</td>\n",
              "      <td>8.200000</td>\n",
              "      <td>5.100000</td>\n",
              "      <td>2.200000</td>\n",
              "      <td>7.000000</td>\n",
              "    </tr>\n",
              "    <tr>\n",
              "      <th>max</th>\n",
              "      <td>7.400000</td>\n",
              "      <td>7.400000</td>\n",
              "      <td>9.800000</td>\n",
              "      <td>9.600000</td>\n",
              "      <td>7.500000</td>\n",
              "      <td>9.400000</td>\n",
              "      <td>8.900000</td>\n",
              "      <td>8.100000</td>\n",
              "      <td>2.800000</td>\n",
              "      <td>9.300000</td>\n",
              "    </tr>\n",
              "  </tbody>\n",
              "</table>\n",
              "</div>"
            ],
            "text/plain": [
              "          Alice     Bruno     Carla  ...     Hélio   Isabela     Lucas\n",
              "count  3.000000  3.000000  3.000000  ...  3.000000  3.000000  3.000000\n",
              "mean   4.466667  4.766667  5.733333  ...  3.500000  1.533333  5.400000\n",
              "std    2.809508  2.470493  4.826317  ...  4.084116  1.301281  3.601389\n",
              "min    1.800000  2.500000  0.400000  ...  0.300000  0.200000  2.200000\n",
              "25%    3.000000  3.450000  3.700000  ...  1.200000  0.900000  3.450000\n",
              "50%    4.200000  4.400000  7.000000  ...  2.100000  1.600000  4.700000\n",
              "75%    5.800000  5.900000  8.400000  ...  5.100000  2.200000  7.000000\n",
              "max    7.400000  7.400000  9.800000  ...  8.100000  2.800000  9.300000\n",
              "\n",
              "[8 rows x 10 columns]"
            ]
          },
          "metadata": {
            "tags": []
          },
          "execution_count": 18
        }
      ]
    },
    {
      "cell_type": "code",
      "metadata": {
        "colab": {
          "base_uri": "https://localhost:8080/",
          "height": 142
        },
        "id": "_pPUAU3CZ9Of",
        "outputId": "298f52cf-fffd-4060-e886-ab01961b7e14"
      },
      "source": [
        "notas.head(3) #mostra apenas as três primeiras linhas"
      ],
      "execution_count": null,
      "outputs": [
        {
          "output_type": "execute_result",
          "data": {
            "text/html": [
              "<div>\n",
              "<style scoped>\n",
              "    .dataframe tbody tr th:only-of-type {\n",
              "        vertical-align: middle;\n",
              "    }\n",
              "\n",
              "    .dataframe tbody tr th {\n",
              "        vertical-align: top;\n",
              "    }\n",
              "\n",
              "    .dataframe thead th {\n",
              "        text-align: right;\n",
              "    }\n",
              "</style>\n",
              "<table border=\"1\" class=\"dataframe\">\n",
              "  <thead>\n",
              "    <tr style=\"text-align: right;\">\n",
              "      <th></th>\n",
              "      <th>P1</th>\n",
              "      <th>P2</th>\n",
              "      <th>P3</th>\n",
              "    </tr>\n",
              "  </thead>\n",
              "  <tbody>\n",
              "    <tr>\n",
              "      <th>Alice</th>\n",
              "      <td>4.2</td>\n",
              "      <td>1.8</td>\n",
              "      <td>7.4</td>\n",
              "    </tr>\n",
              "    <tr>\n",
              "      <th>Bruno</th>\n",
              "      <td>7.4</td>\n",
              "      <td>4.4</td>\n",
              "      <td>2.5</td>\n",
              "    </tr>\n",
              "    <tr>\n",
              "      <th>Carla</th>\n",
              "      <td>9.8</td>\n",
              "      <td>7.0</td>\n",
              "      <td>0.4</td>\n",
              "    </tr>\n",
              "  </tbody>\n",
              "</table>\n",
              "</div>"
            ],
            "text/plain": [
              "        P1   P2   P3\n",
              "Alice  4.2  1.8  7.4\n",
              "Bruno  7.4  4.4  2.5\n",
              "Carla  9.8  7.0  0.4"
            ]
          },
          "metadata": {
            "tags": []
          },
          "execution_count": 20
        }
      ]
    },
    {
      "cell_type": "code",
      "metadata": {
        "id": "_A3YfwoTaGaT"
      },
      "source": [
        "notas.tail(1) #1 = último elemento"
      ],
      "execution_count": null,
      "outputs": []
    },
    {
      "cell_type": "code",
      "metadata": {
        "colab": {
          "base_uri": "https://localhost:8080/"
        },
        "id": "7u4xnhPWbP8k",
        "outputId": "85494acd-1a4a-43e7-d90b-3136fafef806"
      },
      "source": [
        "notas.shape"
      ],
      "execution_count": null,
      "outputs": [
        {
          "output_type": "execute_result",
          "data": {
            "text/plain": [
              "(10, 3)"
            ]
          },
          "metadata": {
            "tags": []
          },
          "execution_count": 22
        }
      ]
    },
    {
      "cell_type": "code",
      "metadata": {
        "colab": {
          "base_uri": "https://localhost:8080/"
        },
        "id": "grkRNzzybXiV",
        "outputId": "387b0061-9c4c-468d-93ac-533b3e7e5017"
      },
      "source": [
        "notas['P1'] #seleciona só coluna que você deseja"
      ],
      "execution_count": null,
      "outputs": [
        {
          "output_type": "execute_result",
          "data": {
            "text/plain": [
              "Alice      4.2\n",
              "Bruno      7.4\n",
              "Carla      9.8\n",
              "David      1.1\n",
              "Emily      5.5\n",
              "Fábio      9.4\n",
              "Glória     7.5\n",
              "Hélio      2.1\n",
              "Isabela    1.6\n",
              "Lucas      2.2\n",
              "Name: P1, dtype: float64"
            ]
          },
          "metadata": {
            "tags": []
          },
          "execution_count": 23
        }
      ]
    },
    {
      "cell_type": "code",
      "metadata": {
        "colab": {
          "base_uri": "https://localhost:8080/",
          "height": 359
        },
        "id": "w30_oho7bp74",
        "outputId": "55677ef1-da46-466b-aed7-5a3337a755d3"
      },
      "source": [
        "notas['Média_Final'] = notas.mean(axis = 1).round(1)\r\n",
        "notas"
      ],
      "execution_count": 42,
      "outputs": [
        {
          "output_type": "execute_result",
          "data": {
            "text/html": [
              "<div>\n",
              "<style scoped>\n",
              "    .dataframe tbody tr th:only-of-type {\n",
              "        vertical-align: middle;\n",
              "    }\n",
              "\n",
              "    .dataframe tbody tr th {\n",
              "        vertical-align: top;\n",
              "    }\n",
              "\n",
              "    .dataframe thead th {\n",
              "        text-align: right;\n",
              "    }\n",
              "</style>\n",
              "<table border=\"1\" class=\"dataframe\">\n",
              "  <thead>\n",
              "    <tr style=\"text-align: right;\">\n",
              "      <th></th>\n",
              "      <th>P1</th>\n",
              "      <th>P2</th>\n",
              "      <th>P3</th>\n",
              "      <th>Média_Final</th>\n",
              "    </tr>\n",
              "  </thead>\n",
              "  <tbody>\n",
              "    <tr>\n",
              "      <th>Alice</th>\n",
              "      <td>7.8</td>\n",
              "      <td>2.2</td>\n",
              "      <td>1.6</td>\n",
              "      <td>3.9</td>\n",
              "    </tr>\n",
              "    <tr>\n",
              "      <th>Bruno</th>\n",
              "      <td>5.6</td>\n",
              "      <td>2.6</td>\n",
              "      <td>8.8</td>\n",
              "      <td>5.7</td>\n",
              "    </tr>\n",
              "    <tr>\n",
              "      <th>Carla</th>\n",
              "      <td>9.0</td>\n",
              "      <td>7.3</td>\n",
              "      <td>2.3</td>\n",
              "      <td>6.2</td>\n",
              "    </tr>\n",
              "    <tr>\n",
              "      <th>David</th>\n",
              "      <td>4.1</td>\n",
              "      <td>8.4</td>\n",
              "      <td>9.4</td>\n",
              "      <td>7.3</td>\n",
              "    </tr>\n",
              "    <tr>\n",
              "      <th>Emily</th>\n",
              "      <td>8.0</td>\n",
              "      <td>6.1</td>\n",
              "      <td>2.9</td>\n",
              "      <td>5.7</td>\n",
              "    </tr>\n",
              "    <tr>\n",
              "      <th>Fábio</th>\n",
              "      <td>10.0</td>\n",
              "      <td>6.0</td>\n",
              "      <td>6.0</td>\n",
              "      <td>7.3</td>\n",
              "    </tr>\n",
              "    <tr>\n",
              "      <th>Glória</th>\n",
              "      <td>7.8</td>\n",
              "      <td>9.9</td>\n",
              "      <td>1.2</td>\n",
              "      <td>6.3</td>\n",
              "    </tr>\n",
              "    <tr>\n",
              "      <th>Hélio</th>\n",
              "      <td>3.8</td>\n",
              "      <td>7.6</td>\n",
              "      <td>3.7</td>\n",
              "      <td>5.0</td>\n",
              "    </tr>\n",
              "    <tr>\n",
              "      <th>Isabela</th>\n",
              "      <td>4.3</td>\n",
              "      <td>0.9</td>\n",
              "      <td>6.5</td>\n",
              "      <td>3.9</td>\n",
              "    </tr>\n",
              "    <tr>\n",
              "      <th>Lucas</th>\n",
              "      <td>9.5</td>\n",
              "      <td>1.9</td>\n",
              "      <td>6.1</td>\n",
              "      <td>5.8</td>\n",
              "    </tr>\n",
              "  </tbody>\n",
              "</table>\n",
              "</div>"
            ],
            "text/plain": [
              "           P1   P2   P3  Média_Final\n",
              "Alice     7.8  2.2  1.6          3.9\n",
              "Bruno     5.6  2.6  8.8          5.7\n",
              "Carla     9.0  7.3  2.3          6.2\n",
              "David     4.1  8.4  9.4          7.3\n",
              "Emily     8.0  6.1  2.9          5.7\n",
              "Fábio    10.0  6.0  6.0          7.3\n",
              "Glória    7.8  9.9  1.2          6.3\n",
              "Hélio     3.8  7.6  3.7          5.0\n",
              "Isabela   4.3  0.9  6.5          3.9\n",
              "Lucas     9.5  1.9  6.1          5.8"
            ]
          },
          "metadata": {
            "tags": []
          },
          "execution_count": 42
        }
      ]
    },
    {
      "cell_type": "code",
      "metadata": {
        "id": "tPRVQJGycU09"
      },
      "source": [
        "def aux(x):\r\n",
        "    if x < 5:\r\n",
        "       return 'Reprovado'\r\n",
        "    else: \r\n",
        "      return 'Aprovado'    \r\n"
      ],
      "execution_count": 47,
      "outputs": []
    },
    {
      "cell_type": "code",
      "metadata": {
        "colab": {
          "base_uri": "https://localhost:8080/",
          "height": 35
        },
        "id": "FpmDj8s2cv43",
        "outputId": "a9ec81fc-187e-464c-b2cf-a654e78fe897"
      },
      "source": [
        "aux(2)"
      ],
      "execution_count": 48,
      "outputs": [
        {
          "output_type": "execute_result",
          "data": {
            "application/vnd.google.colaboratory.intrinsic+json": {
              "type": "string"
            },
            "text/plain": [
              "'Reprovado'"
            ]
          },
          "metadata": {
            "tags": []
          },
          "execution_count": 48
        }
      ]
    },
    {
      "cell_type": "code",
      "metadata": {
        "id": "4M7xg2M1cxj4",
        "colab": {
          "base_uri": "https://localhost:8080/",
          "height": 359
        },
        "outputId": "2ec5dd37-dda8-4450-a37a-59f0a94d9bbf"
      },
      "source": [
        "notas['Situação'] = notas['Média_Final'].apply(aux)\r\n",
        "notas"
      ],
      "execution_count": 51,
      "outputs": [
        {
          "output_type": "execute_result",
          "data": {
            "text/html": [
              "<div>\n",
              "<style scoped>\n",
              "    .dataframe tbody tr th:only-of-type {\n",
              "        vertical-align: middle;\n",
              "    }\n",
              "\n",
              "    .dataframe tbody tr th {\n",
              "        vertical-align: top;\n",
              "    }\n",
              "\n",
              "    .dataframe thead th {\n",
              "        text-align: right;\n",
              "    }\n",
              "</style>\n",
              "<table border=\"1\" class=\"dataframe\">\n",
              "  <thead>\n",
              "    <tr style=\"text-align: right;\">\n",
              "      <th></th>\n",
              "      <th>P1</th>\n",
              "      <th>P2</th>\n",
              "      <th>P3</th>\n",
              "      <th>Média_Final</th>\n",
              "      <th>Situação</th>\n",
              "    </tr>\n",
              "  </thead>\n",
              "  <tbody>\n",
              "    <tr>\n",
              "      <th>Alice</th>\n",
              "      <td>7.8</td>\n",
              "      <td>2.2</td>\n",
              "      <td>1.6</td>\n",
              "      <td>3.9</td>\n",
              "      <td>Reprovado</td>\n",
              "    </tr>\n",
              "    <tr>\n",
              "      <th>Bruno</th>\n",
              "      <td>5.6</td>\n",
              "      <td>2.6</td>\n",
              "      <td>8.8</td>\n",
              "      <td>5.7</td>\n",
              "      <td>Aprovado</td>\n",
              "    </tr>\n",
              "    <tr>\n",
              "      <th>Carla</th>\n",
              "      <td>9.0</td>\n",
              "      <td>7.3</td>\n",
              "      <td>2.3</td>\n",
              "      <td>6.2</td>\n",
              "      <td>Aprovado</td>\n",
              "    </tr>\n",
              "    <tr>\n",
              "      <th>David</th>\n",
              "      <td>4.1</td>\n",
              "      <td>8.4</td>\n",
              "      <td>9.4</td>\n",
              "      <td>7.3</td>\n",
              "      <td>Aprovado</td>\n",
              "    </tr>\n",
              "    <tr>\n",
              "      <th>Emily</th>\n",
              "      <td>8.0</td>\n",
              "      <td>6.1</td>\n",
              "      <td>2.9</td>\n",
              "      <td>5.7</td>\n",
              "      <td>Aprovado</td>\n",
              "    </tr>\n",
              "    <tr>\n",
              "      <th>Fábio</th>\n",
              "      <td>10.0</td>\n",
              "      <td>6.0</td>\n",
              "      <td>6.0</td>\n",
              "      <td>7.3</td>\n",
              "      <td>Aprovado</td>\n",
              "    </tr>\n",
              "    <tr>\n",
              "      <th>Glória</th>\n",
              "      <td>7.8</td>\n",
              "      <td>9.9</td>\n",
              "      <td>1.2</td>\n",
              "      <td>6.3</td>\n",
              "      <td>Aprovado</td>\n",
              "    </tr>\n",
              "    <tr>\n",
              "      <th>Hélio</th>\n",
              "      <td>3.8</td>\n",
              "      <td>7.6</td>\n",
              "      <td>3.7</td>\n",
              "      <td>5.0</td>\n",
              "      <td>Aprovado</td>\n",
              "    </tr>\n",
              "    <tr>\n",
              "      <th>Isabela</th>\n",
              "      <td>4.3</td>\n",
              "      <td>0.9</td>\n",
              "      <td>6.5</td>\n",
              "      <td>3.9</td>\n",
              "      <td>Reprovado</td>\n",
              "    </tr>\n",
              "    <tr>\n",
              "      <th>Lucas</th>\n",
              "      <td>9.5</td>\n",
              "      <td>1.9</td>\n",
              "      <td>6.1</td>\n",
              "      <td>5.8</td>\n",
              "      <td>Aprovado</td>\n",
              "    </tr>\n",
              "  </tbody>\n",
              "</table>\n",
              "</div>"
            ],
            "text/plain": [
              "           P1   P2   P3  Média_Final   Situação\n",
              "Alice     7.8  2.2  1.6          3.9  Reprovado\n",
              "Bruno     5.6  2.6  8.8          5.7   Aprovado\n",
              "Carla     9.0  7.3  2.3          6.2   Aprovado\n",
              "David     4.1  8.4  9.4          7.3   Aprovado\n",
              "Emily     8.0  6.1  2.9          5.7   Aprovado\n",
              "Fábio    10.0  6.0  6.0          7.3   Aprovado\n",
              "Glória    7.8  9.9  1.2          6.3   Aprovado\n",
              "Hélio     3.8  7.6  3.7          5.0   Aprovado\n",
              "Isabela   4.3  0.9  6.5          3.9  Reprovado\n",
              "Lucas     9.5  1.9  6.1          5.8   Aprovado"
            ]
          },
          "metadata": {
            "tags": []
          },
          "execution_count": 51
        }
      ]
    },
    {
      "cell_type": "code",
      "metadata": {
        "colab": {
          "base_uri": "https://localhost:8080/",
          "height": 359
        },
        "id": "uxE3bTbbdMZ3",
        "outputId": "48c5783f-ee7b-41b5-cc59-ad7a35049612"
      },
      "source": [
        "sexo = ['F', 'M']*5\r\n",
        "notas['Sexo'] = sexo\r\n",
        "notas"
      ],
      "execution_count": 54,
      "outputs": [
        {
          "output_type": "execute_result",
          "data": {
            "text/html": [
              "<div>\n",
              "<style scoped>\n",
              "    .dataframe tbody tr th:only-of-type {\n",
              "        vertical-align: middle;\n",
              "    }\n",
              "\n",
              "    .dataframe tbody tr th {\n",
              "        vertical-align: top;\n",
              "    }\n",
              "\n",
              "    .dataframe thead th {\n",
              "        text-align: right;\n",
              "    }\n",
              "</style>\n",
              "<table border=\"1\" class=\"dataframe\">\n",
              "  <thead>\n",
              "    <tr style=\"text-align: right;\">\n",
              "      <th></th>\n",
              "      <th>P1</th>\n",
              "      <th>P2</th>\n",
              "      <th>P3</th>\n",
              "      <th>Média_Final</th>\n",
              "      <th>Situação</th>\n",
              "      <th>Sexo</th>\n",
              "    </tr>\n",
              "  </thead>\n",
              "  <tbody>\n",
              "    <tr>\n",
              "      <th>Alice</th>\n",
              "      <td>7.8</td>\n",
              "      <td>2.2</td>\n",
              "      <td>1.6</td>\n",
              "      <td>3.9</td>\n",
              "      <td>Reprovado</td>\n",
              "      <td>F</td>\n",
              "    </tr>\n",
              "    <tr>\n",
              "      <th>Bruno</th>\n",
              "      <td>5.6</td>\n",
              "      <td>2.6</td>\n",
              "      <td>8.8</td>\n",
              "      <td>5.7</td>\n",
              "      <td>Aprovado</td>\n",
              "      <td>M</td>\n",
              "    </tr>\n",
              "    <tr>\n",
              "      <th>Carla</th>\n",
              "      <td>9.0</td>\n",
              "      <td>7.3</td>\n",
              "      <td>2.3</td>\n",
              "      <td>6.2</td>\n",
              "      <td>Aprovado</td>\n",
              "      <td>F</td>\n",
              "    </tr>\n",
              "    <tr>\n",
              "      <th>David</th>\n",
              "      <td>4.1</td>\n",
              "      <td>8.4</td>\n",
              "      <td>9.4</td>\n",
              "      <td>7.3</td>\n",
              "      <td>Aprovado</td>\n",
              "      <td>M</td>\n",
              "    </tr>\n",
              "    <tr>\n",
              "      <th>Emily</th>\n",
              "      <td>8.0</td>\n",
              "      <td>6.1</td>\n",
              "      <td>2.9</td>\n",
              "      <td>5.7</td>\n",
              "      <td>Aprovado</td>\n",
              "      <td>F</td>\n",
              "    </tr>\n",
              "    <tr>\n",
              "      <th>Fábio</th>\n",
              "      <td>10.0</td>\n",
              "      <td>6.0</td>\n",
              "      <td>6.0</td>\n",
              "      <td>7.3</td>\n",
              "      <td>Aprovado</td>\n",
              "      <td>M</td>\n",
              "    </tr>\n",
              "    <tr>\n",
              "      <th>Glória</th>\n",
              "      <td>7.8</td>\n",
              "      <td>9.9</td>\n",
              "      <td>1.2</td>\n",
              "      <td>6.3</td>\n",
              "      <td>Aprovado</td>\n",
              "      <td>F</td>\n",
              "    </tr>\n",
              "    <tr>\n",
              "      <th>Hélio</th>\n",
              "      <td>3.8</td>\n",
              "      <td>7.6</td>\n",
              "      <td>3.7</td>\n",
              "      <td>5.0</td>\n",
              "      <td>Aprovado</td>\n",
              "      <td>M</td>\n",
              "    </tr>\n",
              "    <tr>\n",
              "      <th>Isabela</th>\n",
              "      <td>4.3</td>\n",
              "      <td>0.9</td>\n",
              "      <td>6.5</td>\n",
              "      <td>3.9</td>\n",
              "      <td>Reprovado</td>\n",
              "      <td>F</td>\n",
              "    </tr>\n",
              "    <tr>\n",
              "      <th>Lucas</th>\n",
              "      <td>9.5</td>\n",
              "      <td>1.9</td>\n",
              "      <td>6.1</td>\n",
              "      <td>5.8</td>\n",
              "      <td>Aprovado</td>\n",
              "      <td>M</td>\n",
              "    </tr>\n",
              "  </tbody>\n",
              "</table>\n",
              "</div>"
            ],
            "text/plain": [
              "           P1   P2   P3  Média_Final   Situação Sexo\n",
              "Alice     7.8  2.2  1.6          3.9  Reprovado    F\n",
              "Bruno     5.6  2.6  8.8          5.7   Aprovado    M\n",
              "Carla     9.0  7.3  2.3          6.2   Aprovado    F\n",
              "David     4.1  8.4  9.4          7.3   Aprovado    M\n",
              "Emily     8.0  6.1  2.9          5.7   Aprovado    F\n",
              "Fábio    10.0  6.0  6.0          7.3   Aprovado    M\n",
              "Glória    7.8  9.9  1.2          6.3   Aprovado    F\n",
              "Hélio     3.8  7.6  3.7          5.0   Aprovado    M\n",
              "Isabela   4.3  0.9  6.5          3.9  Reprovado    F\n",
              "Lucas     9.5  1.9  6.1          5.8   Aprovado    M"
            ]
          },
          "metadata": {
            "tags": []
          },
          "execution_count": 54
        }
      ]
    },
    {
      "cell_type": "code",
      "metadata": {
        "colab": {
          "base_uri": "https://localhost:8080/",
          "height": 359
        },
        "id": "riX9CT7BdgsE",
        "outputId": "37a1cf20-4f7d-4b64-f183-74e214ccc70a"
      },
      "source": [
        "notas.sort_values(by = 'Média_Final', ascending = False) #ordenando"
      ],
      "execution_count": 58,
      "outputs": [
        {
          "output_type": "execute_result",
          "data": {
            "text/html": [
              "<div>\n",
              "<style scoped>\n",
              "    .dataframe tbody tr th:only-of-type {\n",
              "        vertical-align: middle;\n",
              "    }\n",
              "\n",
              "    .dataframe tbody tr th {\n",
              "        vertical-align: top;\n",
              "    }\n",
              "\n",
              "    .dataframe thead th {\n",
              "        text-align: right;\n",
              "    }\n",
              "</style>\n",
              "<table border=\"1\" class=\"dataframe\">\n",
              "  <thead>\n",
              "    <tr style=\"text-align: right;\">\n",
              "      <th></th>\n",
              "      <th>P1</th>\n",
              "      <th>P2</th>\n",
              "      <th>P3</th>\n",
              "      <th>Média_Final</th>\n",
              "      <th>Situação</th>\n",
              "      <th>Sexo</th>\n",
              "    </tr>\n",
              "  </thead>\n",
              "  <tbody>\n",
              "    <tr>\n",
              "      <th>David</th>\n",
              "      <td>4.1</td>\n",
              "      <td>8.4</td>\n",
              "      <td>9.4</td>\n",
              "      <td>7.3</td>\n",
              "      <td>Aprovado</td>\n",
              "      <td>M</td>\n",
              "    </tr>\n",
              "    <tr>\n",
              "      <th>Fábio</th>\n",
              "      <td>10.0</td>\n",
              "      <td>6.0</td>\n",
              "      <td>6.0</td>\n",
              "      <td>7.3</td>\n",
              "      <td>Aprovado</td>\n",
              "      <td>M</td>\n",
              "    </tr>\n",
              "    <tr>\n",
              "      <th>Glória</th>\n",
              "      <td>7.8</td>\n",
              "      <td>9.9</td>\n",
              "      <td>1.2</td>\n",
              "      <td>6.3</td>\n",
              "      <td>Aprovado</td>\n",
              "      <td>F</td>\n",
              "    </tr>\n",
              "    <tr>\n",
              "      <th>Carla</th>\n",
              "      <td>9.0</td>\n",
              "      <td>7.3</td>\n",
              "      <td>2.3</td>\n",
              "      <td>6.2</td>\n",
              "      <td>Aprovado</td>\n",
              "      <td>F</td>\n",
              "    </tr>\n",
              "    <tr>\n",
              "      <th>Lucas</th>\n",
              "      <td>9.5</td>\n",
              "      <td>1.9</td>\n",
              "      <td>6.1</td>\n",
              "      <td>5.8</td>\n",
              "      <td>Aprovado</td>\n",
              "      <td>M</td>\n",
              "    </tr>\n",
              "    <tr>\n",
              "      <th>Bruno</th>\n",
              "      <td>5.6</td>\n",
              "      <td>2.6</td>\n",
              "      <td>8.8</td>\n",
              "      <td>5.7</td>\n",
              "      <td>Aprovado</td>\n",
              "      <td>M</td>\n",
              "    </tr>\n",
              "    <tr>\n",
              "      <th>Emily</th>\n",
              "      <td>8.0</td>\n",
              "      <td>6.1</td>\n",
              "      <td>2.9</td>\n",
              "      <td>5.7</td>\n",
              "      <td>Aprovado</td>\n",
              "      <td>F</td>\n",
              "    </tr>\n",
              "    <tr>\n",
              "      <th>Hélio</th>\n",
              "      <td>3.8</td>\n",
              "      <td>7.6</td>\n",
              "      <td>3.7</td>\n",
              "      <td>5.0</td>\n",
              "      <td>Aprovado</td>\n",
              "      <td>M</td>\n",
              "    </tr>\n",
              "    <tr>\n",
              "      <th>Alice</th>\n",
              "      <td>7.8</td>\n",
              "      <td>2.2</td>\n",
              "      <td>1.6</td>\n",
              "      <td>3.9</td>\n",
              "      <td>Reprovado</td>\n",
              "      <td>F</td>\n",
              "    </tr>\n",
              "    <tr>\n",
              "      <th>Isabela</th>\n",
              "      <td>4.3</td>\n",
              "      <td>0.9</td>\n",
              "      <td>6.5</td>\n",
              "      <td>3.9</td>\n",
              "      <td>Reprovado</td>\n",
              "      <td>F</td>\n",
              "    </tr>\n",
              "  </tbody>\n",
              "</table>\n",
              "</div>"
            ],
            "text/plain": [
              "           P1   P2   P3  Média_Final   Situação Sexo\n",
              "David     4.1  8.4  9.4          7.3   Aprovado    M\n",
              "Fábio    10.0  6.0  6.0          7.3   Aprovado    M\n",
              "Glória    7.8  9.9  1.2          6.3   Aprovado    F\n",
              "Carla     9.0  7.3  2.3          6.2   Aprovado    F\n",
              "Lucas     9.5  1.9  6.1          5.8   Aprovado    M\n",
              "Bruno     5.6  2.6  8.8          5.7   Aprovado    M\n",
              "Emily     8.0  6.1  2.9          5.7   Aprovado    F\n",
              "Hélio     3.8  7.6  3.7          5.0   Aprovado    M\n",
              "Alice     7.8  2.2  1.6          3.9  Reprovado    F\n",
              "Isabela   4.3  0.9  6.5          3.9  Reprovado    F"
            ]
          },
          "metadata": {
            "tags": []
          },
          "execution_count": 58
        }
      ]
    },
    {
      "cell_type": "code",
      "metadata": {
        "colab": {
          "base_uri": "https://localhost:8080/"
        },
        "id": "B4EevG5oehhv",
        "outputId": "408fd1a4-2201-4b59-9cfe-c5f6e9561871"
      },
      "source": [
        "#Média de quem foi aprovado\r\n",
        "#Precisa fazer um filtro\r\n",
        "notas['Situação'] == 'Aprovado'"
      ],
      "execution_count": 59,
      "outputs": [
        {
          "output_type": "execute_result",
          "data": {
            "text/plain": [
              "Alice      False\n",
              "Bruno       True\n",
              "Carla       True\n",
              "David       True\n",
              "Emily       True\n",
              "Fábio       True\n",
              "Glória      True\n",
              "Hélio       True\n",
              "Isabela    False\n",
              "Lucas       True\n",
              "Name: Situação, dtype: bool"
            ]
          },
          "metadata": {
            "tags": []
          },
          "execution_count": 59
        }
      ]
    },
    {
      "cell_type": "code",
      "metadata": {
        "colab": {
          "base_uri": "https://localhost:8080/"
        },
        "id": "TQGizhqIezWf",
        "outputId": "e078ee9b-4cc9-47a5-c21e-0626aeba5160"
      },
      "source": [
        "#Agora filtrando\r\n",
        "\r\n",
        "notas[notas['Situação'] == 'Aprovado']['Média_Final'].mean()"
      ],
      "execution_count": 62,
      "outputs": [
        {
          "output_type": "execute_result",
          "data": {
            "text/plain": [
              "6.162499999999999"
            ]
          },
          "metadata": {
            "tags": []
          },
          "execution_count": 62
        }
      ]
    },
    {
      "cell_type": "code",
      "metadata": {
        "colab": {
          "base_uri": "https://localhost:8080/"
        },
        "id": "yUk-PXoxfOjD",
        "outputId": "732caad4-7a03-4e49-bb38-89c008075ade"
      },
      "source": [
        "notas[notas['Situação'] == 'Reprovado']['Média_Final'].mean()"
      ],
      "execution_count": 63,
      "outputs": [
        {
          "output_type": "execute_result",
          "data": {
            "text/plain": [
              "3.9"
            ]
          },
          "metadata": {
            "tags": []
          },
          "execution_count": 63
        }
      ]
    },
    {
      "cell_type": "code",
      "metadata": {
        "colab": {
          "base_uri": "https://localhost:8080/",
          "height": 142
        },
        "id": "vzksu_UrfTdY",
        "outputId": "b6fcc510-db6f-4542-da8c-645c7d6cdf4f"
      },
      "source": [
        "#Jeito mais fácil de obter essa informação\r\n",
        "notas.groupby(notas['Situação']).mean().round(1)"
      ],
      "execution_count": 66,
      "outputs": [
        {
          "output_type": "execute_result",
          "data": {
            "text/html": [
              "<div>\n",
              "<style scoped>\n",
              "    .dataframe tbody tr th:only-of-type {\n",
              "        vertical-align: middle;\n",
              "    }\n",
              "\n",
              "    .dataframe tbody tr th {\n",
              "        vertical-align: top;\n",
              "    }\n",
              "\n",
              "    .dataframe thead th {\n",
              "        text-align: right;\n",
              "    }\n",
              "</style>\n",
              "<table border=\"1\" class=\"dataframe\">\n",
              "  <thead>\n",
              "    <tr style=\"text-align: right;\">\n",
              "      <th></th>\n",
              "      <th>P1</th>\n",
              "      <th>P2</th>\n",
              "      <th>P3</th>\n",
              "      <th>Média_Final</th>\n",
              "    </tr>\n",
              "    <tr>\n",
              "      <th>Situação</th>\n",
              "      <th></th>\n",
              "      <th></th>\n",
              "      <th></th>\n",
              "      <th></th>\n",
              "    </tr>\n",
              "  </thead>\n",
              "  <tbody>\n",
              "    <tr>\n",
              "      <th>Aprovado</th>\n",
              "      <td>7.2</td>\n",
              "      <td>6.2</td>\n",
              "      <td>5.0</td>\n",
              "      <td>6.2</td>\n",
              "    </tr>\n",
              "    <tr>\n",
              "      <th>Reprovado</th>\n",
              "      <td>6.0</td>\n",
              "      <td>1.6</td>\n",
              "      <td>4.0</td>\n",
              "      <td>3.9</td>\n",
              "    </tr>\n",
              "  </tbody>\n",
              "</table>\n",
              "</div>"
            ],
            "text/plain": [
              "            P1   P2   P3  Média_Final\n",
              "Situação                             \n",
              "Aprovado   7.2  6.2  5.0          6.2\n",
              "Reprovado  6.0  1.6  4.0          3.9"
            ]
          },
          "metadata": {
            "tags": []
          },
          "execution_count": 66
        }
      ]
    },
    {
      "cell_type": "code",
      "metadata": {
        "colab": {
          "base_uri": "https://localhost:8080/",
          "height": 193
        },
        "id": "4Dorb6GpfsPD",
        "outputId": "fee0e764-21cd-4aa1-c92c-c4863ebd085b"
      },
      "source": [
        "notas.groupby(notas['Sexo']).describe() #faz agrupação (groupby) e detalha (describe)."
      ],
      "execution_count": 70,
      "outputs": [
        {
          "output_type": "execute_result",
          "data": {
            "text/html": [
              "<div>\n",
              "<style scoped>\n",
              "    .dataframe tbody tr th:only-of-type {\n",
              "        vertical-align: middle;\n",
              "    }\n",
              "\n",
              "    .dataframe tbody tr th {\n",
              "        vertical-align: top;\n",
              "    }\n",
              "\n",
              "    .dataframe thead tr th {\n",
              "        text-align: left;\n",
              "    }\n",
              "\n",
              "    .dataframe thead tr:last-of-type th {\n",
              "        text-align: right;\n",
              "    }\n",
              "</style>\n",
              "<table border=\"1\" class=\"dataframe\">\n",
              "  <thead>\n",
              "    <tr>\n",
              "      <th></th>\n",
              "      <th colspan=\"8\" halign=\"left\">P1</th>\n",
              "      <th colspan=\"8\" halign=\"left\">P2</th>\n",
              "      <th colspan=\"8\" halign=\"left\">P3</th>\n",
              "      <th colspan=\"8\" halign=\"left\">Média_Final</th>\n",
              "    </tr>\n",
              "    <tr>\n",
              "      <th></th>\n",
              "      <th>count</th>\n",
              "      <th>mean</th>\n",
              "      <th>std</th>\n",
              "      <th>min</th>\n",
              "      <th>25%</th>\n",
              "      <th>50%</th>\n",
              "      <th>75%</th>\n",
              "      <th>max</th>\n",
              "      <th>count</th>\n",
              "      <th>mean</th>\n",
              "      <th>std</th>\n",
              "      <th>min</th>\n",
              "      <th>25%</th>\n",
              "      <th>50%</th>\n",
              "      <th>75%</th>\n",
              "      <th>max</th>\n",
              "      <th>count</th>\n",
              "      <th>mean</th>\n",
              "      <th>std</th>\n",
              "      <th>min</th>\n",
              "      <th>25%</th>\n",
              "      <th>50%</th>\n",
              "      <th>75%</th>\n",
              "      <th>max</th>\n",
              "      <th>count</th>\n",
              "      <th>mean</th>\n",
              "      <th>std</th>\n",
              "      <th>min</th>\n",
              "      <th>25%</th>\n",
              "      <th>50%</th>\n",
              "      <th>75%</th>\n",
              "      <th>max</th>\n",
              "    </tr>\n",
              "    <tr>\n",
              "      <th>Sexo</th>\n",
              "      <th></th>\n",
              "      <th></th>\n",
              "      <th></th>\n",
              "      <th></th>\n",
              "      <th></th>\n",
              "      <th></th>\n",
              "      <th></th>\n",
              "      <th></th>\n",
              "      <th></th>\n",
              "      <th></th>\n",
              "      <th></th>\n",
              "      <th></th>\n",
              "      <th></th>\n",
              "      <th></th>\n",
              "      <th></th>\n",
              "      <th></th>\n",
              "      <th></th>\n",
              "      <th></th>\n",
              "      <th></th>\n",
              "      <th></th>\n",
              "      <th></th>\n",
              "      <th></th>\n",
              "      <th></th>\n",
              "      <th></th>\n",
              "      <th></th>\n",
              "      <th></th>\n",
              "      <th></th>\n",
              "      <th></th>\n",
              "      <th></th>\n",
              "      <th></th>\n",
              "      <th></th>\n",
              "      <th></th>\n",
              "    </tr>\n",
              "  </thead>\n",
              "  <tbody>\n",
              "    <tr>\n",
              "      <th>F</th>\n",
              "      <td>5.0</td>\n",
              "      <td>7.38</td>\n",
              "      <td>1.792205</td>\n",
              "      <td>4.3</td>\n",
              "      <td>7.8</td>\n",
              "      <td>7.8</td>\n",
              "      <td>8.0</td>\n",
              "      <td>9.0</td>\n",
              "      <td>5.0</td>\n",
              "      <td>5.28</td>\n",
              "      <td>3.700270</td>\n",
              "      <td>0.9</td>\n",
              "      <td>2.2</td>\n",
              "      <td>6.1</td>\n",
              "      <td>7.3</td>\n",
              "      <td>9.9</td>\n",
              "      <td>5.0</td>\n",
              "      <td>2.9</td>\n",
              "      <td>2.115420</td>\n",
              "      <td>1.2</td>\n",
              "      <td>1.6</td>\n",
              "      <td>2.3</td>\n",
              "      <td>2.9</td>\n",
              "      <td>6.5</td>\n",
              "      <td>5.0</td>\n",
              "      <td>5.20</td>\n",
              "      <td>1.208305</td>\n",
              "      <td>3.9</td>\n",
              "      <td>3.9</td>\n",
              "      <td>5.7</td>\n",
              "      <td>6.2</td>\n",
              "      <td>6.3</td>\n",
              "    </tr>\n",
              "    <tr>\n",
              "      <th>M</th>\n",
              "      <td>5.0</td>\n",
              "      <td>6.60</td>\n",
              "      <td>2.960574</td>\n",
              "      <td>3.8</td>\n",
              "      <td>4.1</td>\n",
              "      <td>5.6</td>\n",
              "      <td>9.5</td>\n",
              "      <td>10.0</td>\n",
              "      <td>5.0</td>\n",
              "      <td>5.30</td>\n",
              "      <td>2.925748</td>\n",
              "      <td>1.9</td>\n",
              "      <td>2.6</td>\n",
              "      <td>6.0</td>\n",
              "      <td>7.6</td>\n",
              "      <td>8.4</td>\n",
              "      <td>5.0</td>\n",
              "      <td>6.8</td>\n",
              "      <td>2.318405</td>\n",
              "      <td>3.7</td>\n",
              "      <td>6.0</td>\n",
              "      <td>6.1</td>\n",
              "      <td>8.8</td>\n",
              "      <td>9.4</td>\n",
              "      <td>5.0</td>\n",
              "      <td>6.22</td>\n",
              "      <td>1.032957</td>\n",
              "      <td>5.0</td>\n",
              "      <td>5.7</td>\n",
              "      <td>5.8</td>\n",
              "      <td>7.3</td>\n",
              "      <td>7.3</td>\n",
              "    </tr>\n",
              "  </tbody>\n",
              "</table>\n",
              "</div>"
            ],
            "text/plain": [
              "        P1                                 ... Média_Final                         \n",
              "     count  mean       std  min  25%  50%  ...         std  min  25%  50%  75%  max\n",
              "Sexo                                       ...                                     \n",
              "F      5.0  7.38  1.792205  4.3  7.8  7.8  ...    1.208305  3.9  3.9  5.7  6.2  6.3\n",
              "M      5.0  6.60  2.960574  3.8  4.1  5.6  ...    1.032957  5.0  5.7  5.8  7.3  7.3\n",
              "\n",
              "[2 rows x 32 columns]"
            ]
          },
          "metadata": {
            "tags": []
          },
          "execution_count": 70
        }
      ]
    },
    {
      "cell_type": "code",
      "metadata": {
        "colab": {
          "base_uri": "https://localhost:8080/",
          "height": 282
        },
        "id": "j4MNdD8JgLx_",
        "outputId": "8832515d-d1b6-4d5a-ec06-b7bc2d8e17fa"
      },
      "source": [
        "notas.plot() #Lembrando: pandas não é uma biblioteca para plot"
      ],
      "execution_count": 71,
      "outputs": [
        {
          "output_type": "execute_result",
          "data": {
            "text/plain": [
              "<matplotlib.axes._subplots.AxesSubplot at 0x7f836d7fea90>"
            ]
          },
          "metadata": {
            "tags": []
          },
          "execution_count": 71
        },
        {
          "output_type": "display_data",
          "data": {
            "image/png": "[encoded data removed]",
            "text/plain": [
              "<Figure size 432x288 with 1 Axes>"
            ]
          },
          "metadata": {
            "tags": [],
            "needs_background": "light"
          }
        }
      ]
    },
    {
      "cell_type": "code",
      "metadata": {
        "colab": {
          "base_uri": "https://localhost:8080/",
          "height": 282
        },
        "id": "2yJz4Xd9gT2D",
        "outputId": "78035903-b2bf-4aa2-8ed7-14c2f082ce7b"
      },
      "source": [
        "notas['Média_Final'].plot(kind= 'hist')"
      ],
      "execution_count": 72,
      "outputs": [
        {
          "output_type": "execute_result",
          "data": {
            "text/plain": [
              "<matplotlib.axes._subplots.AxesSubplot at 0x7f836d7150f0>"
            ]
          },
          "metadata": {
            "tags": []
          },
          "execution_count": 72
        },
        {
          "output_type": "display_data",
          "data": {
            "image/png": "[encoded data removed]",
            "text/plain": [
              "<Figure size 432x288 with 1 Axes>"
            ]
          },
          "metadata": {
            "tags": [],
            "needs_background": "light"
          }
        }
      ]
    },
    {
      "cell_type": "code",
      "metadata": {
        "colab": {
          "base_uri": "https://localhost:8080/"
        },
        "id": "q8MWNHkShARz",
        "outputId": "abe03649-2c99-4ca5-a3be-77b56a8272dd"
      },
      "source": [
        "notas[notas['P1'] > 3]['Sexo']"
      ],
      "execution_count": 73,
      "outputs": [
        {
          "output_type": "execute_result",
          "data": {
            "text/plain": [
              "Alice      F\n",
              "Bruno      M\n",
              "Carla      F\n",
              "David      M\n",
              "Emily      F\n",
              "Fábio      M\n",
              "Glória     F\n",
              "Hélio      M\n",
              "Isabela    F\n",
              "Lucas      M\n",
              "Name: Sexo, dtype: object"
            ]
          },
          "metadata": {
            "tags": []
          },
          "execution_count": 73
        }
      ]
    },
    {
      "cell_type": "code",
      "metadata": {
        "id": "SPkg_0iriKX4"
      },
      "source": [
        "#Exportar dados \r\n",
        "notas.to_csv('notas.csv') #já vai para os arquivos do colab\r\n"
      ],
      "execution_count": 76,
      "outputs": []
    },
    {
      "cell_type": "code",
      "metadata": {
        "id": "HKsMWbHdiirc"
      },
      "source": [
        ""
      ],
      "execution_count": null,
      "outputs": []
    }
  ]
}