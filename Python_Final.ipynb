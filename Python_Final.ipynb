{
  "nbformat": 4,
  "nbformat_minor": 0,
  "metadata": {
    "colab": {
      "name": "Python for Data Science.ipynb",
      "provenance": [],
      "authorship_tag": "ABX9TyMCYYdUtOL5GN8tLrSsx7CN",
      "include_colab_link": true
    },
    "kernelspec": {
      "name": "python3",
      "display_name": "Python 3"
    }
  },
  "cells": [
    {
      "cell_type": "markdown",
      "metadata": {
        "id": "view-in-github",
        "colab_type": "text"
      },
      "source": [
        "<a href=\"https://colab.research.google.com/github/vicctoriia/python_padawan/blob/main/Python_Final.ipynb\" target=\"_parent\"><img src=\"https://colab.research.google.com/assets/colab-badge.svg\" alt=\"Open In Colab\"/></a>"
      ]
    },
    {
      "cell_type": "markdown",
      "metadata": {
        "id": "H2ZWqIbjFYBh"
      },
      "source": [
        "## Curso - Python for Data Science (IBM) / Python Fundamentos (Data Science Academy)\r\n",
        "\r\n",
        "---\r\n",
        "\r\n",
        "\r\n"
      ]
    },
    {
      "cell_type": "markdown",
      "metadata": {
        "id": "QI2S0u0nNUy1"
      },
      "source": [
        "\r\n",
        "#1.   Types\r\n",
        "#2.   Expressions and Variables\r\n",
        "#3.   String Operations \r\n",
        "\r\n"
      ]
    },
    {
      "cell_type": "code",
      "metadata": {
        "colab": {
          "base_uri": "https://localhost:8080/"
        },
        "id": "dLhPz4OShHB4",
        "outputId": "8c0341e5-3f3f-407a-ec8b-c6f91bfc0eee"
      },
      "source": [
        "!pip install rpy2"
      ],
      "execution_count": null,
      "outputs": [
        {
          "output_type": "stream",
          "text": [
            "Requirement already satisfied: rpy2 in /usr/local/lib/python3.6/dist-packages (3.2.7)\n",
            "Requirement already satisfied: cffi>=1.13.1 in /usr/local/lib/python3.6/dist-packages (from rpy2) (1.14.4)\n",
            "Requirement already satisfied: simplegeneric in /usr/local/lib/python3.6/dist-packages (from rpy2) (0.8.1)\n",
            "Requirement already satisfied: pytz in /usr/local/lib/python3.6/dist-packages (from rpy2) (2018.9)\n",
            "Requirement already satisfied: tzlocal in /usr/local/lib/python3.6/dist-packages (from rpy2) (1.5.1)\n",
            "Requirement already satisfied: jinja2 in /usr/local/lib/python3.6/dist-packages (from rpy2) (2.11.2)\n",
            "Requirement already satisfied: pytest in /usr/local/lib/python3.6/dist-packages (from rpy2) (3.6.4)\n",
            "Requirement already satisfied: pycparser in /usr/local/lib/python3.6/dist-packages (from cffi>=1.13.1->rpy2) (2.20)\n",
            "Requirement already satisfied: MarkupSafe>=0.23 in /usr/local/lib/python3.6/dist-packages (from jinja2->rpy2) (1.1.1)\n",
            "Requirement already satisfied: more-itertools>=4.0.0 in /usr/local/lib/python3.6/dist-packages (from pytest->rpy2) (8.6.0)\n",
            "Requirement already satisfied: pluggy<0.8,>=0.5 in /usr/local/lib/python3.6/dist-packages (from pytest->rpy2) (0.7.1)\n",
            "Requirement already satisfied: six>=1.10.0 in /usr/local/lib/python3.6/dist-packages (from pytest->rpy2) (1.15.0)\n",
            "Requirement already satisfied: atomicwrites>=1.0 in /usr/local/lib/python3.6/dist-packages (from pytest->rpy2) (1.4.0)\n",
            "Requirement already satisfied: attrs>=17.4.0 in /usr/local/lib/python3.6/dist-packages (from pytest->rpy2) (20.3.0)\n",
            "Requirement already satisfied: setuptools in /usr/local/lib/python3.6/dist-packages (from pytest->rpy2) (51.3.3)\n",
            "Requirement already satisfied: py>=1.5.0 in /usr/local/lib/python3.6/dist-packages (from pytest->rpy2) (1.10.0)\n"
          ],
          "name": "stdout"
        }
      ]
    },
    {
      "cell_type": "code",
      "metadata": {
        "colab": {
          "base_uri": "https://localhost:8080/"
        },
        "id": "76Z6xwRZNgLo",
        "outputId": "d466bcd7-6811-493e-d510-e48b92d1e16a"
      },
      "source": [
        "print(\"Olá, vamos lá!\") #Comentário"
      ],
      "execution_count": null,
      "outputs": [
        {
          "output_type": "stream",
          "text": [
            "Olá, vamos lá\n"
          ],
          "name": "stdout"
        }
      ]
    },
    {
      "cell_type": "code",
      "metadata": {
        "colab": {
          "base_uri": "https://localhost:8080/",
          "height": 163
        },
        "id": "WfaOmVpHgJNw",
        "outputId": "d13245d7-887d-4629-a353-23693bdd958e"
      },
      "source": [
        "print(df.describe())"
      ],
      "execution_count": null,
      "outputs": [
        {
          "output_type": "error",
          "ename": "NameError",
          "evalue": "ignored",
          "traceback": [
            "\u001b[0;31m---------------------------------------------------------------------------\u001b[0m",
            "\u001b[0;31mNameError\u001b[0m                                 Traceback (most recent call last)",
            "\u001b[0;32m<ipython-input-17-772c287cbb5c>\u001b[0m in \u001b[0;36m<module>\u001b[0;34m()\u001b[0m\n\u001b[0;32m----> 1\u001b[0;31m \u001b[0mprint\u001b[0m\u001b[0;34m(\u001b[0m\u001b[0mdf\u001b[0m\u001b[0;34m.\u001b[0m\u001b[0mdescribe\u001b[0m\u001b[0;34m(\u001b[0m\u001b[0;34m)\u001b[0m\u001b[0;34m)\u001b[0m\u001b[0;34m\u001b[0m\u001b[0;34m\u001b[0m\u001b[0m\n\u001b[0m",
            "\u001b[0;31mNameError\u001b[0m: name 'df' is not defined"
          ]
        }
      ]
    },
    {
      "cell_type": "code",
      "metadata": {
        "colab": {
          "base_uri": "https://localhost:8080/"
        },
        "id": "U5RENAgQNXMA",
        "outputId": "eec0c009-75e0-4550-8e9e-fc6832a06515"
      },
      "source": [
        "print(\"Hello\\nWorld!\")  #\\n é um caracter especial para quebra de linha! "
      ],
      "execution_count": null,
      "outputs": [
        {
          "output_type": "stream",
          "text": [
            "Hello\n",
            "World!\n"
          ],
          "name": "stdout"
        }
      ]
    },
    {
      "cell_type": "code",
      "metadata": {
        "colab": {
          "base_uri": "https://localhost:8080/"
        },
        "id": "X1eGDsojOKC8",
        "outputId": "50022c73-8d5e-414d-8efe-bf2d9cc85f8b"
      },
      "source": [
        "type(11) #Integer = inteiros"
      ],
      "execution_count": null,
      "outputs": [
        {
          "output_type": "execute_result",
          "data": {
            "text/plain": [
              "int"
            ]
          },
          "metadata": {
            "tags": []
          },
          "execution_count": 3
        }
      ]
    },
    {
      "cell_type": "code",
      "metadata": {
        "colab": {
          "base_uri": "https://localhost:8080/"
        },
        "id": "eBRlfjc2Omul",
        "outputId": "fc36cfa5-3c90-4118-e4a4-115d544ccc07"
      },
      "source": [
        "type(28.96) #Floats are real numbers; they include the integers but also numbers in between the integers."
      ],
      "execution_count": null,
      "outputs": [
        {
          "output_type": "execute_result",
          "data": {
            "text/plain": [
              "float"
            ]
          },
          "metadata": {
            "tags": []
          },
          "execution_count": 4
        }
      ]
    },
    {
      "cell_type": "code",
      "metadata": {
        "colab": {
          "base_uri": "https://localhost:8080/"
        },
        "id": "1NQSkCBEOr4M",
        "outputId": "72ef64aa-6a8f-422f-ea61-e2c340f0bdc3"
      },
      "source": [
        "float(2)"
      ],
      "execution_count": null,
      "outputs": [
        {
          "output_type": "execute_result",
          "data": {
            "text/plain": [
              "2.0"
            ]
          },
          "metadata": {
            "tags": []
          },
          "execution_count": 7
        }
      ]
    },
    {
      "cell_type": "code",
      "metadata": {
        "colab": {
          "base_uri": "https://localhost:8080/"
        },
        "id": "NMKQ6kVHPJbl",
        "outputId": "0f97fb58-c0bb-4510-ec0c-188c78cc3852"
      },
      "source": [
        "int(1.1) #perdeu informação"
      ],
      "execution_count": null,
      "outputs": [
        {
          "output_type": "execute_result",
          "data": {
            "text/plain": [
              "1"
            ]
          },
          "metadata": {
            "tags": []
          },
          "execution_count": 8
        }
      ]
    },
    {
      "cell_type": "code",
      "metadata": {
        "id": "7yqkELd-PPD7"
      },
      "source": [
        "#int('A') #Erro "
      ],
      "execution_count": null,
      "outputs": []
    },
    {
      "cell_type": "code",
      "metadata": {
        "colab": {
          "base_uri": "https://localhost:8080/",
          "height": 35
        },
        "id": "b55m-gPLPYB-",
        "outputId": "74af637a-664b-4f25-8415-e7fc7a713781"
      },
      "source": [
        "str(1) #Convertendo em string"
      ],
      "execution_count": null,
      "outputs": [
        {
          "output_type": "execute_result",
          "data": {
            "application/vnd.google.colaboratory.intrinsic+json": {
              "type": "string"
            },
            "text/plain": [
              "'1'"
            ]
          },
          "metadata": {
            "tags": []
          },
          "execution_count": 11
        }
      ]
    },
    {
      "cell_type": "code",
      "metadata": {
        "colab": {
          "base_uri": "https://localhost:8080/"
        },
        "id": "LFEucqsPPgdj",
        "outputId": "28419543-f110-44ac-e7ba-46d16e9c6721"
      },
      "source": [
        "#A Boolean can take on two values.\r\n",
        "type(True)"
      ],
      "execution_count": null,
      "outputs": [
        {
          "output_type": "execute_result",
          "data": {
            "text/plain": [
              "bool"
            ]
          },
          "metadata": {
            "tags": []
          },
          "execution_count": 12
        }
      ]
    },
    {
      "cell_type": "code",
      "metadata": {
        "colab": {
          "base_uri": "https://localhost:8080/"
        },
        "id": "J-nsW5_sQOpq",
        "outputId": "424d48a0-1ae4-4ecd-b7a1-143de5a1ce55"
      },
      "source": [
        "int(True) #1 verdadeiro"
      ],
      "execution_count": null,
      "outputs": [
        {
          "output_type": "execute_result",
          "data": {
            "text/plain": [
              "1"
            ]
          },
          "metadata": {
            "tags": []
          },
          "execution_count": 14
        }
      ]
    },
    {
      "cell_type": "code",
      "metadata": {
        "colab": {
          "base_uri": "https://localhost:8080/"
        },
        "id": "tBFmBCTUQZEc",
        "outputId": "1f31e863-b570-4d26-b154-855713de9126"
      },
      "source": [
        "int(False) #0 falso"
      ],
      "execution_count": null,
      "outputs": [
        {
          "output_type": "execute_result",
          "data": {
            "text/plain": [
              "0"
            ]
          },
          "metadata": {
            "tags": []
          },
          "execution_count": 15
        }
      ]
    },
    {
      "cell_type": "code",
      "metadata": {
        "colab": {
          "base_uri": "https://localhost:8080/"
        },
        "id": "s3x7kZu5Qdff",
        "outputId": "59fffb2b-ca55-44c6-9208-3d279fdb95c4"
      },
      "source": [
        "bool(1)"
      ],
      "execution_count": null,
      "outputs": [
        {
          "output_type": "execute_result",
          "data": {
            "text/plain": [
              "True"
            ]
          },
          "metadata": {
            "tags": []
          },
          "execution_count": 16
        }
      ]
    },
    {
      "cell_type": "code",
      "metadata": {
        "colab": {
          "base_uri": "https://localhost:8080/"
        },
        "id": "pkQFVW5UQiP2",
        "outputId": "bd38dc5d-af2d-46e5-bb50-c88372cded0e"
      },
      "source": [
        "bool(0)"
      ],
      "execution_count": null,
      "outputs": [
        {
          "output_type": "execute_result",
          "data": {
            "text/plain": [
              "False"
            ]
          },
          "metadata": {
            "tags": []
          },
          "execution_count": 17
        }
      ]
    },
    {
      "cell_type": "code",
      "metadata": {
        "colab": {
          "base_uri": "https://localhost:8080/"
        },
        "id": "1BxXkGUiQ9Z8",
        "outputId": "12170ffd-06a8-4083-e233-d3151b1d67c1"
      },
      "source": [
        "(30+2)*60"
      ],
      "execution_count": null,
      "outputs": [
        {
          "output_type": "execute_result",
          "data": {
            "text/plain": [
              "1920"
            ]
          },
          "metadata": {
            "tags": []
          },
          "execution_count": 20
        }
      ]
    },
    {
      "cell_type": "code",
      "metadata": {
        "id": "Y8Di5Sj0RZqW"
      },
      "source": [
        "my_variable = 1"
      ],
      "execution_count": null,
      "outputs": []
    },
    {
      "cell_type": "code",
      "metadata": {
        "colab": {
          "base_uri": "https://localhost:8080/"
        },
        "id": "ePc4kIr8RlN3",
        "outputId": "450f5535-e5f5-47fb-81c5-6f275b2e959a"
      },
      "source": [
        "my_variable"
      ],
      "execution_count": null,
      "outputs": [
        {
          "output_type": "execute_result",
          "data": {
            "text/plain": [
              "1"
            ]
          },
          "metadata": {
            "tags": []
          },
          "execution_count": 25
        }
      ]
    },
    {
      "cell_type": "code",
      "metadata": {
        "id": "8SBaPdtMSIXW"
      },
      "source": [
        "#In Python, a string is a sequence of characters! \r\n",
        "\r\n",
        "\"Michael Jackson\"\r\n",
        "'Victoria Oliveira' #aspas simples\r\n",
        "\" 1 2 3 4 5\" #pode ter espaço\r\n",
        "\r\n"
      ],
      "execution_count": null,
      "outputs": []
    },
    {
      "cell_type": "code",
      "metadata": {
        "id": "RBjI4zeaSfZ1"
      },
      "source": [
        "Name = \"Michael Jackson\""
      ],
      "execution_count": null,
      "outputs": []
    },
    {
      "cell_type": "code",
      "metadata": {
        "colab": {
          "base_uri": "https://localhost:8080/"
        },
        "id": "_Ka9m7m3g8us",
        "outputId": "712e7cc0-df5c-4eee-f4a4-706e7b13b0da"
      },
      "source": [
        "Name.find('el')"
      ],
      "execution_count": null,
      "outputs": [
        {
          "output_type": "execute_result",
          "data": {
            "text/plain": [
              "5"
            ]
          },
          "metadata": {
            "tags": []
          },
          "execution_count": 91
        }
      ]
    },
    {
      "cell_type": "code",
      "metadata": {
        "colab": {
          "base_uri": "https://localhost:8080/",
          "height": 35
        },
        "id": "Zd9FgBaiSjxY",
        "outputId": "94fafdb0-d66f-4181-8de4-a6449e02361e"
      },
      "source": [
        "Name[12] #letra na posição 12"
      ],
      "execution_count": null,
      "outputs": [
        {
          "output_type": "execute_result",
          "data": {
            "application/vnd.google.colaboratory.intrinsic+json": {
              "type": "string"
            },
            "text/plain": [
              "'s'"
            ]
          },
          "metadata": {
            "tags": []
          },
          "execution_count": 27
        }
      ]
    },
    {
      "cell_type": "code",
      "metadata": {
        "colab": {
          "base_uri": "https://localhost:8080/",
          "height": 35
        },
        "id": "98yZHKYJSsaK",
        "outputId": "c8c53bab-239b-4f23-80a2-2154f8f111df"
      },
      "source": [
        "Name [::2] #De dois em dois"
      ],
      "execution_count": null,
      "outputs": [
        {
          "output_type": "execute_result",
          "data": {
            "application/vnd.google.colaboratory.intrinsic+json": {
              "type": "string"
            },
            "text/plain": [
              "'McalJcsn'"
            ]
          },
          "metadata": {
            "tags": []
          },
          "execution_count": 28
        }
      ]
    },
    {
      "cell_type": "code",
      "metadata": {
        "colab": {
          "base_uri": "https://localhost:8080/",
          "height": 35
        },
        "id": "uZ-mI9osS2y2",
        "outputId": "f593f365-d7d7-45bf-959f-ad2b5b08b3b7"
      },
      "source": [
        "Name [0:5:2] #Do zero ao 5 de dois em dois"
      ],
      "execution_count": null,
      "outputs": [
        {
          "output_type": "execute_result",
          "data": {
            "application/vnd.google.colaboratory.intrinsic+json": {
              "type": "string"
            },
            "text/plain": [
              "'Mca'"
            ]
          },
          "metadata": {
            "tags": []
          },
          "execution_count": 29
        }
      ]
    },
    {
      "cell_type": "code",
      "metadata": {
        "colab": {
          "base_uri": "https://localhost:8080/"
        },
        "id": "p8rmAd-bS-D5",
        "outputId": "b5833c61-e235-4504-a4f4-edbf2e65f829"
      },
      "source": [
        "len(Name)"
      ],
      "execution_count": null,
      "outputs": [
        {
          "output_type": "execute_result",
          "data": {
            "text/plain": [
              "15"
            ]
          },
          "metadata": {
            "tags": []
          },
          "execution_count": 30
        }
      ]
    },
    {
      "cell_type": "code",
      "metadata": {
        "colab": {
          "base_uri": "https://localhost:8080/"
        },
        "id": "dWF9PLm_TCC3",
        "outputId": "69a0484c-d429-4cb4-df97-ce0c7b5b9f27"
      },
      "source": [
        "Statement = Name + \"\\t is the best!\"\r\n",
        "print(Statement)"
      ],
      "execution_count": null,
      "outputs": [
        {
          "output_type": "stream",
          "text": [
            "Michael Jackson\t is the best\n"
          ],
          "name": "stdout"
        }
      ]
    },
    {
      "cell_type": "code",
      "metadata": {
        "colab": {
          "base_uri": "https://localhost:8080/"
        },
        "id": "Y9sGHIeFTgON",
        "outputId": "dbca225d-26e7-45ec-cb9c-7505a2a73c01"
      },
      "source": [
        "B = Statement.replace('Michael Jackson', 'Tim Maia')\r\n",
        "print(B)"
      ],
      "execution_count": null,
      "outputs": [
        {
          "output_type": "stream",
          "text": [
            "Tim Maia\t is the best\n"
          ],
          "name": "stdout"
        }
      ]
    },
    {
      "cell_type": "code",
      "metadata": {
        "id": "zB30wC3DUFoe"
      },
      "source": [
        "Number=\"01234567\""
      ],
      "execution_count": null,
      "outputs": []
    },
    {
      "cell_type": "code",
      "metadata": {
        "colab": {
          "base_uri": "https://localhost:8080/",
          "height": 35
        },
        "id": "-rk2o208UHmL",
        "outputId": "f23e7997-ef2d-4b00-bc43-08ad47352cff"
      },
      "source": [
        "Number[::2]"
      ],
      "execution_count": null,
      "outputs": [
        {
          "output_type": "execute_result",
          "data": {
            "application/vnd.google.colaboratory.intrinsic+json": {
              "type": "string"
            },
            "text/plain": [
              "'0246'"
            ]
          },
          "metadata": {
            "tags": []
          },
          "execution_count": 49
        }
      ]
    },
    {
      "cell_type": "code",
      "metadata": {
        "colab": {
          "base_uri": "https://localhost:8080/",
          "height": 35
        },
        "id": "5xoot0J5UyBo",
        "outputId": "e92abfbf-70cd-4b7a-b160-4f1609567c8c"
      },
      "source": [
        "'1'+'2'"
      ],
      "execution_count": null,
      "outputs": [
        {
          "output_type": "execute_result",
          "data": {
            "application/vnd.google.colaboratory.intrinsic+json": {
              "type": "string"
            },
            "text/plain": [
              "'12'"
            ]
          },
          "metadata": {
            "tags": []
          },
          "execution_count": 50
        }
      ]
    },
    {
      "cell_type": "code",
      "metadata": {
        "colab": {
          "base_uri": "https://localhost:8080/"
        },
        "id": "HUMO7_1xUPnG",
        "outputId": "b32c294e-ebee-4c1f-d426-aba74846e7a6"
      },
      "source": [
        "Numbers.find('1')"
      ],
      "execution_count": null,
      "outputs": [
        {
          "output_type": "execute_result",
          "data": {
            "text/plain": [
              "1"
            ]
          },
          "metadata": {
            "tags": []
          },
          "execution_count": 44
        }
      ]
    },
    {
      "cell_type": "code",
      "metadata": {
        "colab": {
          "base_uri": "https://localhost:8080/"
        },
        "id": "7mn00N8WUc0V",
        "outputId": "9ab4eddf-a5ba-4e28-eb52-620afa27f6a4"
      },
      "source": [
        "3 + 2 * 2"
      ],
      "execution_count": null,
      "outputs": [
        {
          "output_type": "execute_result",
          "data": {
            "text/plain": [
              "7"
            ]
          },
          "metadata": {
            "tags": []
          },
          "execution_count": 45
        }
      ]
    },
    {
      "cell_type": "code",
      "metadata": {
        "id": "wP0FTxjIUkYg"
      },
      "source": [
        "name = 'Lizz'"
      ],
      "execution_count": null,
      "outputs": []
    },
    {
      "cell_type": "code",
      "metadata": {
        "colab": {
          "base_uri": "https://localhost:8080/"
        },
        "id": "_hnxTw0CUldr",
        "outputId": "30639067-5bcb-4ecc-e8f3-6cbb7eaa52fc"
      },
      "source": [
        "print(name[0:2]) #Menos o 2"
      ],
      "execution_count": null,
      "outputs": [
        {
          "output_type": "stream",
          "text": [
            "Li\n"
          ],
          "name": "stdout"
        }
      ]
    },
    {
      "cell_type": "code",
      "metadata": {
        "id": "7zyEgNd9YUN7"
      },
      "source": [
        "var = '01234567'"
      ],
      "execution_count": null,
      "outputs": []
    },
    {
      "cell_type": "code",
      "metadata": {
        "colab": {
          "base_uri": "https://localhost:8080/"
        },
        "id": "pM2Q6gCkYXQx",
        "outputId": "4dddec75-aeb9-4375-fb86-852f11d1f836"
      },
      "source": [
        "print(var[::2])"
      ],
      "execution_count": null,
      "outputs": [
        {
          "output_type": "stream",
          "text": [
            "0246\n"
          ],
          "name": "stdout"
        }
      ]
    },
    {
      "cell_type": "markdown",
      "metadata": {
        "id": "-irrSsfxU872"
      },
      "source": [
        "\r\n",
        "#1.   Lists and Tuples \r\n",
        "#2.   Sets\r\n",
        "#3.   Dictionaries \r\n",
        "\r\n"
      ]
    },
    {
      "cell_type": "code",
      "metadata": {
        "id": "jjFGr7JDVDsJ"
      },
      "source": [
        "#Tupples (imutável)\r\n",
        "NT = (1, 2, (\"pop\", \"rock\"), (3,4), (\"disco\", (1,2)))"
      ],
      "execution_count": null,
      "outputs": []
    },
    {
      "cell_type": "code",
      "metadata": {
        "colab": {
          "base_uri": "https://localhost:8080/"
        },
        "id": "bHHvR9XRWlkO",
        "outputId": "3c4ca001-aa2f-4e9e-a012-5336f294d038"
      },
      "source": [
        "NT[2]"
      ],
      "execution_count": null,
      "outputs": [
        {
          "output_type": "execute_result",
          "data": {
            "text/plain": [
              "('pop', 'rock')"
            ]
          },
          "metadata": {
            "tags": []
          },
          "execution_count": 2
        }
      ]
    },
    {
      "cell_type": "code",
      "metadata": {
        "colab": {
          "base_uri": "https://localhost:8080/",
          "height": 35
        },
        "id": "ZFUyx2uAWpeu",
        "outputId": "dcc9b97a-0006-42f7-f2f5-83c53893d7cd"
      },
      "source": [
        "NT[2][1] #Index"
      ],
      "execution_count": null,
      "outputs": [
        {
          "output_type": "execute_result",
          "data": {
            "application/vnd.google.colaboratory.intrinsic+json": {
              "type": "string"
            },
            "text/plain": [
              "'rock'"
            ]
          },
          "metadata": {
            "tags": []
          },
          "execution_count": 3
        }
      ]
    },
    {
      "cell_type": "code",
      "metadata": {
        "colab": {
          "base_uri": "https://localhost:8080/",
          "height": 35
        },
        "id": "KEfpuYJPWsK1",
        "outputId": "af3c03cf-b5c3-4137-c779-2a6a8c409c25"
      },
      "source": [
        "NT[2][1][0]"
      ],
      "execution_count": null,
      "outputs": [
        {
          "output_type": "execute_result",
          "data": {
            "application/vnd.google.colaboratory.intrinsic+json": {
              "type": "string"
            },
            "text/plain": [
              "'r'"
            ]
          },
          "metadata": {
            "tags": []
          },
          "execution_count": 4
        }
      ]
    },
    {
      "cell_type": "code",
      "metadata": {
        "id": "DlaMBoyDhIzb"
      },
      "source": [
        "A=((11,12),[21,22])"
      ],
      "execution_count": null,
      "outputs": []
    },
    {
      "cell_type": "code",
      "metadata": {
        "colab": {
          "base_uri": "https://localhost:8080/"
        },
        "id": "iaQvGapMhKz3",
        "outputId": "d6073f32-aae2-428b-899f-77cbfc7632d4"
      },
      "source": [
        "A[0][1]"
      ],
      "execution_count": null,
      "outputs": [
        {
          "output_type": "execute_result",
          "data": {
            "text/plain": [
              "12"
            ]
          },
          "metadata": {
            "tags": []
          },
          "execution_count": 96
        }
      ]
    },
    {
      "cell_type": "code",
      "metadata": {
        "colab": {
          "base_uri": "https://localhost:8080/"
        },
        "id": "OIm6F0jNhalw",
        "outputId": "b6a1bef3-66d8-4f0d-8ff6-26d96e44baac"
      },
      "source": [
        "'1,2,3,4'.split(',')"
      ],
      "execution_count": null,
      "outputs": [
        {
          "output_type": "execute_result",
          "data": {
            "text/plain": [
              "['1', '2', '3', '4']"
            ]
          },
          "metadata": {
            "tags": []
          },
          "execution_count": 97
        }
      ]
    },
    {
      "cell_type": "code",
      "metadata": {
        "id": "9G3bcbxwW3c3"
      },
      "source": [
        "L = [\"Michael Jackson\", 10.1, 1982] #listas são mutáveis"
      ],
      "execution_count": null,
      "outputs": []
    },
    {
      "cell_type": "code",
      "metadata": {
        "colab": {
          "base_uri": "https://localhost:8080/"
        },
        "id": "75ShKOf5XVwG",
        "outputId": "2923beb9-5ad9-4ae8-c477-9ec98e999411"
      },
      "source": [
        "L.extend([\"pop\",10]) #dois novos elementos\r\n",
        "print(L)"
      ],
      "execution_count": null,
      "outputs": [
        {
          "output_type": "stream",
          "text": [
            "['Michael Jackson', 10.1, 1982, 'pop', 10]\n"
          ],
          "name": "stdout"
        }
      ]
    },
    {
      "cell_type": "code",
      "metadata": {
        "colab": {
          "base_uri": "https://localhost:8080/"
        },
        "id": "2NtSWAPiXiNn",
        "outputId": "471060b4-47b4-4844-f438-720f08602c30"
      },
      "source": [
        "L.append([\"pop\",10]) #um elemento\r\n",
        "print(L)"
      ],
      "execution_count": null,
      "outputs": [
        {
          "output_type": "stream",
          "text": [
            "['Michael Jackson', 10.1, 1982, 'pop', 10, ['pop', 10]]\n"
          ],
          "name": "stdout"
        }
      ]
    },
    {
      "cell_type": "code",
      "metadata": {
        "colab": {
          "base_uri": "https://localhost:8080/"
        },
        "id": "xwZ35JLIXrlV",
        "outputId": "824792e8-513e-45c7-9b94-0736c694052c"
      },
      "source": [
        "del(L[1]) #Deletando um elemento\r\n",
        "L"
      ],
      "execution_count": null,
      "outputs": [
        {
          "output_type": "execute_result",
          "data": {
            "text/plain": [
              "['Michael Jackson', 1982, 'pop', 10, ['pop', 10]]"
            ]
          },
          "metadata": {
            "tags": []
          },
          "execution_count": 8
        }
      ]
    },
    {
      "cell_type": "code",
      "metadata": {
        "id": "dYnH4PF5YRCo"
      },
      "source": [
        "A=(0,1,2,3)"
      ],
      "execution_count": null,
      "outputs": []
    },
    {
      "cell_type": "code",
      "metadata": {
        "colab": {
          "base_uri": "https://localhost:8080/"
        },
        "id": "lVsQnZTrYR01",
        "outputId": "ec16e9eb-cf99-4494-a68d-8d41edf9a69c"
      },
      "source": [
        "A[-1]"
      ],
      "execution_count": null,
      "outputs": [
        {
          "output_type": "execute_result",
          "data": {
            "text/plain": [
              "3"
            ]
          },
          "metadata": {
            "tags": []
          },
          "execution_count": 48
        }
      ]
    },
    {
      "cell_type": "code",
      "metadata": {
        "colab": {
          "base_uri": "https://localhost:8080/",
          "height": 35
        },
        "id": "c8LPrGngciIb",
        "outputId": "7d8a0494-1e46-4b3b-b1f8-26614510a1f5"
      },
      "source": [
        "s = 'Data Science Academy'\r\n",
        "s[0]"
      ],
      "execution_count": null,
      "outputs": [
        {
          "output_type": "execute_result",
          "data": {
            "application/vnd.google.colaboratory.intrinsic+json": {
              "type": "string"
            },
            "text/plain": [
              "'D'"
            ]
          },
          "metadata": {
            "tags": []
          },
          "execution_count": 8
        }
      ]
    },
    {
      "cell_type": "code",
      "metadata": {
        "id": "WkpYEo4CYe4B"
      },
      "source": [
        "B=[\"a\",\"b\",\"c\"]"
      ],
      "execution_count": null,
      "outputs": []
    },
    {
      "cell_type": "code",
      "metadata": {
        "colab": {
          "base_uri": "https://localhost:8080/"
        },
        "id": "Ij_ZvFg0YfZb",
        "outputId": "f30bdfe1-891f-4753-ea24-412c7b491503"
      },
      "source": [
        "B[1:]"
      ],
      "execution_count": null,
      "outputs": [
        {
          "output_type": "execute_result",
          "data": {
            "text/plain": [
              "['b', 'c']"
            ]
          },
          "metadata": {
            "tags": []
          },
          "execution_count": 50
        }
      ]
    },
    {
      "cell_type": "code",
      "metadata": {
        "id": "plji7AmiYqm5"
      },
      "source": [
        "#Sets = Diferente de tupples e listas - não gravam a posição dos elementos. Sem ordem.\r\n",
        "\r\n",
        "Set1 = {\"pop\", \"rock\", \"soul\", \"hard rock\", \"rock\", \"R&B\", \"rock\", \"disco\"} #note que tem elementos duplicados"
      ],
      "execution_count": null,
      "outputs": []
    },
    {
      "cell_type": "code",
      "metadata": {
        "colab": {
          "base_uri": "https://localhost:8080/"
        },
        "id": "PqO-GPHHZKhy",
        "outputId": "8bde6645-18ff-449a-c5df-efc4a637b306"
      },
      "source": [
        "Set1 #não aparece os itens duplicados"
      ],
      "execution_count": null,
      "outputs": [
        {
          "output_type": "execute_result",
          "data": {
            "text/plain": [
              "{'R&B', 'disco', 'hard rock', 'pop', 'rock', 'soul'}"
            ]
          },
          "metadata": {
            "tags": []
          },
          "execution_count": 14
        }
      ]
    },
    {
      "cell_type": "code",
      "metadata": {
        "id": "ldL27YvzZNie"
      },
      "source": [
        "Set1.add(\"Guns\")"
      ],
      "execution_count": null,
      "outputs": []
    },
    {
      "cell_type": "code",
      "metadata": {
        "colab": {
          "base_uri": "https://localhost:8080/"
        },
        "id": "YtIgRNN5Zv06",
        "outputId": "e7ccaca0-40df-4409-861a-213fa0911049"
      },
      "source": [
        "Set1"
      ],
      "execution_count": null,
      "outputs": [
        {
          "output_type": "execute_result",
          "data": {
            "text/plain": [
              "{'Guns', 'R&B', 'disco', 'hard rock', 'pop', 'rock', 'soul'}"
            ]
          },
          "metadata": {
            "tags": []
          },
          "execution_count": 16
        }
      ]
    },
    {
      "cell_type": "code",
      "metadata": {
        "colab": {
          "base_uri": "https://localhost:8080/"
        },
        "id": "g7nk8HX4ZzKD",
        "outputId": "c39dd6dd-eeb5-47db-8085-d2a88272a59e"
      },
      "source": [
        "\"R&B\" in Set1"
      ],
      "execution_count": null,
      "outputs": [
        {
          "output_type": "execute_result",
          "data": {
            "text/plain": [
              "True"
            ]
          },
          "metadata": {
            "tags": []
          },
          "execution_count": 17
        }
      ]
    },
    {
      "cell_type": "code",
      "metadata": {
        "id": "cCya7jkoh6o4"
      },
      "source": [
        "V={'A','B', 'C'}"
      ],
      "execution_count": null,
      "outputs": []
    },
    {
      "cell_type": "code",
      "metadata": {
        "colab": {
          "base_uri": "https://localhost:8080/"
        },
        "id": "X4_558AHh8_1",
        "outputId": "29066429-98d9-4913-a1e0-6a8599ca8836"
      },
      "source": [
        " V.add('C')\r\n",
        " V"
      ],
      "execution_count": null,
      "outputs": [
        {
          "output_type": "execute_result",
          "data": {
            "text/plain": [
              "{'A', 'B', 'C'}"
            ]
          },
          "metadata": {
            "tags": []
          },
          "execution_count": 102
        }
      ]
    },
    {
      "cell_type": "code",
      "metadata": {
        "colab": {
          "base_uri": "https://localhost:8080/"
        },
        "id": "m5r95F0Wahya",
        "outputId": "82fad633-22b2-46a6-9e33-cd3ec42d1f28"
      },
      "source": [
        "S={'A','B','C'}\r\n",
        "\r\n",
        "U={'A','Z','C'}\r\n",
        "\r\n",
        "U.union(S)"
      ],
      "execution_count": null,
      "outputs": [
        {
          "output_type": "execute_result",
          "data": {
            "text/plain": [
              "{'A', 'B', 'C', 'Z'}"
            ]
          },
          "metadata": {
            "tags": []
          },
          "execution_count": 18
        }
      ]
    },
    {
      "cell_type": "code",
      "metadata": {
        "colab": {
          "base_uri": "https://localhost:8080/"
        },
        "id": "UgHV2rvHas56",
        "outputId": "0cc9abdf-f096-40e3-89ff-2f5ecd871754"
      },
      "source": [
        "U.intersection(S)"
      ],
      "execution_count": null,
      "outputs": [
        {
          "output_type": "execute_result",
          "data": {
            "text/plain": [
              "{'A', 'C'}"
            ]
          },
          "metadata": {
            "tags": []
          },
          "execution_count": 19
        }
      ]
    },
    {
      "cell_type": "code",
      "metadata": {
        "id": "02ymhe9Fa4l4"
      },
      "source": [
        "#Dictionaries usando {}\r\n",
        "\r\n",
        "DICT = {\"Thriller\": 1982, \"Back in Black\": 1980, \"The Dark Side of the Moon\": 1973, \"The Bodyguard\": 1992}"
      ],
      "execution_count": null,
      "outputs": []
    },
    {
      "cell_type": "code",
      "metadata": {
        "colab": {
          "base_uri": "https://localhost:8080/"
        },
        "id": "bxBxVsVZbTX6",
        "outputId": "3ee33022-0ad0-4cd2-e5a0-6009ecb5dc93"
      },
      "source": [
        "#Back in Black é a Key e 1980 o value;\r\n",
        "DICT.keys()"
      ],
      "execution_count": null,
      "outputs": [
        {
          "output_type": "execute_result",
          "data": {
            "text/plain": [
              "dict_keys(['Thriller', 'Back in Black', 'The Dark Side of the Moon', 'The Bodyguard'])"
            ]
          },
          "metadata": {
            "tags": []
          },
          "execution_count": 21
        }
      ]
    },
    {
      "cell_type": "code",
      "metadata": {
        "id": "QjB1Ct1vbrJw"
      },
      "source": [
        "D={'a':0,'b':1,'c':2}"
      ],
      "execution_count": null,
      "outputs": []
    },
    {
      "cell_type": "code",
      "metadata": {
        "id": "1qwb-oBFbu0q",
        "colab": {
          "base_uri": "https://localhost:8080/"
        },
        "outputId": "2a506930-f229-43aa-969a-cad170f0bd35"
      },
      "source": [
        "D['b'] "
      ],
      "execution_count": null,
      "outputs": [
        {
          "output_type": "execute_result",
          "data": {
            "text/plain": [
              "1"
            ]
          },
          "metadata": {
            "tags": []
          },
          "execution_count": 52
        }
      ]
    },
    {
      "cell_type": "markdown",
      "metadata": {
        "id": "uNznNQh1EH4I"
      },
      "source": [
        "#Condicionais If/ Elif/ Else"
      ]
    },
    {
      "cell_type": "code",
      "metadata": {
        "colab": {
          "base_uri": "https://localhost:8080/"
        },
        "id": "0NsShuI68BsO",
        "outputId": "e032153e-a37a-4803-b440-34011d986491"
      },
      "source": [
        "#IF \r\n",
        "\r\n",
        "age = 15\r\n",
        "if (age > 18):\r\n",
        "   print(\"you can enter to AC/DC\")  #pra ver esse tem que ser maior de 18\r\n",
        "\r\n",
        "elif (age == 18):  \r\n",
        "   print(\"you can see Pink Floyd\") \r\n",
        "\r\n",
        "else: \r\n",
        "  print(\"go see Justin Bieber\")   \r\n",
        "\r\n",
        "print(\"move on\")\r\n"
      ],
      "execution_count": null,
      "outputs": [
        {
          "output_type": "stream",
          "text": [
            "go see Justin Bieber\n",
            "move on\n"
          ],
          "name": "stdout"
        }
      ]
    },
    {
      "cell_type": "code",
      "metadata": {
        "colab": {
          "base_uri": "https://localhost:8080/"
        },
        "id": "r3vUuRTh0c50",
        "outputId": "ea8da6b0-c7e7-4a60-8327-5982e354d924"
      },
      "source": [
        "dia = \"Terça\"\r\n",
        "if dia == \"Segunda\":\r\n",
        "  print(\"Hoje fará sol!\")\r\n",
        "elif dia == \"Terça\":  #Permite economizar linhas de código\r\n",
        "  print(\"Hoje vai chover!\")\r\n",
        "else:\r\n",
        "  print(\"Sem previsão do tempo para o dia selecionado\")"
      ],
      "execution_count": null,
      "outputs": [
        {
          "output_type": "stream",
          "text": [
            "Hoje vai chover!\n"
          ],
          "name": "stdout"
        }
      ]
    },
    {
      "cell_type": "code",
      "metadata": {
        "colab": {
          "base_uri": "https://localhost:8080/"
        },
        "id": "rSNGyuuDiJpG",
        "outputId": "bdf20d97-767a-46c0-8983-301849c5b1d0"
      },
      "source": [
        "x=\"Go\"\r\n",
        "if (x==\"Go\"):\r\n",
        "    print('Go')\r\n",
        "else:\r\n",
        "     print('Stop')\r\n",
        "print('Mike')"
      ],
      "execution_count": null,
      "outputs": [
        {
          "output_type": "stream",
          "text": [
            "Go\n",
            "Mike\n"
          ],
          "name": "stdout"
        }
      ]
    },
    {
      "cell_type": "code",
      "metadata": {
        "colab": {
          "base_uri": "https://localhost:8080/"
        },
        "id": "PBhXfs6o-T1U",
        "outputId": "0ce64433-5123-4c59-df8c-666359c2ca0e"
      },
      "source": [
        "if (x!='a'):\r\n",
        "\r\n",
        "   print(\"this is not a\")\r\n",
        "\r\n",
        "else:\r\n",
        "\r\n",
        "   print(\"this is a\")"
      ],
      "execution_count": null,
      "outputs": [
        {
          "output_type": "stream",
          "text": [
            "this is a\n"
          ],
          "name": "stdout"
        }
      ]
    },
    {
      "cell_type": "markdown",
      "metadata": {
        "id": "kuCl5pChEWw5"
      },
      "source": [
        "Operadores Lógicos"
      ]
    },
    {
      "cell_type": "code",
      "metadata": {
        "colab": {
          "base_uri": "https://localhost:8080/"
        },
        "id": "RjJhRjvC0vG-",
        "outputId": "ae8a6336-65c8-4245-d827-66b83352c40f"
      },
      "source": [
        "#Input = Receber algo como Entrada \r\n",
        "\r\n",
        "disciplina = input('Digite o nome da disciplina: ')\r\n",
        "nota_final = input('Digite a nota final (entre 0 e 100): ')\r\n",
        "\r\n",
        "if disciplina == 'Geografia' and nota_final >= '70':\r\n",
        "    print('Você foi aprovado!')\r\n",
        "else:\r\n",
        "    print('2\r\n",
        "    Lamento, acho que você precisa estudar mais!')"
      ],
      "execution_count": null,
      "outputs": [
        {
          "output_type": "stream",
          "text": [
            "Digite o nome da disciplina: Geografia\n",
            "Digite a nota final (entre 0 e 100): 40\n",
            "Lamento, acho que você precisa estudar mais!\n"
          ],
          "name": "stdout"
        }
      ]
    },
    {
      "cell_type": "code",
      "metadata": {
        "id": "30sYWsuY1S5-"
      },
      "source": [
        "# Usando mais de uma condição na cláusula if e introduzindo Placeholders\r\n",
        "\r\n",
        "disciplina = input('Digite o nome da disciplina: ')\r\n",
        "nota_final = input('Digite a nota final (entre 0 e 100): ')\r\n",
        "semestre = input('Digite o semestre (1 a 4): ')\r\n",
        "\r\n",
        "if disciplina == 'Geografia' and nota_final >= '50' and int(semestre) != 1:\r\n",
        "    print('Você foi aprovado em %s com média final %r!' %(disciplina, nota_final))\r\n",
        "    #Segue a ordem dos % (placeholders)\r\n",
        "else:\r\n",
        "    print('Lamento, acho que você precisa estudar mais!')"
      ],
      "execution_count": null,
      "outputs": []
    },
    {
      "cell_type": "code",
      "metadata": {
        "id": "6ouM5NJ8GzUL",
        "colab": {
          "base_uri": "https://localhost:8080/"
        },
        "outputId": "9d912dfa-c716-4de7-abf0-c20c7584bfae"
      },
      "source": [
        "# Calculadora #\r\n",
        "## não sei qual o erro\r\n",
        "\r\n",
        "def soma(x,y):\r\n",
        "   return x + y\r\n",
        "\r\n",
        "def sub(x,y):\r\n",
        "   return x - y\r\n",
        "\r\n",
        "def mult(x,y):\r\n",
        "   return x * y\r\n",
        "\r\n",
        "def div(x,y):\r\n",
        "   return x / y\r\n",
        "\r\n",
        "operacao = int(input('Qual o número da operação que você deseja fazer: 1- Soma, 2-Subtração, 3- Multiplicação ou 4 - Divisão: \\n'))\r\n",
        "\r\n",
        "primeironumero = int(input('Digite o primeiro número: \\n')) \r\n",
        "\r\n",
        "segundonumero = int(input('Digite o segundo número: \\n'))\r\n",
        "\r\n",
        "if operacao == 1:\r\n",
        "  print(soma(primeironumero, segundonumero))\r\n",
        "elif operacao == 2:\r\n",
        "  print(sub(primeironumero, segundonumero))\r\n",
        "elif operacao == 3:\r\n",
        "  print(mult(primeironumero, segundonumero))\r\n",
        "elif operacao == 4:\r\n",
        "  print(div(primeironumero, segundonumero))\r\n",
        "else: \r\n",
        "  print('Lamento, essa operação não é válida!')"
      ],
      "execution_count": null,
      "outputs": [
        {
          "output_type": "stream",
          "text": [
            "Qual o número da operação que você deseja fazer: 1- Soma, 2-Subtração, 3- Multiplicação ou 4 - Divisão: \n",
            "2\n",
            "Digite o primeiro número: \n",
            "8\n",
            "Digite o segundo número: \n",
            "4\n",
            "4\n"
          ],
          "name": "stdout"
        }
      ]
    },
    {
      "cell_type": "code",
      "metadata": {
        "id": "paYyBKIQGKiM",
        "colab": {
          "base_uri": "https://localhost:8080/"
        },
        "outputId": "d274a4ad-041c-4a5c-d74e-1e502332d31d"
      },
      "source": [
        "##Calculadora melhorada##\r\n",
        "operacao = int(input('Qual o número da operação que você deseja fazer: 1- Soma, 2-Subtração, 3- Multiplicação ou 4 - Divisão: \\n'))\r\n",
        "\r\n",
        "if operacao <= 4 and operacao > 0 :\r\n",
        "    primeironumero = float(input('Digite o primeiro número: \\n')) \r\n",
        "    \r\n",
        "    segundonumero = float(input('Digite o segundo número: \\n'))\r\n",
        "    \r\n",
        "    \r\n",
        "    if operacao == 1:\r\n",
        "      print(soma(primeironumero, segundonumero))\r\n",
        "    elif operacao == 2:\r\n",
        "      print(sub(primeironumero, segundonumero))\r\n",
        "    elif operacao == 3:\r\n",
        "      print(mult(primeironumero, segundonumero))\r\n",
        "    elif operacao == 4:\r\n",
        "      print(div(primeironumero, segundonumero))\r\n",
        "else: \r\n",
        "  print('Lamento, essa operação não é válida!')"
      ],
      "execution_count": null,
      "outputs": [
        {
          "output_type": "stream",
          "text": [
            "Qual o número da operação que você deseja fazer: 1- Soma, 2-Subtração, 3- Multiplicação ou 4 - Divisão: \n",
            "1\n",
            "Digite o primeiro número: \n",
            "10.5\n",
            "Digite o segundo número: \n",
            "14.5\n",
            "25.0\n"
          ],
          "name": "stdout"
        }
      ]
    },
    {
      "cell_type": "markdown",
      "metadata": {
        "id": "oZ0Ntl0ZEmqI"
      },
      "source": [
        "#Loops"
      ]
    },
    {
      "cell_type": "code",
      "metadata": {
        "id": "avF7Z0jOEnxn"
      },
      "source": [
        "#For = Valida cada item para uma série de valores \r\n",
        "\r\n",
        "# Criando uma tupla e imprimindo cada um dos valores\r\n",
        "tp = (2,3,4)\r\n",
        "for i in tp:\r\n",
        "    print(i)\r\n"
      ],
      "execution_count": null,
      "outputs": []
    },
    {
      "cell_type": "code",
      "metadata": {
        "id": "2b1y0qOWGbYn"
      },
      "source": [
        "\r\n",
        "# Imprimindo na tela os números pares da lista de números\r\n",
        "lista = [1,2,3,4,5,6,7,8,9,10]\r\n",
        "for num in lista:\r\n",
        "    if num % 2 == 0: #divisível por 2\r\n",
        "        print (num)"
      ],
      "execution_count": null,
      "outputs": []
    },
    {
      "cell_type": "code",
      "metadata": {
        "colab": {
          "base_uri": "https://localhost:8080/"
        },
        "id": "3RVXm5KGGjY4",
        "outputId": "c80c12a7-b998-4a35-aecf-1bff8f17e0fd"
      },
      "source": [
        "\r\n",
        "# Strings também são sequências\r\n",
        "for caracter in 'Python':\r\n",
        "    print (caracter)"
      ],
      "execution_count": null,
      "outputs": [
        {
          "output_type": "stream",
          "text": [
            "P\n",
            "y\n",
            "t\n",
            "h\n",
            "o\n",
            "n\n"
          ],
          "name": "stdout"
        }
      ]
    },
    {
      "cell_type": "code",
      "metadata": {
        "id": "t7BTppA3GsAe"
      },
      "source": [
        "\r\n",
        "# Loops aninhados\r\n",
        "for i in range(0,5): #pra cada item\r\n",
        "    for a in range(0,5): #faz outro loop for\r\n",
        "        print(a)"
      ],
      "execution_count": null,
      "outputs": []
    },
    {
      "cell_type": "code",
      "metadata": {
        "colab": {
          "base_uri": "https://localhost:8080/"
        },
        "id": "2AFGDv6FHATZ",
        "outputId": "7379e72a-8ec7-4c20-9765-be1398025fb0"
      },
      "source": [
        "# Operando os valores de uma lista com loop for\r\n",
        "listaB = [32,53,85,10,15,17,19]\r\n",
        "soma = 0\r\n",
        "for i in listaB:\r\n",
        "    double_i = i * 2 #primeiro mutiplica\r\n",
        "    soma += double_i #depois soma\r\n",
        "\r\n",
        "print(soma)"
      ],
      "execution_count": null,
      "outputs": [
        {
          "output_type": "stream",
          "text": [
            "462\n"
          ],
          "name": "stdout"
        }
      ]
    },
    {
      "cell_type": "code",
      "metadata": {
        "id": "GD61FwiaHR2B"
      },
      "source": [
        "# Contando os itens de uma lista\r\n",
        "lista = [5,6,10,13,17]\r\n",
        "count = 0 \r\n",
        "for item in lista:\r\n",
        "    count += 1\r\n",
        "    \r\n",
        "print(count)"
      ],
      "execution_count": null,
      "outputs": []
    },
    {
      "cell_type": "code",
      "metadata": {
        "id": "cd-bVpPEHc3b"
      },
      "source": [
        "# Pesquisando em listas\r\n",
        "listaC = [5, 6, 7, 10, 50]\r\n",
        "\r\n",
        "# Loop através da lista\r\n",
        "for item in listaC:\r\n",
        "    if item == 5:\r\n",
        "        print(\"Número encontrado na lista!\")"
      ],
      "execution_count": null,
      "outputs": []
    },
    {
      "cell_type": "code",
      "metadata": {
        "colab": {
          "base_uri": "https://localhost:8080/"
        },
        "id": "Iangk6gBHffW",
        "outputId": "bb4b5383-aa10-4827-e9a3-d04c84b8cc36"
      },
      "source": [
        "# Listando as chaves de um dicionário\r\n",
        "dict = {'k1':'Python','k2':'R','k3':'Scala'}\r\n",
        "for item in dict:\r\n",
        "    print(item)"
      ],
      "execution_count": null,
      "outputs": [
        {
          "output_type": "stream",
          "text": [
            "k1\n",
            "k2\n",
            "k3\n"
          ],
          "name": "stdout"
        }
      ]
    },
    {
      "cell_type": "markdown",
      "metadata": {
        "id": "qmSZyJ3kHp70"
      },
      "source": [
        "#While"
      ]
    },
    {
      "cell_type": "code",
      "metadata": {
        "colab": {
          "base_uri": "https://localhost:8080/"
        },
        "id": "II5piGG0HrW2",
        "outputId": "ff0e11c7-f89c-4091-82d1-9c8d1cc9bba8"
      },
      "source": [
        "# Usando o loop while para imprimir os valores de 0 a 9\r\n",
        "counter = 0\r\n",
        "while counter < 10:\r\n",
        "    print(counter)\r\n",
        "    counter = counter + 1"
      ],
      "execution_count": null,
      "outputs": [
        {
          "output_type": "stream",
          "text": [
            "0\n",
            "1\n",
            "2\n",
            "3\n",
            "4\n",
            "5\n",
            "6\n",
            "7\n",
            "8\n",
            "9\n"
          ],
          "name": "stdout"
        }
      ]
    },
    {
      "cell_type": "code",
      "metadata": {
        "colab": {
          "base_uri": "https://localhost:8080/"
        },
        "id": "K0OVpeOGICcW",
        "outputId": "f717172c-7c66-4a9b-9c55-568ca44ddb9b"
      },
      "source": [
        "counter = 0\r\n",
        "while counter < 100:\r\n",
        "    if counter == 4:\r\n",
        "        break\r\n",
        "    else:\r\n",
        "        pass\r\n",
        "    print(counter)\r\n",
        "    counter = counter + 1"
      ],
      "execution_count": null,
      "outputs": [
        {
          "output_type": "stream",
          "text": [
            "0\n",
            "1\n",
            "2\n",
            "3\n"
          ],
          "name": "stdout"
        }
      ]
    },
    {
      "cell_type": "code",
      "metadata": {
        "id": "wu1KkuTqI1hK"
      },
      "source": [
        "for verificador in \"Python\":\r\n",
        "    if verificador == \"h\":\r\n",
        "        continue  #Ou seja, pula o H\r\n",
        "    print(verificador)"
      ],
      "execution_count": null,
      "outputs": []
    },
    {
      "cell_type": "code",
      "metadata": {
        "id": "1ZoCx5x5I_yg"
      },
      "source": [
        "for i in range(2,30):  # Essa eu n entendi\r\n",
        "    j = 2\r\n",
        "    counter = 0\r\n",
        "    while j < i:\r\n",
        "        if i % j == 0: #i dividido por j\r\n",
        "            counter = 1\r\n",
        "            j = j + 1\r\n",
        "        else:\r\n",
        "            j = j + 1\r\n",
        "    \r\n",
        "    if counter == 0:\r\n",
        "        print(str(i) + \" é um número primo\")\r\n",
        "        counter = 0\r\n",
        "    else:\r\n",
        "        counter = 0"
      ],
      "execution_count": null,
      "outputs": []
    },
    {
      "cell_type": "markdown",
      "metadata": {
        "id": "ZVQJjJZ0JeBE"
      },
      "source": [
        "#Range \r\n",
        "Range([start], [stop], [step])\r\n",
        "\r\n",
        "obs: step = diferença entre cada número da sequência"
      ]
    },
    {
      "cell_type": "code",
      "metadata": {
        "id": "8iS7kbpRJtS-",
        "colab": {
          "base_uri": "https://localhost:8080/"
        },
        "outputId": "b50d790d-d521-439c-9473-f5b8fd9fecda"
      },
      "source": [
        "# Imprimindo números pares entre 50 e 101\r\n",
        "for i in range(50, 101, 2): #Start = 50, stop = 101, step = 2 (de dois em dois)\r\n",
        "    print(i)\r\n",
        "#Obs: stop não inclui o último número, ou seja, não inclui o 101    "
      ],
      "execution_count": null,
      "outputs": [
        {
          "output_type": "stream",
          "text": [
            "50\n",
            "52\n",
            "54\n",
            "56\n",
            "58\n",
            "60\n",
            "62\n",
            "64\n",
            "66\n",
            "68\n",
            "70\n",
            "72\n",
            "74\n",
            "76\n",
            "78\n",
            "80\n",
            "82\n",
            "84\n",
            "86\n",
            "88\n",
            "90\n",
            "92\n",
            "94\n",
            "96\n",
            "98\n",
            "100\n"
          ],
          "name": "stdout"
        }
      ]
    },
    {
      "cell_type": "code",
      "metadata": {
        "id": "clb7lYmqKApb"
      },
      "source": [
        "lista = ['Morango', 'Banana', 'Abacaxi', 'Uva']\r\n",
        "lista_tamanho = len(lista) #Bom pra quando as listas são muito grandes\r\n",
        "for i in range(0, lista_tamanho):\r\n",
        "    print(lista[i])"
      ],
      "execution_count": null,
      "outputs": []
    },
    {
      "cell_type": "code",
      "metadata": {
        "colab": {
          "base_uri": "https://localhost:8080/"
        },
        "id": "_H8NLO_AaWg0",
        "outputId": "2d9ca625-15f9-4f77-8553-2f90b624f37a"
      },
      "source": [
        "\r\n",
        "# Array de valores booleanos\r\n",
        "b = np.array([True, False, False, True])\r\n",
        "b"
      ],
      "execution_count": null,
      "outputs": [
        {
          "output_type": "execute_result",
          "data": {
            "text/plain": [
              "array([ True, False, False,  True])"
            ]
          },
          "metadata": {
            "tags": []
          },
          "execution_count": 6
        }
      ]
    },
    {
      "cell_type": "code",
      "metadata": {
        "id": "DJKwxVNeaqeo"
      },
      "source": [
        "# Array de strings\r\n",
        "s = np.array(['Python', 'R', 'Julia'])\r\n",
        "s"
      ],
      "execution_count": null,
      "outputs": []
    },
    {
      "cell_type": "markdown",
      "metadata": {
        "id": "W0Br9LLYKfrm"
      },
      "source": [
        "#Métodos"
      ]
    },
    {
      "cell_type": "code",
      "metadata": {
        "colab": {
          "base_uri": "https://localhost:8080/"
        },
        "id": "HkVej2P3DjZN",
        "outputId": "1cdf0a9c-23df-45fe-b1cc-4db59f059250"
      },
      "source": [
        "Squares = [\"orange\", \"orange\", \"purple\", \"blue\"] #lista antiga\r\n",
        "NewSquares = [] #lista em branco\r\n",
        "\r\n",
        "i = 0 #começa no 0\r\n",
        "while(Squares[i]==\"orange\"):\r\n",
        "   NewSquares.append(Squares[i])\r\n",
        "   i = i+1  \r\n",
        "\r\n",
        "NewSquares "
      ],
      "execution_count": null,
      "outputs": [
        {
          "output_type": "execute_result",
          "data": {
            "text/plain": [
              "['orange', 'orange']"
            ]
          },
          "metadata": {
            "tags": []
          },
          "execution_count": 135
        }
      ]
    },
    {
      "cell_type": "code",
      "metadata": {
        "id": "LbVp71bELArL"
      },
      "source": [
        "#Cria uma lista. Algumas funções importantes:\r\n",
        " #Append, Count, Help, Dir (mostra todos os métodos e atributos de um objeto), split!"
      ],
      "execution_count": null,
      "outputs": []
    },
    {
      "cell_type": "markdown",
      "metadata": {
        "id": "TfQA8f3DEULC"
      },
      "source": [
        "#Funções"
      ]
    },
    {
      "cell_type": "code",
      "metadata": {
        "id": "EDtR6YkKLebG"
      },
      "source": [
        "# Definindo uma função\r\n",
        "def primeiraFunc():\r\n",
        "    print('Hello World')"
      ],
      "execution_count": null,
      "outputs": []
    },
    {
      "cell_type": "code",
      "metadata": {
        "id": "DrDW7wG8FDY7"
      },
      "source": [
        "##Functions \r\n",
        "\r\n",
        "def add1(a): #definindo função\r\n",
        "   b = a + 1\r\n",
        "   return (b)\r\n",
        "    "
      ],
      "execution_count": null,
      "outputs": []
    },
    {
      "cell_type": "code",
      "metadata": {
        "colab": {
          "base_uri": "https://localhost:8080/"
        },
        "id": "fkimTW7iHZfU",
        "outputId": "f5068535-7686-45d9-db70-06bccb02b3cb"
      },
      "source": [
        "add1(5)"
      ],
      "execution_count": null,
      "outputs": [
        {
          "output_type": "execute_result",
          "data": {
            "text/plain": [
              "6"
            ]
          },
          "metadata": {
            "tags": []
          },
          "execution_count": 138
        }
      ]
    },
    {
      "cell_type": "code",
      "metadata": {
        "colab": {
          "base_uri": "https://localhost:8080/"
        },
        "id": "QeveinbzIzxz",
        "outputId": "92f6c7cf-ac87-4284-c9d7-9f9879e3960b"
      },
      "source": [
        "a=1\r\n",
        "\r\n",
        "def add(b):\r\n",
        "\r\n",
        "    return a+b\r\n",
        "\r\n",
        "c=add(10)\r\n",
        "c"
      ],
      "execution_count": null,
      "outputs": [
        {
          "output_type": "execute_result",
          "data": {
            "text/plain": [
              "11"
            ]
          },
          "metadata": {
            "tags": []
          },
          "execution_count": 65
        }
      ]
    },
    {
      "cell_type": "code",
      "metadata": {
        "id": "3YBRsjOrL-v6"
      },
      "source": [
        "# Definindo uma função com parâmetro\r\n",
        "def primeiraFunc(nome):\r\n",
        "    print('Hello %s' %(nome))\r\n"
      ],
      "execution_count": null,
      "outputs": []
    },
    {
      "cell_type": "code",
      "metadata": {
        "colab": {
          "base_uri": "https://localhost:8080/"
        },
        "id": "Y7qjkGRWMww1",
        "outputId": "4d50bcb8-81e3-4dc2-d6dd-faec0a3e9b69"
      },
      "source": [
        "\r\n",
        "primeiraFunc('Victoria')"
      ],
      "execution_count": null,
      "outputs": [
        {
          "output_type": "stream",
          "text": [
            "Hello Victoria\n"
          ],
          "name": "stdout"
        }
      ]
    },
    {
      "cell_type": "code",
      "metadata": {
        "id": "G_vGO48eM9Rl"
      },
      "source": [
        "def funcLeitura():\r\n",
        "    for i in range(0, 5):\r\n",
        "        print(\"Número \" + str(i))"
      ],
      "execution_count": null,
      "outputs": []
    },
    {
      "cell_type": "code",
      "metadata": {
        "colab": {
          "base_uri": "https://localhost:8080/"
        },
        "id": "Rde3wGtENGKl",
        "outputId": "f21794f5-2885-430f-831d-6919711cbe87"
      },
      "source": [
        "\r\n",
        "funcLeitura()"
      ],
      "execution_count": null,
      "outputs": [
        {
          "output_type": "stream",
          "text": [
            "Número 0\n",
            "Número 1\n",
            "Número 2\n",
            "Número 3\n",
            "Número 4\n"
          ],
          "name": "stdout"
        }
      ]
    },
    {
      "cell_type": "code",
      "metadata": {
        "id": "5VATvc1GNM_7"
      },
      "source": [
        "# Função para somar números\r\n",
        "def addNum(firstnum, secondnum):\r\n",
        "    print(\"Primeiro número: \" + str(firstnum))\r\n",
        "    print(\"Segundo número: \" + str(secondnum))\r\n",
        "    print(\"Soma: \", firstnum + secondnum)"
      ],
      "execution_count": null,
      "outputs": []
    },
    {
      "cell_type": "code",
      "metadata": {
        "colab": {
          "base_uri": "https://localhost:8080/"
        },
        "id": "RAazCqznNNyn",
        "outputId": "b9cc82d5-80da-40f8-e4c3-bf96affd370a"
      },
      "source": [
        "# Chamando a função e passando parâmetros\r\n",
        "addNum(45, 3)"
      ],
      "execution_count": null,
      "outputs": [
        {
          "output_type": "stream",
          "text": [
            "Primeiro número: 45\n",
            "Segundo número: 3\n",
            "Soma:  48\n"
          ],
          "name": "stdout"
        }
      ]
    },
    {
      "cell_type": "code",
      "metadata": {
        "id": "Ynn-omM2Nd5s"
      },
      "source": [
        "# Variável Local\r\n",
        "var_global = 10  # Esta é uma variável global\r\n",
        "def multiply(num1, num2):\r\n",
        "    var_local = num1 * num2   # Esta é uma variável local\r\n",
        "    print(var_local)"
      ],
      "execution_count": null,
      "outputs": []
    },
    {
      "cell_type": "code",
      "metadata": {
        "colab": {
          "base_uri": "https://localhost:8080/"
        },
        "id": "O7myR9j2NvB6",
        "outputId": "9f6490d0-618c-401d-8e41-9bb683d1e4ba"
      },
      "source": [
        "multiply(5, 25)"
      ],
      "execution_count": null,
      "outputs": [
        {
          "output_type": "stream",
          "text": [
            "125\n"
          ],
          "name": "stdout"
        }
      ]
    },
    {
      "cell_type": "code",
      "metadata": {
        "id": "_LSAAjUjNzYN"
      },
      "source": [
        "#print(var_local) #Ela só existe ali dentro da função, fora não existe. "
      ],
      "execution_count": null,
      "outputs": []
    },
    {
      "cell_type": "code",
      "metadata": {
        "colab": {
          "base_uri": "https://localhost:8080/"
        },
        "id": "tb1QSZLNN4k0",
        "outputId": "9f098517-b86e-44c5-fccf-f98c3824f5ea"
      },
      "source": [
        "#Funções str, int, float\r\n",
        "\r\n",
        "idade = int(input(\"Digite sua idade: \")) #precisa do int pq é um valor numérico\r\n",
        "if idade > 13:\r\n",
        "  print(\"Você pode acessar o Facebook\")"
      ],
      "execution_count": null,
      "outputs": [
        {
          "output_type": "stream",
          "text": [
            "Digite sua idade: 23\n",
            "Você pode acessar o Facebook\n"
          ],
          "name": "stdout"
        }
      ]
    },
    {
      "cell_type": "code",
      "metadata": {
        "id": "ZRXd8FqIPlUd"
      },
      "source": [
        "#Lambda = Cria um objeto, mas o retorna como um resultado em tempo de execução"
      ],
      "execution_count": null,
      "outputs": []
    },
    {
      "cell_type": "code",
      "metadata": {
        "id": "PYLi2_icPv2f"
      },
      "source": [
        "# Definindo uma expressão lambda\r\n",
        "potencia = lambda num: num**2  #elevado a 2"
      ],
      "execution_count": null,
      "outputs": []
    },
    {
      "cell_type": "code",
      "metadata": {
        "colab": {
          "base_uri": "https://localhost:8080/"
        },
        "id": "0I64D9mdP5Lz",
        "outputId": "5fea30ad-2ceb-4020-ca9a-b02a3b4c3ca4"
      },
      "source": [
        "potencia(5)"
      ],
      "execution_count": null,
      "outputs": [
        {
          "output_type": "execute_result",
          "data": {
            "text/plain": [
              "25"
            ]
          },
          "metadata": {
            "tags": []
          },
          "execution_count": 154
        }
      ]
    },
    {
      "cell_type": "markdown",
      "metadata": {
        "id": "rWhNl5J8me20"
      },
      "source": [
        "#Classes"
      ]
    },
    {
      "cell_type": "code",
      "metadata": {
        "id": "QnxQIOVvJKhx"
      },
      "source": [
        "#Objects and classes \r\n",
        "#Objeto é uma instância da classe!\r\n",
        " #The class has data attributes. The class has methods.\r\n",
        " #Toda classe, você usa esse self \r\n",
        "#Class Circle (exemplo):\r\n",
        "#The function \"in-it\" is a constructor. It’s a special function that tells Python you are making a new class. There are other special functions in Python.\r\n",
        "\r\n",
        "class Circle(object):  #definindo a classe\r\n",
        "  def __init__ (self, radius, color):  #Data attributes used to initialize each instance of the class\r\n",
        "      self.radius = radius;\r\n",
        "      self.color = color; \r\n",
        "\r\n",
        "  #Métodos \r\n",
        "  def add_radius(self, r): \r\n",
        "      self.radius = self.radius + r\r\n",
        "      \r\n",
        "#Class Rectangle\r\n",
        "#class Rectangle(object):\r\n"
      ],
      "execution_count": null,
      "outputs": []
    },
    {
      "cell_type": "code",
      "metadata": {
        "id": "QTptoWfTEOe1"
      },
      "source": [
        "# Criando uma classe chamada Livro\r\n",
        "class Livro():\r\n",
        "    \r\n",
        "    # Este método vai inicializar cada objeto criado a partir desta classe\r\n",
        "    # O nome deste método é __init__\r\n",
        "    # (self) é uma referência a cada atributo de um objeto criado a partir desta classe\r\n",
        "    def __init__(self):\r\n",
        "        \r\n",
        "        # Atributos de cada objeto criado a partir desta classe. \r\n",
        "        # O self indica que estes são atributos dos objetos\r\n",
        "        self.titulo = 'O Monge e o Executivo'\r\n",
        "        self.isbn = 9988888\r\n",
        "        print(\"Construtor chamado para criar um objeto desta classe\")\r\n",
        "        \r\n",
        "    # Métodos são funções, que recebem como parâmetro atributos do objeto criado    \r\n",
        "    def imprime(self):\r\n",
        "        print(\"Foi criado o livro %s e ISBN %d\" %(self.titulo, self.isbn))"
      ],
      "execution_count": null,
      "outputs": []
    },
    {
      "cell_type": "code",
      "metadata": {
        "colab": {
          "base_uri": "https://localhost:8080/"
        },
        "id": "ADcxp9fREUSJ",
        "outputId": "78e8f558-d8d2-4f5e-b6e6-0fd1b225f1a4"
      },
      "source": [
        "Livro1.imprime()"
      ],
      "execution_count": null,
      "outputs": [
        {
          "output_type": "stream",
          "text": [
            "Foi criado o livro O Monge e o Executivo e ISBN 9988888\n"
          ],
          "name": "stdout"
        }
      ]
    },
    {
      "cell_type": "code",
      "metadata": {
        "colab": {
          "base_uri": "https://localhost:8080/"
        },
        "id": "F8VVJNmmE76x",
        "outputId": "113d3599-872a-4104-d293-db50b105cff1"
      },
      "source": [
        "# Criando uma instância da classe Livro\r\n",
        "Livro1 = Livro()"
      ],
      "execution_count": null,
      "outputs": [
        {
          "output_type": "stream",
          "text": [
            "Construtor chamado para criar um objeto desta classe\n"
          ],
          "name": "stdout"
        }
      ]
    },
    {
      "cell_type": "code",
      "metadata": {
        "colab": {
          "base_uri": "https://localhost:8080/"
        },
        "id": "ILqbYLk9tYof",
        "outputId": "43137a02-9744-4716-c086-bc3da70887a7"
      },
      "source": [
        "1/2"
      ],
      "execution_count": null,
      "outputs": [
        {
          "output_type": "execute_result",
          "data": {
            "text/plain": [
              "0.5"
            ]
          },
          "metadata": {
            "tags": []
          },
          "execution_count": 121
        }
      ]
    },
    {
      "cell_type": "code",
      "metadata": {
        "colab": {
          "base_uri": "https://localhost:8080/"
        },
        "id": "G_VoQBhEMEts",
        "outputId": "ceadda5f-395d-4409-ca27-a54e81b1cbb0"
      },
      "source": [
        "C1 = Circle( 10, \"red\") \r\n",
        "C1.radius\r\n",
        "C1.add_radius(5)\r\n",
        "C1.radius"
      ],
      "execution_count": null,
      "outputs": [
        {
          "output_type": "execute_result",
          "data": {
            "text/plain": [
              "15"
            ]
          },
          "metadata": {
            "tags": []
          },
          "execution_count": 39
        }
      ]
    },
    {
      "cell_type": "code",
      "metadata": {
        "id": "p9qIj3oQMU7k",
        "colab": {
          "base_uri": "https://localhost:8080/"
        },
        "outputId": "5bb12cf9-5a0d-4fa5-a702-fd4732dd00ed"
      },
      "source": [
        "class Points(object):\r\n",
        "  def __init__(self,x,y):\r\n",
        "   self.x=x\r\n",
        "   self.y=y\r\n",
        "  def print_point(self): \r\n",
        "   print('x=',self.x,' y=',self.y)\r\n",
        "\r\n",
        "p2=Points(1,2)\r\n",
        "\r\n",
        "p2.x=2\r\n",
        "\r\n",
        "p2.print_point()\r\n"
      ],
      "execution_count": null,
      "outputs": [
        {
          "output_type": "stream",
          "text": [
            "x= 2  y= 2\n"
          ],
          "name": "stdout"
        }
      ]
    },
    {
      "cell_type": "code",
      "metadata": {
        "id": "t4pSdyEZAIzm"
      },
      "source": [
        "#Métodos especiais \r\n",
        "# Criando a classe Livro\r\n",
        "class Livro():\r\n",
        "    def __init__(self, titulo, autor, paginas):\r\n",
        "        print (\"Livro criado\")\r\n",
        "        self.titulo = titulo\r\n",
        "        self.autor = autor\r\n",
        "        self.paginas = paginas\r\n",
        "                \r\n",
        "    def __str__(self):  #comando __str__ retorna o texto!\r\n",
        "        return \"Título: %s , autor: %s, páginas: %s \" \\ #contra-barra faz vc continuar comando na outra linha\r\n",
        "    %(self.titulo, self.autor, self.paginas)\r\n",
        "\r\n",
        "    def __len__(self):\r\n",
        "        return self.paginas\r\n",
        "    #Esses dois fazem basicamente a mesma coisa\r\n",
        "    def len(self):\r\n",
        "        return print(\"Páginas do livro com método comum: \", self.paginas)\r\n"
      ],
      "execution_count": null,
      "outputs": []
    },
    {
      "cell_type": "code",
      "metadata": {
        "colab": {
          "base_uri": "https://localhost:8080/"
        },
        "id": "2pEabZI0AWts",
        "outputId": "46500a45-57f2-4bb5-a7c7-b5fe13700611"
      },
      "source": [
        "livro1 = Livro(\"Os Lusíadas\", \"Luis de Camões\", 8816)"
      ],
      "execution_count": null,
      "outputs": [
        {
          "output_type": "stream",
          "text": [
            "Livro criado\n"
          ],
          "name": "stdout"
        }
      ]
    },
    {
      "cell_type": "code",
      "metadata": {
        "colab": {
          "base_uri": "https://localhost:8080/"
        },
        "id": "oDHbkI3iAfmC",
        "outputId": "7600b998-c63f-4d82-ad99-d79b1cf22154"
      },
      "source": [
        "# Métodos especiais\r\n",
        "print(livro1) #print chama o __str__\r\n"
      ],
      "execution_count": null,
      "outputs": [
        {
          "output_type": "stream",
          "text": [
            "Título: Os Lusíadas , autor: Luis de Camões, páginas: 8816 \n"
          ],
          "name": "stdout"
        }
      ]
    },
    {
      "cell_type": "code",
      "metadata": {
        "colab": {
          "base_uri": "https://localhost:8080/",
          "height": 35
        },
        "id": "gc28UUi4AgWr",
        "outputId": "c9386d58-780c-4a93-e4ee-1e11842f3ed5"
      },
      "source": [
        "str(livro1)"
      ],
      "execution_count": null,
      "outputs": [
        {
          "output_type": "execute_result",
          "data": {
            "application/vnd.google.colaboratory.intrinsic+json": {
              "type": "string"
            },
            "text/plain": [
              "'Título: Os Lusíadas , autor: Luis de Camões, páginas: 8816 '"
            ]
          },
          "metadata": {
            "tags": []
          },
          "execution_count": 11
        }
      ]
    },
    {
      "cell_type": "code",
      "metadata": {
        "colab": {
          "base_uri": "https://localhost:8080/"
        },
        "id": "spgqnxFgAh73",
        "outputId": "c1d49ae5-a540-4d72-9993-c20f5b7be71b"
      },
      "source": [
        "len(livro1)"
      ],
      "execution_count": null,
      "outputs": [
        {
          "output_type": "execute_result",
          "data": {
            "text/plain": [
              "8816"
            ]
          },
          "metadata": {
            "tags": []
          },
          "execution_count": 12
        }
      ]
    },
    {
      "cell_type": "markdown",
      "metadata": {
        "id": "3-J9lLwDFS_R"
      },
      "source": [
        "# Objetos"
      ]
    },
    {
      "cell_type": "code",
      "metadata": {
        "id": "u97pOx1tFWy8"
      },
      "source": [
        "#Em Python, tudo é objeto! "
      ],
      "execution_count": null,
      "outputs": []
    },
    {
      "cell_type": "code",
      "metadata": {
        "id": "0D6zMcX5FgFu"
      },
      "source": [
        "# Criando uma lista\r\n",
        "lst_num = [\"Data\", \"Science\", \"Academy\", \"Nota\", 10, 10]"
      ],
      "execution_count": null,
      "outputs": []
    },
    {
      "cell_type": "code",
      "metadata": {
        "colab": {
          "base_uri": "https://localhost:8080/"
        },
        "id": "XY4lI80SFoOV",
        "outputId": "3cc7e2f7-3f93-42fe-af69-534854462ad6"
      },
      "source": [
        "type(lst_num)"
      ],
      "execution_count": null,
      "outputs": [
        {
          "output_type": "execute_result",
          "data": {
            "text/plain": [
              "list"
            ]
          },
          "metadata": {
            "tags": []
          },
          "execution_count": 72
        }
      ]
    },
    {
      "cell_type": "markdown",
      "metadata": {
        "id": "CeNbdz11LB_j"
      },
      "source": [
        "#Herança "
      ]
    },
    {
      "cell_type": "code",
      "metadata": {
        "id": "2F4YRMOtLFOr"
      },
      "source": [
        "#É uma forma de gerar novas classes usando classes que foram definida previamente"
      ],
      "execution_count": null,
      "outputs": []
    },
    {
      "cell_type": "code",
      "metadata": {
        "id": "tzhDDdZQLXpH"
      },
      "source": [
        "# Criando a classe Animal - Super-classe\r\n",
        "class Animal():\r\n",
        "    \r\n",
        "    def __init__(self):\r\n",
        "        print(\"Animal criado\")\r\n",
        "\r\n",
        "    def Identif(self):\r\n",
        "        print(\"Animal\")\r\n",
        "\r\n",
        "    def comer(self):\r\n",
        "        print(\"Comendo\")"
      ],
      "execution_count": null,
      "outputs": []
    },
    {
      "cell_type": "code",
      "metadata": {
        "id": "SlQFoU3R_S4c"
      },
      "source": [
        "# Criando a classe Cachorro - Sub-classe\r\n",
        "class Cachorro(Animal):\r\n",
        "    \r\n",
        "    def __init__(self):\r\n",
        "        Animal.__init__(self)\r\n",
        "        print(\"Objeto Cachorro criado\")\r\n",
        "\r\n",
        "    def Identif(self):\r\n",
        "        print(\"Cachorro\")\r\n",
        "\r\n",
        "    def latir(self):\r\n",
        "        print(\"Au Au!\")"
      ],
      "execution_count": null,
      "outputs": []
    },
    {
      "cell_type": "code",
      "metadata": {
        "colab": {
          "base_uri": "https://localhost:8080/"
        },
        "id": "VvQ-Rr0J_aav",
        "outputId": "dcbdcabc-3714-4705-f7c9-fb30e76a72fe"
      },
      "source": [
        "rex = Cachorro()"
      ],
      "execution_count": null,
      "outputs": [
        {
          "output_type": "stream",
          "text": [
            "Animal criado\n",
            "Objeto Cachorro criado\n"
          ],
          "name": "stdout"
        }
      ]
    },
    {
      "cell_type": "code",
      "metadata": {
        "colab": {
          "base_uri": "https://localhost:8080/"
        },
        "id": "be6mRoHJ_d-Z",
        "outputId": "570f70fe-f7ba-45c9-d255-5ec0af9e1006"
      },
      "source": [
        "rex.latir()"
      ],
      "execution_count": null,
      "outputs": [
        {
          "output_type": "stream",
          "text": [
            "Au Au!\n"
          ],
          "name": "stdout"
        }
      ]
    },
    {
      "cell_type": "markdown",
      "metadata": {
        "id": "eWm37MU7mn13"
      },
      "source": [
        "#Reading files with open"
      ]
    },
    {
      "cell_type": "code",
      "metadata": {
        "id": "08_lG_wOO6iQ",
        "colab": {
          "base_uri": "https://localhost:8080/",
          "height": 132
        },
        "outputId": "a02d1eb6-bfde-4d8b-aaba-10b278a5d140"
      },
      "source": [
        "\r\n",
        "\r\n",
        "#We set the mode parameter to 'r' for writing.\r\n",
        "\r\n",
        "with open(\"Example1.txt\", \"r\") as File1:\r\n",
        "    file_stuff = File1.read()  #The method read stores the values of the file in the variable file_stuff as a string.\r\n",
        "    print(file_stuff)\r\n",
        " print(File1.closed)\r\n",
        " print(file_stuff)\r\n",
        "\r\n"
      ],
      "execution_count": null,
      "outputs": [
        {
          "output_type": "error",
          "ename": "IndentationError",
          "evalue": "ignored",
          "traceback": [
            "\u001b[0;36m  File \u001b[0;32m\"<ipython-input-43-5b282c5e51a0>\"\u001b[0;36m, line \u001b[0;32m8\u001b[0m\n\u001b[0;31m    print(File1.closed)\u001b[0m\n\u001b[0m                       ^\u001b[0m\n\u001b[0;31mIndentationError\u001b[0m\u001b[0;31m:\u001b[0m unindent does not match any outer indentation level\n"
          ]
        }
      ]
    },
    {
      "cell_type": "code",
      "metadata": {
        "colab": {
          "base_uri": "https://localhost:8080/",
          "height": 132
        },
        "id": "eoAgZhbXd5gj",
        "outputId": "57bdb0d8-d150-470a-9ad1-a80953199044"
      },
      "source": [
        ""
      ],
      "execution_count": null,
      "outputs": [
        {
          "output_type": "error",
          "ename": "SyntaxError",
          "evalue": "ignored",
          "traceback": [
            "\u001b[0;36m  File \u001b[0;32m\"<ipython-input-69-5124a284e80e>\"\u001b[0;36m, line \u001b[0;32m11\u001b[0m\n\u001b[0;31m    return(y)\u001b[0m\n\u001b[0m             ^\u001b[0m\n\u001b[0;31mSyntaxError\u001b[0m\u001b[0;31m:\u001b[0m 'return' outside function\n"
          ]
        }
      ]
    },
    {
      "cell_type": "code",
      "metadata": {
        "id": "LJCGLbnXPMd_"
      },
      "source": [
        "import pandas as pd\r\n",
        "#Método ix[0,0] permite vc acessar com mais facilidade a linha e a coluna de um dataframe exclusivamente\r\n",
        "\r\n",
        "#ix[0,0] primeira linha, primeira coluna\r\n",
        "#ix[1,0] segunda linha, primeira coluna\r\n",
        "\r\n"
      ],
      "execution_count": null,
      "outputs": []
    },
    {
      "cell_type": "code",
      "metadata": {
        "id": "R8WJjkGGewFe"
      },
      "source": [
        "import numpy as np"
      ],
      "execution_count": null,
      "outputs": []
    },
    {
      "cell_type": "code",
      "metadata": {
        "colab": {
          "base_uri": "https://localhost:8080/"
        },
        "id": "TjQLKbSrUy-e",
        "outputId": "b1ed28f4-8fe6-445d-f9ca-350ec2bb877b"
      },
      "source": [
        "df=pd.DataFrame({'a':[1,2,1],'b':[1,1,1]})\r\n",
        "df['a']==1"
      ],
      "execution_count": null,
      "outputs": [
        {
          "output_type": "execute_result",
          "data": {
            "text/plain": [
              "0     True\n",
              "1    False\n",
              "2     True\n",
              "Name: a, dtype: bool"
            ]
          },
          "metadata": {
            "tags": []
          },
          "execution_count": 74
        }
      ]
    },
    {
      "cell_type": "code",
      "metadata": {
        "colab": {
          "base_uri": "https://localhost:8080/"
        },
        "id": "pS6F26kpcMTf",
        "outputId": "78d66ada-ba5f-4eee-9f09-a78814c2cb27"
      },
      "source": [
        "np.array([1,-1])*np.array([1,1])"
      ],
      "execution_count": null,
      "outputs": [
        {
          "output_type": "execute_result",
          "data": {
            "text/plain": [
              "array([ 1, -1])"
            ]
          },
          "metadata": {
            "tags": []
          },
          "execution_count": 78
        }
      ]
    },
    {
      "cell_type": "code",
      "metadata": {
        "colab": {
          "base_uri": "https://localhost:8080/"
        },
        "id": "gylcgPiIfI_E",
        "outputId": "cd7b9eb7-eda5-4d23-8ac7-5f79d6fac011"
      },
      "source": [
        "a=np.array([0,1])\r\n",
        "\r\n",
        "b=np.array([1,0])\r\n",
        "\r\n",
        "np.dot(a,b) #multiplicação de matrizes"
      ],
      "execution_count": null,
      "outputs": [
        {
          "output_type": "execute_result",
          "data": {
            "text/plain": [
              "0"
            ]
          },
          "metadata": {
            "tags": []
          },
          "execution_count": 80
        }
      ]
    },
    {
      "cell_type": "code",
      "metadata": {
        "colab": {
          "base_uri": "https://localhost:8080/"
        },
        "id": "lSyzd6p0f2Vf",
        "outputId": "490d4dc9-5ef7-4fa1-bd1e-ee4beedfcbda"
      },
      "source": [
        "a=np.array([1,1,1,1,1])\r\n",
        "\r\n",
        "a+10"
      ],
      "execution_count": null,
      "outputs": [
        {
          "output_type": "execute_result",
          "data": {
            "text/plain": [
              "array([11, 11, 11, 11, 11])"
            ]
          },
          "metadata": {
            "tags": []
          },
          "execution_count": 85
        }
      ]
    },
    {
      "cell_type": "code",
      "metadata": {
        "colab": {
          "base_uri": "https://localhost:8080/"
        },
        "id": "A90in1r6fxrJ",
        "outputId": "1e3ace99-1a32-4def-a13f-1a9d29c99dcc"
      },
      "source": [
        "a=np.array([0,1])\r\n",
        "\r\n",
        "b=np.array([1,0])\r\n",
        "\r\n",
        "np.dot(a,b)"
      ],
      "execution_count": null,
      "outputs": [
        {
          "output_type": "execute_result",
          "data": {
            "text/plain": [
              "0"
            ]
          },
          "metadata": {
            "tags": []
          },
          "execution_count": 84
        }
      ]
    },
    {
      "cell_type": "code",
      "metadata": {
        "id": "R4sPug0jgsyr"
      },
      "source": [
        " A='1234567'"
      ],
      "execution_count": null,
      "outputs": []
    },
    {
      "cell_type": "code",
      "metadata": {
        "colab": {
          "base_uri": "https://localhost:8080/",
          "height": 35
        },
        "id": "ToPMYJC8g3Dx",
        "outputId": "43e36e2c-6b1d-448a-f0e6-451acf9cdb22"
      },
      "source": [
        "A[1::2]"
      ],
      "execution_count": null,
      "outputs": [
        {
          "output_type": "execute_result",
          "data": {
            "application/vnd.google.colaboratory.intrinsic+json": {
              "type": "string"
            },
            "text/plain": [
              "'246'"
            ]
          },
          "metadata": {
            "tags": []
          },
          "execution_count": 89
        }
      ]
    },
    {
      "cell_type": "markdown",
      "metadata": {
        "id": "zal5XqubivV3"
      },
      "source": [
        "#Datas e Horários"
      ]
    },
    {
      "cell_type": "code",
      "metadata": {
        "id": "TMnhxI50iz1Z"
      },
      "source": [
        "from datetime import date\r\n",
        "from datetime import time \r\n",
        "from datetime import datetime"
      ],
      "execution_count": null,
      "outputs": []
    },
    {
      "cell_type": "code",
      "metadata": {
        "id": "bfnTgQBzl-S_"
      },
      "source": [
        "import datetime"
      ],
      "execution_count": null,
      "outputs": []
    },
    {
      "cell_type": "code",
      "metadata": {
        "colab": {
          "base_uri": "https://localhost:8080/"
        },
        "id": "UeRlPhZXmARJ",
        "outputId": "7d3d3a82-9e49-48e3-abdb-b99732b6e313"
      },
      "source": [
        "t = datetime.time(7, 43, 28)\r\n",
        "print (t)"
      ],
      "execution_count": null,
      "outputs": [
        {
          "output_type": "stream",
          "text": [
            "07:43:28\n"
          ],
          "name": "stdout"
        }
      ]
    },
    {
      "cell_type": "code",
      "metadata": {
        "colab": {
          "base_uri": "https://localhost:8080/"
        },
        "id": "DSGXbJaEmFjE",
        "outputId": "d7aaf2bf-2429-4122-e362-ce5b08c71d8b"
      },
      "source": [
        "print ('Hora  :', t.hour)\r\n",
        "print ('Minute:', t.minute)\r\n",
        "print ('Segundo:', t.second)\r\n",
        "print ('Microsegundo:', t.microsecond)"
      ],
      "execution_count": null,
      "outputs": [
        {
          "output_type": "stream",
          "text": [
            "Hora  : 7\n",
            "Minute: 43\n",
            "Segundo: 28\n",
            "Microsegundo: 0\n"
          ],
          "name": "stdout"
        }
      ]
    },
    {
      "cell_type": "code",
      "metadata": {
        "colab": {
          "base_uri": "https://localhost:8080/"
        },
        "id": "JeTf177jjCtv",
        "outputId": "93d50265-0a7c-47f9-e115-13634038be6f"
      },
      "source": [
        "#Data de hoje \r\n",
        "today = date.today()\r\n",
        "print(\"Hoje é\", today)\r\n"
      ],
      "execution_count": null,
      "outputs": [
        {
          "output_type": "stream",
          "text": [
            "Hoje é 2021-01-12\n"
          ],
          "name": "stdout"
        }
      ]
    },
    {
      "cell_type": "code",
      "metadata": {
        "colab": {
          "base_uri": "https://localhost:8080/"
        },
        "id": "XaQeIGXMjPTQ",
        "outputId": "a60086f1-b861-4220-f686-31ccb6373ea2"
      },
      "source": [
        "now = datetime.now()\r\n",
        "print (\"Agora são\", datetime.now())"
      ],
      "execution_count": null,
      "outputs": [
        {
          "output_type": "stream",
          "text": [
            "Agora são 2021-01-12 17:11:59.029940\n"
          ],
          "name": "stdout"
        }
      ]
    },
    {
      "cell_type": "code",
      "metadata": {
        "colab": {
          "base_uri": "https://localhost:8080/"
        },
        "id": "ycfDJV3-j9Lm",
        "outputId": "dcfa624b-2501-4d2a-853c-89c3c3e3a737"
      },
      "source": [
        "print(now.strftime(\"The current year is: %Y\"))"
      ],
      "execution_count": null,
      "outputs": [
        {
          "output_type": "stream",
          "text": [
            "The current year is: 2021\n"
          ],
          "name": "stdout"
        }
      ]
    },
    {
      "cell_type": "code",
      "metadata": {
        "colab": {
          "base_uri": "https://localhost:8080/"
        },
        "id": "w1bFpi19kemj",
        "outputId": "4ba1e0ae-ea87-4319-a638-195448549dc9"
      },
      "source": [
        "print(now.strftime(\"%a, %d %B, %y\"))"
      ],
      "execution_count": null,
      "outputs": [
        {
          "output_type": "stream",
          "text": [
            "Mon, 11 January, 21\n"
          ],
          "name": "stdout"
        }
      ]
    },
    {
      "cell_type": "code",
      "metadata": {
        "colab": {
          "base_uri": "https://localhost:8080/"
        },
        "id": "SLuHeOkSlA95",
        "outputId": "718cf431-747d-4982-d6a4-532446140ed9"
      },
      "source": [
        "#Agora vamos de Brasil\r\n",
        "print(now.strftime(\"Data Local e Hora: %c\")) \r\n",
        "#Fail hahahah"
      ],
      "execution_count": null,
      "outputs": [
        {
          "output_type": "stream",
          "text": [
            "Data Local e Hora: Mon Jan 11 17:49:21 2021\n",
            "Hora Local: 01/11/21\n"
          ],
          "name": "stdout"
        }
      ]
    },
    {
      "cell_type": "code",
      "metadata": {
        "colab": {
          "base_uri": "https://localhost:8080/"
        },
        "id": "a2czMPVploKy",
        "outputId": "01b410af-cef7-466a-9026-fcc530b8ea9e"
      },
      "source": [
        "today=date.today()\r\n",
        "days=[\"Mon\",\"Tue\",\"Wed\",\"Thu\",\"Fri\",\"Sat\",\"Sun\"]\r\n",
        "print(\"Tomorrow will be \"+days[(today.weekday()+1)%7])"
      ],
      "execution_count": null,
      "outputs": [
        {
          "output_type": "stream",
          "text": [
            "Tomorrow will be Tue\n"
          ],
          "name": "stdout"
        }
      ]
    },
    {
      "cell_type": "markdown",
      "metadata": {
        "id": "qU5e9dh2mSbf"
      },
      "source": [
        "#MAP"
      ]
    },
    {
      "cell_type": "code",
      "metadata": {
        "id": "n5OB-ZM4m30r"
      },
      "source": [
        "# Map é uma função que recebe dois argumentos: Uma função e uma sequência\r\n",
        "# map(função,sequência)\r\n",
        "# map () aplica a função a todos os elementos da sequência\r\n"
      ],
      "execution_count": null,
      "outputs": []
    },
    {
      "cell_type": "code",
      "metadata": {
        "id": "6lqXex-0ntF9"
      },
      "source": [
        "\r\n",
        "# Criando duas funções\r\n",
        "\r\n",
        "# Função 1 - Recebe uma temperatura como parâmetro e retorna a temperatura em Fahrenheit\r\n",
        "def fahrenheit(T):\r\n",
        "    return ((float(9)/5)*T + 32)\r\n",
        "\r\n",
        "# Função 2 - Recebe uma temperatura como parâmetro e retorna a temperatura em Celsius\r\n",
        "def celsius(T):\r\n",
        "    return (float(5)/9)*(T-32)"
      ],
      "execution_count": null,
      "outputs": []
    },
    {
      "cell_type": "code",
      "metadata": {
        "id": "J5ZAxsAXn6L6"
      },
      "source": [
        "temperaturas = [0, 22.5, 40, 100]"
      ],
      "execution_count": null,
      "outputs": []
    },
    {
      "cell_type": "code",
      "metadata": {
        "colab": {
          "base_uri": "https://localhost:8080/"
        },
        "id": "TeL19GTWn_S9",
        "outputId": "581088ae-63ee-42a7-826c-8abb1dc66776"
      },
      "source": [
        "list(map(fahrenheit, temperaturas)) \r\n",
        "# Função map() reotrnando a lista de temperaturas convertidas em Fahrenheit"
      ],
      "execution_count": null,
      "outputs": [
        {
          "output_type": "execute_result",
          "data": {
            "text/plain": [
              "[32.0, 72.5, 104.0, 212.0]"
            ]
          },
          "metadata": {
            "tags": []
          },
          "execution_count": 34
        }
      ]
    },
    {
      "cell_type": "code",
      "metadata": {
        "colab": {
          "base_uri": "https://localhost:8080/"
        },
        "id": "HglAloguoNJT",
        "outputId": "0bec66d0-c230-478e-fbb6-32ab782ff314"
      },
      "source": [
        "list(map(celsius, temperaturas)) #agora em Celsius"
      ],
      "execution_count": null,
      "outputs": [
        {
          "output_type": "execute_result",
          "data": {
            "text/plain": [
              "[-17.77777777777778, -5.277777777777778, 4.444444444444445, 37.77777777777778]"
            ]
          },
          "metadata": {
            "tags": []
          },
          "execution_count": 35
        }
      ]
    },
    {
      "cell_type": "code",
      "metadata": {
        "id": "LHvpM4h1opjt"
      },
      "source": [
        "# Somando os elementos de 3 listas\r\n",
        "a = [1,2,3,4]\r\n",
        "b = [5,6,7,8]\r\n",
        "c = [9,10,11,12]"
      ],
      "execution_count": null,
      "outputs": []
    },
    {
      "cell_type": "code",
      "metadata": {
        "colab": {
          "base_uri": "https://localhost:8080/"
        },
        "id": "dSNLL6ycorZs",
        "outputId": "53106579-0f7c-4669-a57a-50702008533c"
      },
      "source": [
        "list(map(lambda x,y,z:x+y+z, a, b, c))"
      ],
      "execution_count": null,
      "outputs": [
        {
          "output_type": "execute_result",
          "data": {
            "text/plain": [
              "[15, 18, 21, 24]"
            ]
          },
          "metadata": {
            "tags": []
          },
          "execution_count": 37
        }
      ]
    },
    {
      "cell_type": "markdown",
      "metadata": {
        "id": "a_K848hfozcV"
      },
      "source": [
        "#Reduce"
      ]
    },
    {
      "cell_type": "code",
      "metadata": {
        "id": "tFtVF3eho1Pc"
      },
      "source": [
        "#Parecida com a função map, no entanto, a função reduce aplica a função passada como parâmetro aos elementos da sequência, até que reste apenas um elemento."
      ],
      "execution_count": null,
      "outputs": []
    },
    {
      "cell_type": "code",
      "metadata": {
        "id": "ZiAPbg1npMr1"
      },
      "source": [
        "# Importando a função reduce do módulo functools\r\n",
        "from functools import reduce"
      ],
      "execution_count": null,
      "outputs": []
    },
    {
      "cell_type": "code",
      "metadata": {
        "id": "wg_UYYiwpWpH"
      },
      "source": [
        "# Criando uma lista\r\n",
        "lista = [47,11,42,13]"
      ],
      "execution_count": null,
      "outputs": []
    },
    {
      "cell_type": "code",
      "metadata": {
        "id": "wI8SspkxpeKr"
      },
      "source": [
        "# Função \r\n",
        "def soma(a,b):\r\n",
        "    x = a + b\r\n",
        "    return x"
      ],
      "execution_count": null,
      "outputs": []
    },
    {
      "cell_type": "code",
      "metadata": {
        "colab": {
          "base_uri": "https://localhost:8080/"
        },
        "id": "cZRlrWzbpi4h",
        "outputId": "862a3631-18aa-4aa0-8581-f9f4113ca7c3"
      },
      "source": [
        "reduce(soma, lista)  #Fez 47 + 11 = 58, 58 + 42 = 100 e 100 + 13 = 113"
      ],
      "execution_count": null,
      "outputs": [
        {
          "output_type": "execute_result",
          "data": {
            "text/plain": [
              "113"
            ]
          },
          "metadata": {
            "tags": []
          },
          "execution_count": 43
        }
      ]
    },
    {
      "cell_type": "markdown",
      "metadata": {
        "id": "259j-Z9XpxNh"
      },
      "source": [
        "# Filter\r\n"
      ]
    },
    {
      "cell_type": "code",
      "metadata": {
        "id": "_ft5CtzEp4sl"
      },
      "source": [
        "#Retorna um bool"
      ],
      "execution_count": null,
      "outputs": []
    },
    {
      "cell_type": "code",
      "metadata": {
        "id": "c-cEg0C8qZ-m"
      },
      "source": [
        "# Criando uma função\r\n",
        "def verificaPar(num):\r\n",
        "    if num % 2 == 0:\r\n",
        "        return True\r\n",
        "    else:\r\n",
        "        return False"
      ],
      "execution_count": null,
      "outputs": []
    },
    {
      "cell_type": "code",
      "metadata": {
        "colab": {
          "base_uri": "https://localhost:8080/"
        },
        "id": "vscAet0FqajW",
        "outputId": "dd575c60-f958-4b8d-93ce-5a1b468859cd"
      },
      "source": [
        "# Chamando a função e passando um número como parâmetro. Retornará \r\n",
        "# Falso de for ímpar e True se for par.\r\n",
        "verificaPar(35)"
      ],
      "execution_count": null,
      "outputs": [
        {
          "output_type": "execute_result",
          "data": {
            "text/plain": [
              "False"
            ]
          },
          "metadata": {
            "tags": []
          },
          "execution_count": 45
        }
      ]
    },
    {
      "cell_type": "code",
      "metadata": {
        "id": "WviDhaZOqe8e"
      },
      "source": [
        "lista = [0, 1, 2, 3, 4, 5, 6, 7, 8, 9, 10, 11, 12, 13, 14, 15, 16, 17, 18]"
      ],
      "execution_count": null,
      "outputs": []
    },
    {
      "cell_type": "code",
      "metadata": {
        "colab": {
          "base_uri": "https://localhost:8080/"
        },
        "id": "T72x2RCoqknj",
        "outputId": "977d6fea-a259-4bed-92ee-75aeae2d3822"
      },
      "source": [
        "list(filter(verificaPar, lista)) #só ficou os pares"
      ],
      "execution_count": null,
      "outputs": [
        {
          "output_type": "execute_result",
          "data": {
            "text/plain": [
              "[0, 2, 4, 6, 8, 10, 12, 14, 16, 18]"
            ]
          },
          "metadata": {
            "tags": []
          },
          "execution_count": 47
        }
      ]
    },
    {
      "cell_type": "markdown",
      "metadata": {
        "id": "74GuRJgUqtf9"
      },
      "source": [
        "#List Comprehension"
      ]
    },
    {
      "cell_type": "code",
      "metadata": {
        "id": "KGij4glqqua8"
      },
      "source": [
        "# Aplica uma sequência aleatória a uma lista - ou seja, não precisa ser necessariamente uma função.\r\n"
      ],
      "execution_count": null,
      "outputs": []
    },
    {
      "cell_type": "code",
      "metadata": {
        "colab": {
          "base_uri": "https://localhost:8080/"
        },
        "id": "edIeV21Mq80Y",
        "outputId": "6556f480-bffa-4e99-df8b-7dbba60564e2"
      },
      "source": [
        "# Retornar cada caracter em uma sequência de caracteres\r\n",
        "lst = [x for x in 'python']\r\n",
        "lst"
      ],
      "execution_count": null,
      "outputs": [
        {
          "output_type": "execute_result",
          "data": {
            "text/plain": [
              "['p', 'y', 't', 'h', 'o', 'n']"
            ]
          },
          "metadata": {
            "tags": []
          },
          "execution_count": 49
        }
      ]
    },
    {
      "cell_type": "code",
      "metadata": {
        "id": "YnF8aEhv0vkd"
      },
      "source": [
        "# Variável x elevada ao quadrado para um range de números e retornar uma lista\r\n",
        "lst = [x**2 for x in range(0, 11)]"
      ],
      "execution_count": null,
      "outputs": []
    },
    {
      "cell_type": "code",
      "metadata": {
        "id": "JAh5yBAX0xGY"
      },
      "source": [
        "# Verificar os números pares em um range de números\r\n",
        "lst = [x for x in range(11) if x % 2 == 0]"
      ],
      "execution_count": null,
      "outputs": []
    },
    {
      "cell_type": "code",
      "metadata": {
        "colab": {
          "base_uri": "https://localhost:8080/"
        },
        "id": "UC6odRoL0x65",
        "outputId": "108bb3c3-2f42-41e6-92f9-5f188164e3e5"
      },
      "source": [
        "lst\r\n"
      ],
      "execution_count": null,
      "outputs": [
        {
          "output_type": "execute_result",
          "data": {
            "text/plain": [
              "[0, 2, 4, 6, 8, 10]"
            ]
          },
          "metadata": {
            "tags": []
          },
          "execution_count": 52
        }
      ]
    },
    {
      "cell_type": "markdown",
      "metadata": {
        "id": "2UOlj9Al06--"
      },
      "source": [
        "#Zip"
      ]
    },
    {
      "cell_type": "code",
      "metadata": {
        "id": "ME5cicjB08Jc"
      },
      "source": [
        "# zip () agrega os valores de duas sequências e retorna uma tupla!"
      ],
      "execution_count": null,
      "outputs": []
    },
    {
      "cell_type": "code",
      "metadata": {
        "id": "jcVjY5cA1k_6"
      },
      "source": [
        "# Criando duas listas\r\n",
        "x = [1,2,3]\r\n",
        "y = [4,5,6]"
      ],
      "execution_count": null,
      "outputs": []
    },
    {
      "cell_type": "code",
      "metadata": {
        "colab": {
          "base_uri": "https://localhost:8080/"
        },
        "id": "JW5fHYdp1lyV",
        "outputId": "90c97a59-1105-4239-baed-d2046c18edfd"
      },
      "source": [
        "list(zip(x,y))"
      ],
      "execution_count": null,
      "outputs": [
        {
          "output_type": "execute_result",
          "data": {
            "text/plain": [
              "[(1, 4), (2, 5), (3, 6)]"
            ]
          },
          "metadata": {
            "tags": []
          },
          "execution_count": 54
        }
      ]
    },
    {
      "cell_type": "markdown",
      "metadata": {
        "id": "i9iarmfF1QNy"
      },
      "source": [
        "#Enumerate"
      ]
    },
    {
      "cell_type": "code",
      "metadata": {
        "id": "lG2WBFgC1R94"
      },
      "source": [
        "# Permite retornar o índice de cada valor em uma sequência, à medida que você percorre toda a sequência."
      ],
      "execution_count": null,
      "outputs": []
    },
    {
      "cell_type": "code",
      "metadata": {
        "id": "qP4rxe2O1fNo"
      },
      "source": [
        "# Criando uma lista\r\n",
        "seq = ['a','b','c']"
      ],
      "execution_count": null,
      "outputs": []
    },
    {
      "cell_type": "code",
      "metadata": {
        "colab": {
          "base_uri": "https://localhost:8080/"
        },
        "id": "DixKy4gr15kj",
        "outputId": "4ace99a2-691c-4680-d8b6-54086bc206c8"
      },
      "source": [
        "list(enumerate(seq))"
      ],
      "execution_count": null,
      "outputs": [
        {
          "output_type": "execute_result",
          "data": {
            "text/plain": [
              "[(0, 'a'), (1, 'b'), (2, 'c')]"
            ]
          },
          "metadata": {
            "tags": []
          },
          "execution_count": 3
        }
      ]
    },
    {
      "cell_type": "code",
      "metadata": {
        "colab": {
          "base_uri": "https://localhost:8080/"
        },
        "id": "k1kLGFtu2DBb",
        "outputId": "42adbd82-a03f-4b4d-b37f-13d433cad3c2"
      },
      "source": [
        "# Imprimindo os valores de uma lista com a função enumerate() e seus respectivos índices\r\n",
        "for indice, valor in enumerate(seq):\r\n",
        "    print (indice, valor)"
      ],
      "execution_count": null,
      "outputs": [
        {
          "output_type": "stream",
          "text": [
            "0 a\n",
            "1 b\n",
            "2 c\n"
          ],
          "name": "stdout"
        }
      ]
    },
    {
      "cell_type": "code",
      "metadata": {
        "id": "LYu3fVuR2D7m"
      },
      "source": [
        "lista = ['Marketing', 'Tecnologia', 'Business']"
      ],
      "execution_count": null,
      "outputs": []
    },
    {
      "cell_type": "code",
      "metadata": {
        "colab": {
          "base_uri": "https://localhost:8080/"
        },
        "id": "8Ulc0StE2H37",
        "outputId": "6f0dc47c-4427-49bc-9288-f66f856af877"
      },
      "source": [
        "for i, item in enumerate(lista):\r\n",
        "    print(i, item)"
      ],
      "execution_count": null,
      "outputs": [
        {
          "output_type": "stream",
          "text": [
            "0 Marketing\n",
            "1 Tecnologia\n",
            "2 Business\n"
          ],
          "name": "stdout"
        }
      ]
    },
    {
      "cell_type": "markdown",
      "metadata": {
        "id": "YSMBQ5-7acbV"
      },
      "source": [
        " # SQLite"
      ]
    },
    {
      "cell_type": "code",
      "metadata": {
        "id": "z0QaXek7anZo"
      },
      "source": [
        "# Importando o módulo de acesso ao SQLite\r\n",
        "import sqlite3"
      ],
      "execution_count": null,
      "outputs": []
    },
    {
      "cell_type": "code",
      "metadata": {
        "id": "hm9mdym6aryf"
      },
      "source": [
        "# Cria uma conexão com o banco de dados. \r\n",
        "# Se o banco de dados não existir, ele é criado neste momento.\r\n",
        "con = sqlite3.connect('escola.db')"
      ],
      "execution_count": null,
      "outputs": []
    },
    {
      "cell_type": "code",
      "metadata": {
        "id": "SlsO32LLau6F"
      },
      "source": [
        "# Criando um cursor \r\n",
        "# (Um cursor permite PERCORRER todos os registros em um conjunto de dados)\r\n",
        "cur = con.cursor()"
      ],
      "execution_count": null,
      "outputs": []
    },
    {
      "cell_type": "code",
      "metadata": {
        "id": "EHj2nXpDa1Tz"
      },
      "source": [
        "# Cria uma instrução sql (string que é um comando sql)\r\n",
        "sql_create = 'create table cursos '\\  #BARRA é pra quebrar o comando python em mais de uma linha.\r\n",
        "'(id integer primary key, '\\  #coluna id não pode ter elementos repetidos\r\n",
        "'titulo varchar(100), '\\   #caracter até 100 posições\r\n",
        "'categoria varchar(140))'  "
      ],
      "execution_count": null,
      "outputs": []
    },
    {
      "cell_type": "code",
      "metadata": {
        "colab": {
          "base_uri": "https://localhost:8080/"
        },
        "id": "XKjz-Cg-bn31",
        "outputId": "d71e0957-3dac-49f0-b5ae-701d88b69e64"
      },
      "source": [
        "# Executando a instrução sql no cursor\r\n",
        "cur.execute(sql_create)"
      ],
      "execution_count": null,
      "outputs": [
        {
          "output_type": "execute_result",
          "data": {
            "text/plain": [
              "<sqlite3.Cursor at 0x7f7698c13110>"
            ]
          },
          "metadata": {
            "tags": []
          },
          "execution_count": 11
        }
      ]
    },
    {
      "cell_type": "code",
      "metadata": {
        "id": "hyBMJhLybyN8"
      },
      "source": [
        "# Criando outra sentença SQL para inserir registros\r\n",
        "sql_insert = 'insert into cursos values (?, ?, ?)'"
      ],
      "execution_count": null,
      "outputs": []
    },
    {
      "cell_type": "code",
      "metadata": {
        "id": "wh7dGRKWb-EK"
      },
      "source": [
        "# Dados que serão inseridos: id, título do curso e categoria (tuplas)\r\n",
        "recset = [(1000, 'Ciência de Dados', 'Data Science'),\r\n",
        "          (1001, 'Big Data Fundamentos', 'Big Data'),\r\n",
        "          (1002, 'Python Fundamentos', 'Análise de Dados')]"
      ],
      "execution_count": null,
      "outputs": []
    },
    {
      "cell_type": "code",
      "metadata": {
        "id": "Mg5_sY9WcIHd"
      },
      "source": [
        "# Inserindo os registros\r\n",
        "for rec in recset:\r\n",
        "    cur.execute(sql_insert, rec)"
      ],
      "execution_count": null,
      "outputs": []
    },
    {
      "cell_type": "code",
      "metadata": {
        "id": "3tJBuSSPcM22"
      },
      "source": [
        "# Grava a transação\r\n",
        "con.commit() #Sempre tem que fazer"
      ],
      "execution_count": null,
      "outputs": []
    },
    {
      "cell_type": "code",
      "metadata": {
        "id": "A7FhcbfgcVBO"
      },
      "source": [
        "# Criando outra sentença SQL para selecionar registros\r\n",
        "sql_select = 'select * from cursos'"
      ],
      "execution_count": null,
      "outputs": []
    },
    {
      "cell_type": "code",
      "metadata": {
        "id": "Ec4BoxyUccyg"
      },
      "source": [
        "# Seleciona todos os registros e recupera os registros\r\n",
        "cur.execute(sql_select)\r\n",
        "dados = cur.fetchall() "
      ],
      "execution_count": null,
      "outputs": []
    },
    {
      "cell_type": "code",
      "metadata": {
        "colab": {
          "base_uri": "https://localhost:8080/"
        },
        "id": "o68NmCQKcfin",
        "outputId": "12047c71-0b7f-494b-9a53-ac3c39bbe95a"
      },
      "source": [
        "# Mostra\r\n",
        "for linha in dados:\r\n",
        "    print ('Curso Id: %d, Título: %s, Categoria: %s \\n' % linha)"
      ],
      "execution_count": null,
      "outputs": [
        {
          "output_type": "stream",
          "text": [
            "Curso Id: 1000, Título: Ciência de Dados, Categoria: Data Science \n",
            "\n",
            "Curso Id: 1001, Título: Big Data Fundamentos, Categoria: Big Data \n",
            "\n",
            "Curso Id: 1002, Título: Python Fundamentos, Categoria: Análise de Dados \n",
            "\n"
          ],
          "name": "stdout"
        }
      ]
    },
    {
      "cell_type": "code",
      "metadata": {
        "id": "-BxY5XHUcuPv"
      },
      "source": [
        "# Gerando outros registros\r\n",
        "recset = [(1003, 'Gestão de Dados com MongoDB', 'Big Data'),\r\n",
        "          (1004, 'R Fundamentos', 'Análise de Dados')]\r\n",
        "\r\n",
        "# Inserindo os registros\r\n",
        "for rec in recset:\r\n",
        "    cur.execute(sql_insert, rec)\r\n",
        "    \r\n",
        "# Gravando a transação\r\n",
        "con.commit()"
      ],
      "execution_count": null,
      "outputs": []
    },
    {
      "cell_type": "code",
      "metadata": {
        "colab": {
          "base_uri": "https://localhost:8080/"
        },
        "id": "FtO0wQAgczZo",
        "outputId": "38459899-dd85-4adc-cd3f-f5a96c74720b"
      },
      "source": [
        "\r\n",
        "# Seleciona todos os registros\r\n",
        "cur.execute('select * from cursos')\r\n",
        "\r\n",
        "# Recupera os resultados\r\n",
        "recset = cur.fetchall()\r\n",
        "\r\n",
        "# Mostra\r\n",
        "for rec in recset:\r\n",
        "    print ('Curso Id: %d, Título: %s, Categoria: %s \\n' % rec)"
      ],
      "execution_count": null,
      "outputs": [
        {
          "output_type": "stream",
          "text": [
            "Curso Id: 1000, Título: Ciência de Dados, Categoria: Data Science \n",
            "\n",
            "Curso Id: 1001, Título: Big Data Fundamentos, Categoria: Big Data \n",
            "\n",
            "Curso Id: 1002, Título: Python Fundamentos, Categoria: Análise de Dados \n",
            "\n",
            "Curso Id: 1003, Título: Gestão de Dados com MongoDB, Categoria: Big Data \n",
            "\n",
            "Curso Id: 1004, Título: R Fundamentos, Categoria: Análise de Dados \n",
            "\n"
          ],
          "name": "stdout"
        }
      ]
    },
    {
      "cell_type": "code",
      "metadata": {
        "id": "tBMegEeIc0hT"
      },
      "source": [
        "# Fecha a conexão depois que trabalha com o banco\r\n",
        "con.close()"
      ],
      "execution_count": null,
      "outputs": []
    },
    {
      "cell_type": "code",
      "metadata": {
        "id": "-1QBlCyAfKwK"
      },
      "source": [
        "\r\n",
        "# Reemove o arquivo com o banco de dados SQLite (caso exista)\r\n",
        "import os\r\n",
        "os.remove(\"dsa.db\") if os.path.exists(\"dsa.db\") else None"
      ],
      "execution_count": null,
      "outputs": []
    },
    {
      "cell_type": "code",
      "metadata": {
        "id": "ctZS-M37fLTH"
      },
      "source": [
        "import sqlite3\r\n",
        " \r\n",
        "# Criando uma conexão\r\n",
        "conn = sqlite3.connect('dsa.db')   \r\n",
        "\r\n",
        "# Criando um cursor\r\n",
        "c = conn.cursor()\r\n",
        " \r\n",
        "# Função para criar uma tabela\r\n",
        "def create_table():\r\n",
        "    c.execute('CREATE TABLE IF NOT EXISTS produtos(id INTEGER PRIMARY KEY AUTOINCREMENT NOT NULL, date TEXT, '\\\r\n",
        "              'prod_name TEXT, valor REAL)')\r\n",
        "    \r\n",
        "# Função para inserir uma linha\r\n",
        "def data_insert():\r\n",
        "    c.execute(\"INSERT INTO produtos VALUES(10, '2020-05-02 14:32:11', 'Teclado', 90 )\")\r\n",
        "    conn.commit()\r\n",
        "    c.close()\r\n",
        "    conn.close()"
      ],
      "execution_count": null,
      "outputs": []
    },
    {
      "cell_type": "code",
      "metadata": {
        "id": "VUJBze4DfQhf"
      },
      "source": [
        "# Criar tabela\r\n",
        "create_table()"
      ],
      "execution_count": null,
      "outputs": []
    },
    {
      "cell_type": "code",
      "metadata": {
        "id": "4cphseB2fSWy"
      },
      "source": [
        "# Inserir dados\r\n",
        "data_insert()"
      ],
      "execution_count": null,
      "outputs": []
    },
    {
      "cell_type": "code",
      "metadata": {
        "id": "un_h0cUAfUPz"
      },
      "source": [
        "## Insert mais automatizado\r\n",
        "import sqlite3\r\n",
        "import random\r\n",
        "import time\r\n",
        "import datetime\r\n",
        " \r\n",
        "# Criando uma conexão\r\n",
        "conn = sqlite3.connect('dsa.db')   \r\n",
        "\r\n",
        "# Criando um cursor\r\n",
        "c = conn.cursor()\r\n",
        " \r\n",
        "# Função para criar uma tabela\r\n",
        "def create_table():\r\n",
        "    c.execute('CREATE TABLE IF NOT EXISTS produtos(id INTEGER PRIMARY KEY AUTOINCREMENT NOT NULL, date TEXT, '\\\r\n",
        "              'prod_name TEXT, valor REAL)')\r\n",
        "    \r\n",
        "# Função para inserir uma linha\r\n",
        "def data_insert():\r\n",
        "    c.execute(\"INSERT INTO produtos VALUES('2020-05-02 12:34:45', 'Teclado', 130.00 )\")\r\n",
        "    conn.commit()\r\n",
        "    c.close()\r\n",
        "    conn.close()\r\n",
        "    \r\n",
        "# Usando variáveis para inserir dados    \r\n",
        "def data_insert_var():\r\n",
        "    new_date = datetime.datetime.now()\r\n",
        "    new_prod_name = 'Monitor'\r\n",
        "    new_valor = random.randrange(50,100)\r\n",
        "    c.execute(\"INSERT INTO produtos (date, prod_name, valor) VALUES (?, ?, ?)\", (new_date, new_prod_name, new_valor))\r\n",
        "    conn.commit()"
      ],
      "execution_count": null,
      "outputs": []
    },
    {
      "cell_type": "code",
      "metadata": {
        "id": "-yffjLn5fa0v"
      },
      "source": [
        "# Gerando valores e inserindo na tabela\r\n",
        "for i in range(10):\r\n",
        "    data_insert_var()\r\n",
        "    time.sleep(1)"
      ],
      "execution_count": null,
      "outputs": []
    },
    {
      "cell_type": "code",
      "metadata": {
        "id": "dU1rYFCFffBT"
      },
      "source": [
        "# Encerrando a conexão\r\n",
        "c.close()\r\n",
        "conn.close()"
      ],
      "execution_count": null,
      "outputs": []
    },
    {
      "cell_type": "code",
      "metadata": {
        "id": "wFdnIBO8fq9G"
      },
      "source": [
        "#Select no SQLite"
      ],
      "execution_count": null,
      "outputs": []
    },
    {
      "cell_type": "code",
      "metadata": {
        "id": "zeLRV4GqfwQ6"
      },
      "source": [
        "import sqlite3\r\n",
        "import random\r\n",
        "import time\r\n",
        "import datetime\r\n",
        " \r\n",
        "# Criando uma conexão\r\n",
        "conn = sqlite3.connect('dsa.db')   \r\n",
        "\r\n",
        "# Criando um cursor\r\n",
        "c = conn.cursor()\r\n",
        " \r\n",
        "# Função para criar uma tabela\r\n",
        "def create_table():\r\n",
        "    c.execute('CREATE TABLE IF NOT EXISTS produtos(id INTEGER PRIMARY KEY AUTOINCREMENT NOT NULL, date TEXT, '\\\r\n",
        "              'prod_name TEXT, valor REAL)')\r\n",
        "\r\n",
        "# Função para inserir uma linha\r\n",
        "def data_insert():\r\n",
        "    c.execute(\"INSERT INTO produtos VALUES(002, '02-05-2020', 'teclado', 130 )\")\r\n",
        "    conn.commit()\r\n",
        "    c.close()\r\n",
        "    conn.close()\r\n",
        "    \r\n",
        "# Usando variáveis para inserir dados    \r\n",
        "def data_insert_var():\r\n",
        "    new_date = datetime.datetime.now()\r\n",
        "    new_prod_name = 'monitor'\r\n",
        "    new_valor = random.randrange(50,100)\r\n",
        "    c.execute(\"INSERT INTO produtos (date, prod_name, valor) VALUES (?, ?, ?, ?)\", \r\n",
        "              (new_date, new_prod_name, new_valor))\r\n",
        "    conn.commit()\r\n",
        "    \r\n",
        "# Leitura de dados\r\n",
        "def leitura_todos_dados():\r\n",
        "    c.execute(\"SELECT * FROM PRODUTOS\")\r\n",
        "    for linha in c.fetchall():\r\n",
        "        print(linha)\r\n",
        "        \r\n",
        "# Leitura de registros específicos\r\n",
        "def leitura_registros():\r\n",
        "    c.execute(\"SELECT * FROM PRODUTOS WHERE valor > 60.0\")\r\n",
        "    for linha in c.fetchall():\r\n",
        "        print(linha)      \r\n",
        "        \r\n",
        "# Leitura de colunas específicos\r\n",
        "def leitura_colunas():\r\n",
        "    c.execute(\"SELECT * FROM PRODUTOS\")\r\n",
        "    for linha in c.fetchall():\r\n",
        "        print(linha[3])"
      ],
      "execution_count": null,
      "outputs": []
    },
    {
      "cell_type": "code",
      "metadata": {
        "colab": {
          "base_uri": "https://localhost:8080/"
        },
        "id": "GT5EhZX4fxSv",
        "outputId": "bfccf096-7437-4108-f892-8da43b9d3d7e"
      },
      "source": [
        "\r\n",
        "# Select nos dados\r\n",
        "leitura_todos_dados()"
      ],
      "execution_count": null,
      "outputs": [
        {
          "output_type": "stream",
          "text": [
            "(10, '2020-05-02 14:32:11', 'Teclado', 90.0)\n",
            "(11, '2021-01-18 17:14:29.739696', 'Monitor', 60.0)\n",
            "(12, '2021-01-18 17:14:30.753893', 'Monitor', 91.0)\n",
            "(13, '2021-01-18 17:14:31.766892', 'Monitor', 97.0)\n",
            "(14, '2021-01-18 17:14:32.779950', 'Monitor', 54.0)\n",
            "(15, '2021-01-18 17:14:33.806846', 'Monitor', 71.0)\n",
            "(16, '2021-01-18 17:14:34.820995', 'Monitor', 73.0)\n",
            "(17, '2021-01-18 17:14:35.834444', 'Monitor', 92.0)\n",
            "(18, '2021-01-18 17:14:36.849182', 'Monitor', 62.0)\n",
            "(19, '2021-01-18 17:14:37.861882', 'Monitor', 96.0)\n",
            "(20, '2021-01-18 17:14:38.875095', 'Monitor', 60.0)\n",
            "(21, '2021-01-18 17:14:43.166204', 'Monitor', 89.0)\n",
            "(22, '2021-01-18 17:14:44.186229', 'Monitor', 63.0)\n",
            "(23, '2021-01-18 17:14:45.199602', 'Monitor', 57.0)\n",
            "(24, '2021-01-18 17:14:46.212724', 'Monitor', 86.0)\n",
            "(25, '2021-01-18 17:14:47.226472', 'Monitor', 95.0)\n",
            "(26, '2021-01-18 17:14:48.240036', 'Monitor', 59.0)\n",
            "(27, '2021-01-18 17:14:49.253592', 'Monitor', 60.0)\n",
            "(28, '2021-01-18 17:14:50.268638', 'Monitor', 80.0)\n",
            "(29, '2021-01-18 17:14:51.291591', 'Monitor', 62.0)\n",
            "(30, '2021-01-18 17:14:52.314557', 'Monitor', 65.0)\n"
          ],
          "name": "stdout"
        }
      ]
    },
    {
      "cell_type": "code",
      "metadata": {
        "colab": {
          "base_uri": "https://localhost:8080/"
        },
        "id": "3wBvU1v4f2Cn",
        "outputId": "9a974506-ec51-4d7e-ccb3-3eca83ef89a0"
      },
      "source": [
        "leitura_colunas()"
      ],
      "execution_count": null,
      "outputs": [
        {
          "output_type": "stream",
          "text": [
            "90.0\n",
            "60.0\n",
            "91.0\n",
            "97.0\n",
            "54.0\n",
            "71.0\n",
            "73.0\n",
            "92.0\n",
            "62.0\n",
            "96.0\n",
            "60.0\n",
            "89.0\n",
            "63.0\n",
            "57.0\n",
            "86.0\n",
            "95.0\n",
            "59.0\n",
            "60.0\n",
            "80.0\n",
            "62.0\n",
            "65.0\n"
          ],
          "name": "stdout"
        }
      ]
    },
    {
      "cell_type": "code",
      "metadata": {
        "id": "7HgM6-34f3Ch"
      },
      "source": [
        "\r\n",
        "# Encerrando a conexão\r\n",
        "c.close()\r\n",
        "conn.close()"
      ],
      "execution_count": null,
      "outputs": []
    },
    {
      "cell_type": "code",
      "metadata": {
        "id": "KkIh_EgHf4ZZ"
      },
      "source": [
        "# Update e Delete\r\n",
        "import sqlite3\r\n",
        "import random\r\n",
        "import time\r\n",
        "import datetime\r\n",
        " \r\n",
        "# Criando uma conexão\r\n",
        "conn = sqlite3.connect('dsa.db')   \r\n",
        "\r\n",
        "# Criando um cursor\r\n",
        "c = conn.cursor()\r\n",
        " \r\n",
        "# Função para criar uma tabela\r\n",
        "def create_table():\r\n",
        "    c.execute('CREATE TABLE IF NOT EXISTS produtos(id INTEGER PRIMARY KEY AUTOINCREMENT NOT NULL, date TEXT, '\\\r\n",
        "              'prod_name TEXT, valor REAL)')\r\n",
        "      \r\n",
        "# Função para inserir uma linha\r\n",
        "def data_insert():\r\n",
        "    c.execute(\"INSERT INTO produtos VALUES(002, '02-05-2020', 'teclado', 130 )\")\r\n",
        "    conn.commit()\r\n",
        "    c.close()\r\n",
        "    conn.close()\r\n",
        "    \r\n",
        "# Usando variáveis para inserir dados    \r\n",
        "def data_insert_var():\r\n",
        "    new_date = datetime.datetime.now()\r\n",
        "    new_prod_name = 'monitor'\r\n",
        "    new_valor = random.randrange(50,100)\r\n",
        "    c.execute(\"INSERT INTO produtos (date, prod_name, valor) VALUES (?, ?, ?, ?)\", \r\n",
        "              (new_date, new_prod_name, new_valor))\r\n",
        "    conn.commit()\r\n",
        "    \r\n",
        "# Leitura de dados\r\n",
        "def leitura_todos_dados():\r\n",
        "    c.execute(\"SELECT * FROM PRODUTOS\")\r\n",
        "    for linha in c.fetchall():\r\n",
        "        print(linha)\r\n",
        "        \r\n",
        "# Leitura de registros específicos\r\n",
        "def leitura_registros():\r\n",
        "    c.execute(\"SELECT * FROM PRODUTOS WHERE valor > 70.0\")\r\n",
        "    for linha in c.fetchall():\r\n",
        "        print(linha)      \r\n",
        "        \r\n",
        "# Leitura de colunas específicos\r\n",
        "def leitura_colunas():\r\n",
        "    c.execute(\"SELECT * FROM PRODUTOS\")\r\n",
        "    for linha in c.fetchall():\r\n",
        "        print(linha[3])  \r\n",
        "        \r\n",
        "# Update\r\n",
        "def atualiza_dados():\r\n",
        "    c.execute(\"UPDATE produtos SET valor = 70.00 WHERE valor = 98.0\")\r\n",
        "    conn.commit()\r\n",
        "    \r\n",
        "# Delete\r\n",
        "def remove_dados():\r\n",
        "    c.execute(\"DELETE FROM produtos WHERE valor = 62.0\")\r\n",
        "    conn.commit()"
      ],
      "execution_count": null,
      "outputs": []
    },
    {
      "cell_type": "code",
      "metadata": {
        "id": "hK9-DUqlgDof"
      },
      "source": [
        "atualiza_dados()"
      ],
      "execution_count": null,
      "outputs": []
    },
    {
      "cell_type": "code",
      "metadata": {
        "colab": {
          "base_uri": "https://localhost:8080/"
        },
        "id": "AFKmZmTygF5y",
        "outputId": "9c17cdef-b691-42c6-9fd9-91281b2c61a9"
      },
      "source": [
        "leitura_todos_dados()"
      ],
      "execution_count": null,
      "outputs": [
        {
          "output_type": "stream",
          "text": [
            "(10, '2020-05-02 14:32:11', 'Teclado', 90.0)\n",
            "(11, '2021-01-18 17:14:29.739696', 'Monitor', 60.0)\n",
            "(12, '2021-01-18 17:14:30.753893', 'Monitor', 91.0)\n",
            "(13, '2021-01-18 17:14:31.766892', 'Monitor', 97.0)\n",
            "(14, '2021-01-18 17:14:32.779950', 'Monitor', 54.0)\n",
            "(15, '2021-01-18 17:14:33.806846', 'Monitor', 71.0)\n",
            "(16, '2021-01-18 17:14:34.820995', 'Monitor', 73.0)\n",
            "(17, '2021-01-18 17:14:35.834444', 'Monitor', 92.0)\n",
            "(18, '2021-01-18 17:14:36.849182', 'Monitor', 62.0)\n",
            "(19, '2021-01-18 17:14:37.861882', 'Monitor', 96.0)\n",
            "(20, '2021-01-18 17:14:38.875095', 'Monitor', 60.0)\n",
            "(21, '2021-01-18 17:14:43.166204', 'Monitor', 89.0)\n",
            "(22, '2021-01-18 17:14:44.186229', 'Monitor', 63.0)\n",
            "(23, '2021-01-18 17:14:45.199602', 'Monitor', 57.0)\n",
            "(24, '2021-01-18 17:14:46.212724', 'Monitor', 86.0)\n",
            "(25, '2021-01-18 17:14:47.226472', 'Monitor', 95.0)\n",
            "(26, '2021-01-18 17:14:48.240036', 'Monitor', 59.0)\n",
            "(27, '2021-01-18 17:14:49.253592', 'Monitor', 60.0)\n",
            "(28, '2021-01-18 17:14:50.268638', 'Monitor', 80.0)\n",
            "(29, '2021-01-18 17:14:51.291591', 'Monitor', 62.0)\n",
            "(30, '2021-01-18 17:14:52.314557', 'Monitor', 65.0)\n"
          ],
          "name": "stdout"
        }
      ]
    },
    {
      "cell_type": "code",
      "metadata": {
        "id": "siiBXs5zgH5Y"
      },
      "source": [
        "remove_dados()"
      ],
      "execution_count": null,
      "outputs": []
    },
    {
      "cell_type": "code",
      "metadata": {
        "colab": {
          "base_uri": "https://localhost:8080/"
        },
        "id": "4i-hPLN9gJaW",
        "outputId": "4da5674d-e7d6-4828-b935-bc1c8f5c64fd"
      },
      "source": [
        "leitura_todos_dados()"
      ],
      "execution_count": null,
      "outputs": [
        {
          "output_type": "stream",
          "text": [
            "(10, '2020-05-02 14:32:11', 'Teclado', 90.0)\n",
            "(11, '2021-01-18 17:14:29.739696', 'Monitor', 60.0)\n",
            "(12, '2021-01-18 17:14:30.753893', 'Monitor', 91.0)\n",
            "(13, '2021-01-18 17:14:31.766892', 'Monitor', 97.0)\n",
            "(14, '2021-01-18 17:14:32.779950', 'Monitor', 54.0)\n",
            "(15, '2021-01-18 17:14:33.806846', 'Monitor', 71.0)\n",
            "(16, '2021-01-18 17:14:34.820995', 'Monitor', 73.0)\n",
            "(17, '2021-01-18 17:14:35.834444', 'Monitor', 92.0)\n",
            "(19, '2021-01-18 17:14:37.861882', 'Monitor', 96.0)\n",
            "(20, '2021-01-18 17:14:38.875095', 'Monitor', 60.0)\n",
            "(21, '2021-01-18 17:14:43.166204', 'Monitor', 89.0)\n",
            "(22, '2021-01-18 17:14:44.186229', 'Monitor', 63.0)\n",
            "(23, '2021-01-18 17:14:45.199602', 'Monitor', 57.0)\n",
            "(24, '2021-01-18 17:14:46.212724', 'Monitor', 86.0)\n",
            "(25, '2021-01-18 17:14:47.226472', 'Monitor', 95.0)\n",
            "(26, '2021-01-18 17:14:48.240036', 'Monitor', 59.0)\n",
            "(27, '2021-01-18 17:14:49.253592', 'Monitor', 60.0)\n",
            "(28, '2021-01-18 17:14:50.268638', 'Monitor', 80.0)\n",
            "(30, '2021-01-18 17:14:52.314557', 'Monitor', 65.0)\n"
          ],
          "name": "stdout"
        }
      ]
    },
    {
      "cell_type": "code",
      "metadata": {
        "colab": {
          "base_uri": "https://localhost:8080/"
        },
        "id": "ocIVZHrsgQ8t",
        "outputId": "a7758beb-a6f9-4c42-ea2b-1a6105570c00"
      },
      "source": [
        "#Gráficos \r\n",
        "\r\n",
        "\r\n",
        "# Instala a versão exata do pacote matplotlib\r\n",
        "!pip install -q -U matplotlib==3.2.1"
      ],
      "execution_count": null,
      "outputs": [
        {
          "output_type": "stream",
          "text": [
            "\u001b[K     |████████████████████████████████| 12.4MB 302kB/s \n",
            "\u001b[31mERROR: albumentations 0.1.12 has requirement imgaug<0.2.7,>=0.2.5, but you'll have imgaug 0.2.9 which is incompatible.\u001b[0m\n",
            "\u001b[?25h"
          ],
          "name": "stdout"
        }
      ]
    },
    {
      "cell_type": "code",
      "metadata": {
        "colab": {
          "base_uri": "https://localhost:8080/",
          "height": 35
        },
        "id": "qxxmzU-xgU6k",
        "outputId": "cc762f15-d56f-4d6d-dbfb-f38973cc6ab1"
      },
      "source": [
        "import matplotlib as mat\r\n",
        "mat.__version__"
      ],
      "execution_count": null,
      "outputs": [
        {
          "output_type": "execute_result",
          "data": {
            "application/vnd.google.colaboratory.intrinsic+json": {
              "type": "string"
            },
            "text/plain": [
              "'3.2.2'"
            ]
          },
          "metadata": {
            "tags": []
          },
          "execution_count": 43
        }
      ]
    },
    {
      "cell_type": "code",
      "metadata": {
        "id": "p-80Fe2fgawk"
      },
      "source": [
        "import sqlite3\r\n",
        "import random\r\n",
        "import datetime\r\n",
        "import matplotlib.pyplot as plt\r\n",
        "%matplotlib notebook\r\n",
        " \r\n",
        "# Criando uma conexão\r\n",
        "conn = sqlite3.connect('dsa.db')   \r\n",
        "\r\n",
        "# Criando um cursor\r\n",
        "c = conn.cursor()\r\n",
        " \r\n",
        "# Função para criar uma tabela\r\n",
        "def create_table():\r\n",
        "    c.execute('CREATE TABLE IF NOT EXISTS produtos(id INTEGER PRIMARY KEY AUTOINCREMENT NOT NULL, date TEXT, '\\\r\n",
        "              'prod_name TEXT, valor REAL)')\r\n",
        "     \r\n",
        "# Função para inserir uma linha\r\n",
        "def data_insert():\r\n",
        "    c.execute(\"INSERT INTO produtos VALUES(now, 'Teclado', 130 )\")\r\n",
        "    conn.commit()\r\n",
        "    c.close()\r\n",
        "    conn.close()\r\n",
        "    \r\n",
        "# Usando variáveis para inserir dados    \r\n",
        "def data_insert_var():\r\n",
        "    new_date = datetime.datetime.now()\r\n",
        "    new_prod_name = 'monitor'\r\n",
        "    new_valor = random.randrange(50,100)\r\n",
        "    c.execute(\"INSERT INTO produtos (date, prod_name, valor) VALUES (?, ?, ?, ?)\", \r\n",
        "              (new_date, new_prod_name, new_valor))\r\n",
        "    conn.commit()\r\n",
        "    \r\n",
        "# Leitura de dados\r\n",
        "def leitura_todos_dados():\r\n",
        "    c.execute(\"SELECT * FROM PRODUTOS\")\r\n",
        "    for linha in c.fetchall():\r\n",
        "        print(linha)\r\n",
        "        \r\n",
        "# Leitura de registros específicos\r\n",
        "def leitura_registros():\r\n",
        "    c.execute(\"SELECT * FROM PRODUTOS WHERE valor > 60.0\")\r\n",
        "    for linha in c.fetchall():\r\n",
        "        print(linha)      \r\n",
        "        \r\n",
        "# Leitura de colunas específicos\r\n",
        "def leitura_colunas():\r\n",
        "    c.execute(\"SELECT * FROM PRODUTOS\")\r\n",
        "    for linha in c.fetchall():\r\n",
        "        print(linha[3])  \r\n",
        "        \r\n",
        "# Update\r\n",
        "def atualiza_dados():\r\n",
        "    c.execute(\"UPDATE produtos SET valor = 70.00 WHERE valor > 80.0\")\r\n",
        "    conn.commit()\r\n",
        "    \r\n",
        "# Delete\r\n",
        "def remove_dados():\r\n",
        "    c.execute(\"DELETE FROM produtos WHERE valor = 62.0\")\r\n",
        "    conn.commit()\r\n",
        "\r\n",
        "# Gerar gráfico com os dados no banco de dados\r\n",
        "def dados_grafico():\r\n",
        "    c.execute(\"SELECT id, valor FROM produtos\")\r\n",
        "    ids = []\r\n",
        "    valores = []\r\n",
        "    dados = c.fetchall()\r\n",
        "    for linha in dados:\r\n",
        "        ids.append(linha[0])\r\n",
        "        valores.append(linha[1])\r\n",
        "        \r\n",
        "    plt.bar(ids, valores)\r\n",
        "    plt.show()"
      ],
      "execution_count": null,
      "outputs": []
    },
    {
      "cell_type": "code",
      "metadata": {
        "colab": {
          "base_uri": "https://localhost:8080/",
          "height": 17
        },
        "id": "Omi0OySNgdBi",
        "outputId": "6ab2bf7d-e5f4-4c08-9274-4388c4752221"
      },
      "source": [
        "# Gerando gráficos\r\n",
        "dados_grafico()"
      ],
      "execution_count": null,
      "outputs": [
        {
          "output_type": "display_data",
          "data": {
            "application/javascript": [
              "/* Put everything inside the global mpl namespace */\n",
              "window.mpl = {};\n",
              "\n",
              "\n",
              "mpl.get_websocket_type = function() {\n",
              "    if (typeof(WebSocket) !== 'undefined') {\n",
              "        return WebSocket;\n",
              "    } else if (typeof(MozWebSocket) !== 'undefined') {\n",
              "        return MozWebSocket;\n",
              "    } else {\n",
              "        alert('Your browser does not have WebSocket support. ' +\n",
              "              'Please try Chrome, Safari or Firefox ≥ 6. ' +\n",
              "              'Firefox 4 and 5 are also supported but you ' +\n",
              "              'have to enable WebSockets in about:config.');\n",
              "    };\n",
              "}\n",
              "\n",
              "mpl.figure = function(figure_id, websocket, ondownload, parent_element) {\n",
              "    this.id = figure_id;\n",
              "\n",
              "    this.ws = websocket;\n",
              "\n",
              "    this.supports_binary = (this.ws.binaryType != undefined);\n",
              "\n",
              "    if (!this.supports_binary) {\n",
              "        var warnings = document.getElementById(\"mpl-warnings\");\n",
              "        if (warnings) {\n",
              "            warnings.style.display = 'block';\n",
              "            warnings.textContent = (\n",
              "                \"This browser does not support binary websocket messages. \" +\n",
              "                    \"Performance may be slow.\");\n",
              "        }\n",
              "    }\n",
              "\n",
              "    this.imageObj = new Image();\n",
              "\n",
              "    this.context = undefined;\n",
              "    this.message = undefined;\n",
              "    this.canvas = undefined;\n",
              "    this.rubberband_canvas = undefined;\n",
              "    this.rubberband_context = undefined;\n",
              "    this.format_dropdown = undefined;\n",
              "\n",
              "    this.image_mode = 'full';\n",
              "\n",
              "    this.root = $('<div/>');\n",
              "    this._root_extra_style(this.root)\n",
              "    this.root.attr('style', 'display: inline-block');\n",
              "\n",
              "    $(parent_element).append(this.root);\n",
              "\n",
              "    this._init_header(this);\n",
              "    this._init_canvas(this);\n",
              "    this._init_toolbar(this);\n",
              "\n",
              "    var fig = this;\n",
              "\n",
              "    this.waiting = false;\n",
              "\n",
              "    this.ws.onopen =  function () {\n",
              "            fig.send_message(\"supports_binary\", {value: fig.supports_binary});\n",
              "            fig.send_message(\"send_image_mode\", {});\n",
              "            if (mpl.ratio != 1) {\n",
              "                fig.send_message(\"set_dpi_ratio\", {'dpi_ratio': mpl.ratio});\n",
              "            }\n",
              "            fig.send_message(\"refresh\", {});\n",
              "        }\n",
              "\n",
              "    this.imageObj.onload = function() {\n",
              "            if (fig.image_mode == 'full') {\n",
              "                // Full images could contain transparency (where diff images\n",
              "                // almost always do), so we need to clear the canvas so that\n",
              "                // there is no ghosting.\n",
              "                fig.context.clearRect(0, 0, fig.canvas.width, fig.canvas.height);\n",
              "            }\n",
              "            fig.context.drawImage(fig.imageObj, 0, 0);\n",
              "        };\n",
              "\n",
              "    this.imageObj.onunload = function() {\n",
              "        fig.ws.close();\n",
              "    }\n",
              "\n",
              "    this.ws.onmessage = this._make_on_message_function(this);\n",
              "\n",
              "    this.ondownload = ondownload;\n",
              "}\n",
              "\n",
              "mpl.figure.prototype._init_header = function() {\n",
              "    var titlebar = $(\n",
              "        '<div class=\"ui-dialog-titlebar ui-widget-header ui-corner-all ' +\n",
              "        'ui-helper-clearfix\"/>');\n",
              "    var titletext = $(\n",
              "        '<div class=\"ui-dialog-title\" style=\"width: 100%; ' +\n",
              "        'text-align: center; padding: 3px;\"/>');\n",
              "    titlebar.append(titletext)\n",
              "    this.root.append(titlebar);\n",
              "    this.header = titletext[0];\n",
              "}\n",
              "\n",
              "\n",
              "\n",
              "mpl.figure.prototype._canvas_extra_style = function(canvas_div) {\n",
              "\n",
              "}\n",
              "\n",
              "\n",
              "mpl.figure.prototype._root_extra_style = function(canvas_div) {\n",
              "\n",
              "}\n",
              "\n",
              "mpl.figure.prototype._init_canvas = function() {\n",
              "    var fig = this;\n",
              "\n",
              "    var canvas_div = $('<div/>');\n",
              "\n",
              "    canvas_div.attr('style', 'position: relative; clear: both; outline: 0');\n",
              "\n",
              "    function canvas_keyboard_event(event) {\n",
              "        return fig.key_event(event, event['data']);\n",
              "    }\n",
              "\n",
              "    canvas_div.keydown('key_press', canvas_keyboard_event);\n",
              "    canvas_div.keyup('key_release', canvas_keyboard_event);\n",
              "    this.canvas_div = canvas_div\n",
              "    this._canvas_extra_style(canvas_div)\n",
              "    this.root.append(canvas_div);\n",
              "\n",
              "    var canvas = $('<canvas/>');\n",
              "    canvas.addClass('mpl-canvas');\n",
              "    canvas.attr('style', \"left: 0; top: 0; z-index: 0; outline: 0\")\n",
              "\n",
              "    this.canvas = canvas[0];\n",
              "    this.context = canvas[0].getContext(\"2d\");\n",
              "\n",
              "    var backingStore = this.context.backingStorePixelRatio ||\n",
              "\tthis.context.webkitBackingStorePixelRatio ||\n",
              "\tthis.context.mozBackingStorePixelRatio ||\n",
              "\tthis.context.msBackingStorePixelRatio ||\n",
              "\tthis.context.oBackingStorePixelRatio ||\n",
              "\tthis.context.backingStorePixelRatio || 1;\n",
              "\n",
              "    mpl.ratio = (window.devicePixelRatio || 1) / backingStore;\n",
              "\n",
              "    var rubberband = $('<canvas/>');\n",
              "    rubberband.attr('style', \"position: absolute; left: 0; top: 0; z-index: 1;\")\n",
              "\n",
              "    var pass_mouse_events = true;\n",
              "\n",
              "    canvas_div.resizable({\n",
              "        start: function(event, ui) {\n",
              "            pass_mouse_events = false;\n",
              "        },\n",
              "        resize: function(event, ui) {\n",
              "            fig.request_resize(ui.size.width, ui.size.height);\n",
              "        },\n",
              "        stop: function(event, ui) {\n",
              "            pass_mouse_events = true;\n",
              "            fig.request_resize(ui.size.width, ui.size.height);\n",
              "        },\n",
              "    });\n",
              "\n",
              "    function mouse_event_fn(event) {\n",
              "        if (pass_mouse_events)\n",
              "            return fig.mouse_event(event, event['data']);\n",
              "    }\n",
              "\n",
              "    rubberband.mousedown('button_press', mouse_event_fn);\n",
              "    rubberband.mouseup('button_release', mouse_event_fn);\n",
              "    // Throttle sequential mouse events to 1 every 20ms.\n",
              "    rubberband.mousemove('motion_notify', mouse_event_fn);\n",
              "\n",
              "    rubberband.mouseenter('figure_enter', mouse_event_fn);\n",
              "    rubberband.mouseleave('figure_leave', mouse_event_fn);\n",
              "\n",
              "    canvas_div.on(\"wheel\", function (event) {\n",
              "        event = event.originalEvent;\n",
              "        event['data'] = 'scroll'\n",
              "        if (event.deltaY < 0) {\n",
              "            event.step = 1;\n",
              "        } else {\n",
              "            event.step = -1;\n",
              "        }\n",
              "        mouse_event_fn(event);\n",
              "    });\n",
              "\n",
              "    canvas_div.append(canvas);\n",
              "    canvas_div.append(rubberband);\n",
              "\n",
              "    this.rubberband = rubberband;\n",
              "    this.rubberband_canvas = rubberband[0];\n",
              "    this.rubberband_context = rubberband[0].getContext(\"2d\");\n",
              "    this.rubberband_context.strokeStyle = \"#000000\";\n",
              "\n",
              "    this._resize_canvas = function(width, height) {\n",
              "        // Keep the size of the canvas, canvas container, and rubber band\n",
              "        // canvas in synch.\n",
              "        canvas_div.css('width', width)\n",
              "        canvas_div.css('height', height)\n",
              "\n",
              "        canvas.attr('width', width * mpl.ratio);\n",
              "        canvas.attr('height', height * mpl.ratio);\n",
              "        canvas.attr('style', 'width: ' + width + 'px; height: ' + height + 'px;');\n",
              "\n",
              "        rubberband.attr('width', width);\n",
              "        rubberband.attr('height', height);\n",
              "    }\n",
              "\n",
              "    // Set the figure to an initial 600x600px, this will subsequently be updated\n",
              "    // upon first draw.\n",
              "    this._resize_canvas(600, 600);\n",
              "\n",
              "    // Disable right mouse context menu.\n",
              "    $(this.rubberband_canvas).bind(\"contextmenu\",function(e){\n",
              "        return false;\n",
              "    });\n",
              "\n",
              "    function set_focus () {\n",
              "        canvas.focus();\n",
              "        canvas_div.focus();\n",
              "    }\n",
              "\n",
              "    window.setTimeout(set_focus, 100);\n",
              "}\n",
              "\n",
              "mpl.figure.prototype._init_toolbar = function() {\n",
              "    var fig = this;\n",
              "\n",
              "    var nav_element = $('<div/>');\n",
              "    nav_element.attr('style', 'width: 100%');\n",
              "    this.root.append(nav_element);\n",
              "\n",
              "    // Define a callback function for later on.\n",
              "    function toolbar_event(event) {\n",
              "        return fig.toolbar_button_onclick(event['data']);\n",
              "    }\n",
              "    function toolbar_mouse_event(event) {\n",
              "        return fig.toolbar_button_onmouseover(event['data']);\n",
              "    }\n",
              "\n",
              "    for(var toolbar_ind in mpl.toolbar_items) {\n",
              "        var name = mpl.toolbar_items[toolbar_ind][0];\n",
              "        var tooltip = mpl.toolbar_items[toolbar_ind][1];\n",
              "        var image = mpl.toolbar_items[toolbar_ind][2];\n",
              "        var method_name = mpl.toolbar_items[toolbar_ind][3];\n",
              "\n",
              "        if (!name) {\n",
              "            // put a spacer in here.\n",
              "            continue;\n",
              "        }\n",
              "        var button = $('<button/>');\n",
              "        button.addClass('ui-button ui-widget ui-state-default ui-corner-all ' +\n",
              "                        'ui-button-icon-only');\n",
              "        button.attr('role', 'button');\n",
              "        button.attr('aria-disabled', 'false');\n",
              "        button.click(method_name, toolbar_event);\n",
              "        button.mouseover(tooltip, toolbar_mouse_event);\n",
              "\n",
              "        var icon_img = $('<span/>');\n",
              "        icon_img.addClass('ui-button-icon-primary ui-icon');\n",
              "        icon_img.addClass(image);\n",
              "        icon_img.addClass('ui-corner-all');\n",
              "\n",
              "        var tooltip_span = $('<span/>');\n",
              "        tooltip_span.addClass('ui-button-text');\n",
              "        tooltip_span.html(tooltip);\n",
              "\n",
              "        button.append(icon_img);\n",
              "        button.append(tooltip_span);\n",
              "\n",
              "        nav_element.append(button);\n",
              "    }\n",
              "\n",
              "    var fmt_picker_span = $('<span/>');\n",
              "\n",
              "    var fmt_picker = $('<select/>');\n",
              "    fmt_picker.addClass('mpl-toolbar-option ui-widget ui-widget-content');\n",
              "    fmt_picker_span.append(fmt_picker);\n",
              "    nav_element.append(fmt_picker_span);\n",
              "    this.format_dropdown = fmt_picker[0];\n",
              "\n",
              "    for (var ind in mpl.extensions) {\n",
              "        var fmt = mpl.extensions[ind];\n",
              "        var option = $(\n",
              "            '<option/>', {selected: fmt === mpl.default_extension}).html(fmt);\n",
              "        fmt_picker.append(option);\n",
              "    }\n",
              "\n",
              "    // Add hover states to the ui-buttons\n",
              "    $( \".ui-button\" ).hover(\n",
              "        function() { $(this).addClass(\"ui-state-hover\");},\n",
              "        function() { $(this).removeClass(\"ui-state-hover\");}\n",
              "    );\n",
              "\n",
              "    var status_bar = $('<span class=\"mpl-message\"/>');\n",
              "    nav_element.append(status_bar);\n",
              "    this.message = status_bar[0];\n",
              "}\n",
              "\n",
              "mpl.figure.prototype.request_resize = function(x_pixels, y_pixels) {\n",
              "    // Request matplotlib to resize the figure. Matplotlib will then trigger a resize in the client,\n",
              "    // which will in turn request a refresh of the image.\n",
              "    this.send_message('resize', {'width': x_pixels, 'height': y_pixels});\n",
              "}\n",
              "\n",
              "mpl.figure.prototype.send_message = function(type, properties) {\n",
              "    properties['type'] = type;\n",
              "    properties['figure_id'] = this.id;\n",
              "    this.ws.send(JSON.stringify(properties));\n",
              "}\n",
              "\n",
              "mpl.figure.prototype.send_draw_message = function() {\n",
              "    if (!this.waiting) {\n",
              "        this.waiting = true;\n",
              "        this.ws.send(JSON.stringify({type: \"draw\", figure_id: this.id}));\n",
              "    }\n",
              "}\n",
              "\n",
              "\n",
              "mpl.figure.prototype.handle_save = function(fig, msg) {\n",
              "    var format_dropdown = fig.format_dropdown;\n",
              "    var format = format_dropdown.options[format_dropdown.selectedIndex].value;\n",
              "    fig.ondownload(fig, format);\n",
              "}\n",
              "\n",
              "\n",
              "mpl.figure.prototype.handle_resize = function(fig, msg) {\n",
              "    var size = msg['size'];\n",
              "    if (size[0] != fig.canvas.width || size[1] != fig.canvas.height) {\n",
              "        fig._resize_canvas(size[0], size[1]);\n",
              "        fig.send_message(\"refresh\", {});\n",
              "    };\n",
              "}\n",
              "\n",
              "mpl.figure.prototype.handle_rubberband = function(fig, msg) {\n",
              "    var x0 = msg['x0'] / mpl.ratio;\n",
              "    var y0 = (fig.canvas.height - msg['y0']) / mpl.ratio;\n",
              "    var x1 = msg['x1'] / mpl.ratio;\n",
              "    var y1 = (fig.canvas.height - msg['y1']) / mpl.ratio;\n",
              "    x0 = Math.floor(x0) + 0.5;\n",
              "    y0 = Math.floor(y0) + 0.5;\n",
              "    x1 = Math.floor(x1) + 0.5;\n",
              "    y1 = Math.floor(y1) + 0.5;\n",
              "    var min_x = Math.min(x0, x1);\n",
              "    var min_y = Math.min(y0, y1);\n",
              "    var width = Math.abs(x1 - x0);\n",
              "    var height = Math.abs(y1 - y0);\n",
              "\n",
              "    fig.rubberband_context.clearRect(\n",
              "        0, 0, fig.canvas.width / mpl.ratio, fig.canvas.height / mpl.ratio);\n",
              "\n",
              "    fig.rubberband_context.strokeRect(min_x, min_y, width, height);\n",
              "}\n",
              "\n",
              "mpl.figure.prototype.handle_figure_label = function(fig, msg) {\n",
              "    // Updates the figure title.\n",
              "    fig.header.textContent = msg['label'];\n",
              "}\n",
              "\n",
              "mpl.figure.prototype.handle_cursor = function(fig, msg) {\n",
              "    var cursor = msg['cursor'];\n",
              "    switch(cursor)\n",
              "    {\n",
              "    case 0:\n",
              "        cursor = 'pointer';\n",
              "        break;\n",
              "    case 1:\n",
              "        cursor = 'default';\n",
              "        break;\n",
              "    case 2:\n",
              "        cursor = 'crosshair';\n",
              "        break;\n",
              "    case 3:\n",
              "        cursor = 'move';\n",
              "        break;\n",
              "    }\n",
              "    fig.rubberband_canvas.style.cursor = cursor;\n",
              "}\n",
              "\n",
              "mpl.figure.prototype.handle_message = function(fig, msg) {\n",
              "    fig.message.textContent = msg['message'];\n",
              "}\n",
              "\n",
              "mpl.figure.prototype.handle_draw = function(fig, msg) {\n",
              "    // Request the server to send over a new figure.\n",
              "    fig.send_draw_message();\n",
              "}\n",
              "\n",
              "mpl.figure.prototype.handle_image_mode = function(fig, msg) {\n",
              "    fig.image_mode = msg['mode'];\n",
              "}\n",
              "\n",
              "mpl.figure.prototype.updated_canvas_event = function() {\n",
              "    // Called whenever the canvas gets updated.\n",
              "    this.send_message(\"ack\", {});\n",
              "}\n",
              "\n",
              "// A function to construct a web socket function for onmessage handling.\n",
              "// Called in the figure constructor.\n",
              "mpl.figure.prototype._make_on_message_function = function(fig) {\n",
              "    return function socket_on_message(evt) {\n",
              "        if (evt.data instanceof Blob) {\n",
              "            /* FIXME: We get \"Resource interpreted as Image but\n",
              "             * transferred with MIME type text/plain:\" errors on\n",
              "             * Chrome.  But how to set the MIME type?  It doesn't seem\n",
              "             * to be part of the websocket stream */\n",
              "            evt.data.type = \"image/png\";\n",
              "\n",
              "            /* Free the memory for the previous frames */\n",
              "            if (fig.imageObj.src) {\n",
              "                (window.URL || window.webkitURL).revokeObjectURL(\n",
              "                    fig.imageObj.src);\n",
              "            }\n",
              "\n",
              "            fig.imageObj.src = (window.URL || window.webkitURL).createObjectURL(\n",
              "                evt.data);\n",
              "            fig.updated_canvas_event();\n",
              "            fig.waiting = false;\n",
              "            return;\n",
              "        }\n",
              "        else if (typeof evt.data === 'string' && evt.data.slice(0, 21) == \"data:image/png;base64\") {\n",
              "            fig.imageObj.src = evt.data;\n",
              "            fig.updated_canvas_event();\n",
              "            fig.waiting = false;\n",
              "            return;\n",
              "        }\n",
              "\n",
              "        var msg = JSON.parse(evt.data);\n",
              "        var msg_type = msg['type'];\n",
              "\n",
              "        // Call the  \"handle_{type}\" callback, which takes\n",
              "        // the figure and JSON message as its only arguments.\n",
              "        try {\n",
              "            var callback = fig[\"handle_\" + msg_type];\n",
              "        } catch (e) {\n",
              "            console.log(\"No handler for the '\" + msg_type + \"' message type: \", msg);\n",
              "            return;\n",
              "        }\n",
              "\n",
              "        if (callback) {\n",
              "            try {\n",
              "                // console.log(\"Handling '\" + msg_type + \"' message: \", msg);\n",
              "                callback(fig, msg);\n",
              "            } catch (e) {\n",
              "                console.log(\"Exception inside the 'handler_\" + msg_type + \"' callback:\", e, e.stack, msg);\n",
              "            }\n",
              "        }\n",
              "    };\n",
              "}\n",
              "\n",
              "// from http://stackoverflow.com/questions/1114465/getting-mouse-location-in-canvas\n",
              "mpl.findpos = function(e) {\n",
              "    //this section is from http://www.quirksmode.org/js/events_properties.html\n",
              "    var targ;\n",
              "    if (!e)\n",
              "        e = window.event;\n",
              "    if (e.target)\n",
              "        targ = e.target;\n",
              "    else if (e.srcElement)\n",
              "        targ = e.srcElement;\n",
              "    if (targ.nodeType == 3) // defeat Safari bug\n",
              "        targ = targ.parentNode;\n",
              "\n",
              "    // jQuery normalizes the pageX and pageY\n",
              "    // pageX,Y are the mouse positions relative to the document\n",
              "    // offset() returns the position of the element relative to the document\n",
              "    var x = e.pageX - $(targ).offset().left;\n",
              "    var y = e.pageY - $(targ).offset().top;\n",
              "\n",
              "    return {\"x\": x, \"y\": y};\n",
              "};\n",
              "\n",
              "/*\n",
              " * return a copy of an object with only non-object keys\n",
              " * we need this to avoid circular references\n",
              " * http://stackoverflow.com/a/24161582/3208463\n",
              " */\n",
              "function simpleKeys (original) {\n",
              "  return Object.keys(original).reduce(function (obj, key) {\n",
              "    if (typeof original[key] !== 'object')\n",
              "        obj[key] = original[key]\n",
              "    return obj;\n",
              "  }, {});\n",
              "}\n",
              "\n",
              "mpl.figure.prototype.mouse_event = function(event, name) {\n",
              "    var canvas_pos = mpl.findpos(event)\n",
              "\n",
              "    if (name === 'button_press')\n",
              "    {\n",
              "        this.canvas.focus();\n",
              "        this.canvas_div.focus();\n",
              "    }\n",
              "\n",
              "    var x = canvas_pos.x * mpl.ratio;\n",
              "    var y = canvas_pos.y * mpl.ratio;\n",
              "\n",
              "    this.send_message(name, {x: x, y: y, button: event.button,\n",
              "                             step: event.step,\n",
              "                             guiEvent: simpleKeys(event)});\n",
              "\n",
              "    /* This prevents the web browser from automatically changing to\n",
              "     * the text insertion cursor when the button is pressed.  We want\n",
              "     * to control all of the cursor setting manually through the\n",
              "     * 'cursor' event from matplotlib */\n",
              "    event.preventDefault();\n",
              "    return false;\n",
              "}\n",
              "\n",
              "mpl.figure.prototype._key_event_extra = function(event, name) {\n",
              "    // Handle any extra behaviour associated with a key event\n",
              "}\n",
              "\n",
              "mpl.figure.prototype.key_event = function(event, name) {\n",
              "\n",
              "    // Prevent repeat events\n",
              "    if (name == 'key_press')\n",
              "    {\n",
              "        if (event.which === this._key)\n",
              "            return;\n",
              "        else\n",
              "            this._key = event.which;\n",
              "    }\n",
              "    if (name == 'key_release')\n",
              "        this._key = null;\n",
              "\n",
              "    var value = '';\n",
              "    if (event.ctrlKey && event.which != 17)\n",
              "        value += \"ctrl+\";\n",
              "    if (event.altKey && event.which != 18)\n",
              "        value += \"alt+\";\n",
              "    if (event.shiftKey && event.which != 16)\n",
              "        value += \"shift+\";\n",
              "\n",
              "    value += 'k';\n",
              "    value += event.which.toString();\n",
              "\n",
              "    this._key_event_extra(event, name);\n",
              "\n",
              "    this.send_message(name, {key: value,\n",
              "                             guiEvent: simpleKeys(event)});\n",
              "    return false;\n",
              "}\n",
              "\n",
              "mpl.figure.prototype.toolbar_button_onclick = function(name) {\n",
              "    if (name == 'download') {\n",
              "        this.handle_save(this, null);\n",
              "    } else {\n",
              "        this.send_message(\"toolbar_button\", {name: name});\n",
              "    }\n",
              "};\n",
              "\n",
              "mpl.figure.prototype.toolbar_button_onmouseover = function(tooltip) {\n",
              "    this.message.textContent = tooltip;\n",
              "};\n",
              "mpl.toolbar_items = [[\"Home\", \"Reset original view\", \"fa fa-home icon-home\", \"home\"], [\"Back\", \"Back to previous view\", \"fa fa-arrow-left icon-arrow-left\", \"back\"], [\"Forward\", \"Forward to next view\", \"fa fa-arrow-right icon-arrow-right\", \"forward\"], [\"\", \"\", \"\", \"\"], [\"Pan\", \"Pan axes with left mouse, zoom with right\", \"fa fa-arrows icon-move\", \"pan\"], [\"Zoom\", \"Zoom to rectangle\", \"fa fa-square-o icon-check-empty\", \"zoom\"], [\"\", \"\", \"\", \"\"], [\"Download\", \"Download plot\", \"fa fa-floppy-o icon-save\", \"download\"]];\n",
              "\n",
              "mpl.extensions = [\"eps\", \"jpeg\", \"pdf\", \"png\", \"ps\", \"raw\", \"svg\", \"tif\"];\n",
              "\n",
              "mpl.default_extension = \"png\";var comm_websocket_adapter = function(comm) {\n",
              "    // Create a \"websocket\"-like object which calls the given IPython comm\n",
              "    // object with the appropriate methods. Currently this is a non binary\n",
              "    // socket, so there is still some room for performance tuning.\n",
              "    var ws = {};\n",
              "\n",
              "    ws.close = function() {\n",
              "        comm.close()\n",
              "    };\n",
              "    ws.send = function(m) {\n",
              "        //console.log('sending', m);\n",
              "        comm.send(m);\n",
              "    };\n",
              "    // Register the callback with on_msg.\n",
              "    comm.on_msg(function(msg) {\n",
              "        //console.log('receiving', msg['content']['data'], msg);\n",
              "        // Pass the mpl event to the overridden (by mpl) onmessage function.\n",
              "        ws.onmessage(msg['content']['data'])\n",
              "    });\n",
              "    return ws;\n",
              "}\n",
              "\n",
              "mpl.mpl_figure_comm = function(comm, msg) {\n",
              "    // This is the function which gets called when the mpl process\n",
              "    // starts-up an IPython Comm through the \"matplotlib\" channel.\n",
              "\n",
              "    var id = msg.content.data.id;\n",
              "    // Get hold of the div created by the display call when the Comm\n",
              "    // socket was opened in Python.\n",
              "    var element = $(\"#\" + id);\n",
              "    var ws_proxy = comm_websocket_adapter(comm)\n",
              "\n",
              "    function ondownload(figure, format) {\n",
              "        window.open(figure.imageObj.src);\n",
              "    }\n",
              "\n",
              "    var fig = new mpl.figure(id, ws_proxy,\n",
              "                           ondownload,\n",
              "                           element.get(0));\n",
              "\n",
              "    // Call onopen now - mpl needs it, as it is assuming we've passed it a real\n",
              "    // web socket which is closed, not our websocket->open comm proxy.\n",
              "    ws_proxy.onopen();\n",
              "\n",
              "    fig.parent_element = element.get(0);\n",
              "    fig.cell_info = mpl.find_output_cell(\"<div id='\" + id + \"'></div>\");\n",
              "    if (!fig.cell_info) {\n",
              "        console.error(\"Failed to find cell for figure\", id, fig);\n",
              "        return;\n",
              "    }\n",
              "\n",
              "    var output_index = fig.cell_info[2]\n",
              "    var cell = fig.cell_info[0];\n",
              "\n",
              "};\n",
              "\n",
              "mpl.figure.prototype.handle_close = function(fig, msg) {\n",
              "    var width = fig.canvas.width/mpl.ratio\n",
              "    fig.root.unbind('remove')\n",
              "\n",
              "    // Update the output cell to use the data from the current canvas.\n",
              "    fig.push_to_output();\n",
              "    var dataURL = fig.canvas.toDataURL();\n",
              "    // Re-enable the keyboard manager in IPython - without this line, in FF,\n",
              "    // the notebook keyboard shortcuts fail.\n",
              "    IPython.keyboard_manager.enable()\n",
              "    $(fig.parent_element).html('<img src=\"' + dataURL + '\" width=\"' + width + '\">');\n",
              "    fig.close_ws(fig, msg);\n",
              "}\n",
              "\n",
              "mpl.figure.prototype.close_ws = function(fig, msg){\n",
              "    fig.send_message('closing', msg);\n",
              "    // fig.ws.close()\n",
              "}\n",
              "\n",
              "mpl.figure.prototype.push_to_output = function(remove_interactive) {\n",
              "    // Turn the data on the canvas into data in the output cell.\n",
              "    var width = this.canvas.width/mpl.ratio\n",
              "    var dataURL = this.canvas.toDataURL();\n",
              "    this.cell_info[1]['text/html'] = '<img src=\"' + dataURL + '\" width=\"' + width + '\">';\n",
              "}\n",
              "\n",
              "mpl.figure.prototype.updated_canvas_event = function() {\n",
              "    // Tell IPython that the notebook contents must change.\n",
              "    IPython.notebook.set_dirty(true);\n",
              "    this.send_message(\"ack\", {});\n",
              "    var fig = this;\n",
              "    // Wait a second, then push the new image to the DOM so\n",
              "    // that it is saved nicely (might be nice to debounce this).\n",
              "    setTimeout(function () { fig.push_to_output() }, 1000);\n",
              "}\n",
              "\n",
              "mpl.figure.prototype._init_toolbar = function() {\n",
              "    var fig = this;\n",
              "\n",
              "    var nav_element = $('<div/>');\n",
              "    nav_element.attr('style', 'width: 100%');\n",
              "    this.root.append(nav_element);\n",
              "\n",
              "    // Define a callback function for later on.\n",
              "    function toolbar_event(event) {\n",
              "        return fig.toolbar_button_onclick(event['data']);\n",
              "    }\n",
              "    function toolbar_mouse_event(event) {\n",
              "        return fig.toolbar_button_onmouseover(event['data']);\n",
              "    }\n",
              "\n",
              "    for(var toolbar_ind in mpl.toolbar_items){\n",
              "        var name = mpl.toolbar_items[toolbar_ind][0];\n",
              "        var tooltip = mpl.toolbar_items[toolbar_ind][1];\n",
              "        var image = mpl.toolbar_items[toolbar_ind][2];\n",
              "        var method_name = mpl.toolbar_items[toolbar_ind][3];\n",
              "\n",
              "        if (!name) { continue; };\n",
              "\n",
              "        var button = $('<button class=\"btn btn-default\" href=\"#\" title=\"' + name + '\"><i class=\"fa ' + image + ' fa-lg\"></i></button>');\n",
              "        button.click(method_name, toolbar_event);\n",
              "        button.mouseover(tooltip, toolbar_mouse_event);\n",
              "        nav_element.append(button);\n",
              "    }\n",
              "\n",
              "    // Add the status bar.\n",
              "    var status_bar = $('<span class=\"mpl-message\" style=\"text-align:right; float: right;\"/>');\n",
              "    nav_element.append(status_bar);\n",
              "    this.message = status_bar[0];\n",
              "\n",
              "    // Add the close button to the window.\n",
              "    var buttongrp = $('<div class=\"btn-group inline pull-right\"></div>');\n",
              "    var button = $('<button class=\"btn btn-mini btn-primary\" href=\"#\" title=\"Stop Interaction\"><i class=\"fa fa-power-off icon-remove icon-large\"></i></button>');\n",
              "    button.click(function (evt) { fig.handle_close(fig, {}); } );\n",
              "    button.mouseover('Stop Interaction', toolbar_mouse_event);\n",
              "    buttongrp.append(button);\n",
              "    var titlebar = this.root.find($('.ui-dialog-titlebar'));\n",
              "    titlebar.prepend(buttongrp);\n",
              "}\n",
              "\n",
              "mpl.figure.prototype._root_extra_style = function(el){\n",
              "    var fig = this\n",
              "    el.on(\"remove\", function(){\n",
              "\tfig.close_ws(fig, {});\n",
              "    });\n",
              "}\n",
              "\n",
              "mpl.figure.prototype._canvas_extra_style = function(el){\n",
              "    // this is important to make the div 'focusable\n",
              "    el.attr('tabindex', 0)\n",
              "    // reach out to IPython and tell the keyboard manager to turn it's self\n",
              "    // off when our div gets focus\n",
              "\n",
              "    // location in version 3\n",
              "    if (IPython.notebook.keyboard_manager) {\n",
              "        IPython.notebook.keyboard_manager.register_events(el);\n",
              "    }\n",
              "    else {\n",
              "        // location in version 2\n",
              "        IPython.keyboard_manager.register_events(el);\n",
              "    }\n",
              "\n",
              "}\n",
              "\n",
              "mpl.figure.prototype._key_event_extra = function(event, name) {\n",
              "    var manager = IPython.notebook.keyboard_manager;\n",
              "    if (!manager)\n",
              "        manager = IPython.keyboard_manager;\n",
              "\n",
              "    // Check for shift+enter\n",
              "    if (event.shiftKey && event.which == 13) {\n",
              "        this.canvas_div.blur();\n",
              "        // select the cell after this one\n",
              "        var index = IPython.notebook.find_cell_index(this.cell_info[0]);\n",
              "        IPython.notebook.select(index + 1);\n",
              "    }\n",
              "}\n",
              "\n",
              "mpl.figure.prototype.handle_save = function(fig, msg) {\n",
              "    fig.ondownload(fig, null);\n",
              "}\n",
              "\n",
              "\n",
              "mpl.find_output_cell = function(html_output) {\n",
              "    // Return the cell and output element which can be found *uniquely* in the notebook.\n",
              "    // Note - this is a bit hacky, but it is done because the \"notebook_saving.Notebook\"\n",
              "    // IPython event is triggered only after the cells have been serialised, which for\n",
              "    // our purposes (turning an active figure into a static one), is too late.\n",
              "    var cells = IPython.notebook.get_cells();\n",
              "    var ncells = cells.length;\n",
              "    for (var i=0; i<ncells; i++) {\n",
              "        var cell = cells[i];\n",
              "        if (cell.cell_type === 'code'){\n",
              "            for (var j=0; j<cell.output_area.outputs.length; j++) {\n",
              "                var data = cell.output_area.outputs[j];\n",
              "                if (data.data) {\n",
              "                    // IPython >= 3 moved mimebundle to data attribute of output\n",
              "                    data = data.data;\n",
              "                }\n",
              "                if (data['text/html'] == html_output) {\n",
              "                    return [cell, data, j];\n",
              "                }\n",
              "            }\n",
              "        }\n",
              "    }\n",
              "}\n",
              "\n",
              "// Register the function which deals with the matplotlib target/channel.\n",
              "// The kernel may be null if the page has been refreshed.\n",
              "if (IPython.notebook.kernel != null) {\n",
              "    IPython.notebook.kernel.comm_manager.register_target('matplotlib', mpl.mpl_figure_comm);\n",
              "}\n"
            ],
            "text/plain": [
              "<IPython.core.display.Javascript object>"
            ]
          },
          "metadata": {
            "tags": []
          }
        },
        {
          "output_type": "display_data",
          "data": {
            "text/html": [
              "<div id='24b20e3f-8d07-4573-bab4-e7bf726b0acb'></div>"
            ],
            "text/plain": [
              "<IPython.core.display.HTML object>"
            ]
          },
          "metadata": {
            "tags": []
          }
        }
      ]
    },
    {
      "cell_type": "markdown",
      "metadata": {
        "id": "-I4QdBUlYKw8"
      },
      "source": [
        "#Arrays \r\n",
        "Parecido com listas. Um array Numpy é um conjunto de valores, todos do mesmo tipo e indexados por uma tupla de valores não-negativos. \r\n"
      ]
    },
    {
      "cell_type": "code",
      "metadata": {
        "id": "DZpRfyeTZyZ_"
      },
      "source": [
        "# Importando o NumPy\r\n",
        "import numpy as np"
      ],
      "execution_count": null,
      "outputs": []
    },
    {
      "cell_type": "code",
      "metadata": {
        "colab": {
          "base_uri": "https://localhost:8080/"
        },
        "id": "qlkt_cWVZ0DP",
        "outputId": "ab3b4216-2c41-43c1-b405-12154b36c63f"
      },
      "source": [
        "# Array criado a partir de uma lista:\r\n",
        "vetor1 = np.array([0, 1, 2, 3, 4, 5, 6, 7, 8])\r\n",
        "\r\n",
        "print(vetor1)"
      ],
      "execution_count": null,
      "outputs": [
        {
          "output_type": "stream",
          "text": [
            "[0 1 2 3 4 5 6 7 8]\n"
          ],
          "name": "stdout"
        }
      ]
    },
    {
      "cell_type": "code",
      "metadata": {
        "colab": {
          "base_uri": "https://localhost:8080/"
        },
        "id": "wlTlGXx_aJLl",
        "outputId": "040c8d63-d913-4b6a-bd62-d277a8532205"
      },
      "source": [
        "# Alterando um elemento do array\r\n",
        "vetor1[0] = 100\r\n",
        "\r\n",
        "print(vetor1)"
      ],
      "execution_count": null,
      "outputs": [
        {
          "output_type": "stream",
          "text": [
            "[100   1   2   3   4   5   6   7   8]\n"
          ],
          "name": "stdout"
        }
      ]
    },
    {
      "cell_type": "code",
      "metadata": {
        "colab": {
          "base_uri": "https://localhost:8080/"
        },
        "id": "hAP6cFyaa7B7",
        "outputId": "8ff10b64-1a99-4f05-e6b8-138f14fd1d78"
      },
      "source": [
        "# Criando uma matriz\r\n",
        "matriz = np.array([[1,2,3],[4,5,6]])\r\n",
        "\r\n",
        "print(matriz)"
      ],
      "execution_count": null,
      "outputs": [
        {
          "output_type": "stream",
          "text": [
            "[[1 2 3]\n",
            " [4 5 6]]\n"
          ],
          "name": "stdout"
        }
      ]
    },
    {
      "cell_type": "code",
      "metadata": {
        "id": "T7d8WpFtbIFN"
      },
      "source": [
        "# Criando uma matriz a partir de uma lista de listas\r\n",
        "lista = [[13,81,22], [0, 34, 59], [21, 48, 94]]"
      ],
      "execution_count": null,
      "outputs": []
    },
    {
      "cell_type": "code",
      "metadata": {
        "colab": {
          "base_uri": "https://localhost:8080/"
        },
        "id": "MHolX9thbI9z",
        "outputId": "65c7dc20-9276-4650-8668-372888083da0"
      },
      "source": [
        "# A função matrix cria uma matria a partir de uma sequência\r\n",
        "matriz2 = np.matrix(lista)\r\n",
        "matriz2"
      ],
      "execution_count": null,
      "outputs": [
        {
          "output_type": "execute_result",
          "data": {
            "text/plain": [
              "matrix([[13, 81, 22],\n",
              "        [ 0, 34, 59],\n",
              "        [21, 48, 94]])"
            ]
          },
          "metadata": {
            "tags": []
          },
          "execution_count": 12
        }
      ]
    },
    {
      "cell_type": "code",
      "metadata": {
        "colab": {
          "base_uri": "https://localhost:8080/"
        },
        "id": "O6k1Rzs7bS3m",
        "outputId": "29c78777-1560-41b6-a33c-662606130180"
      },
      "source": [
        "# Alterando um elemento da matriz\r\n",
        "matriz2[1,0] = 100\r\n",
        "\r\n",
        "matriz2"
      ],
      "execution_count": null,
      "outputs": [
        {
          "output_type": "execute_result",
          "data": {
            "text/plain": [
              "matrix([[ 13,  81,  22],\n",
              "        [100,  34,  59],\n",
              "        [ 21,  48,  94]])"
            ]
          },
          "metadata": {
            "tags": []
          },
          "execution_count": 14
        }
      ]
    },
    {
      "cell_type": "code",
      "metadata": {
        "colab": {
          "base_uri": "https://localhost:8080/"
        },
        "id": "hQs-nV4tbqUE",
        "outputId": "f8ec6dce-5733-4470-a6f0-c51de8842b96"
      },
      "source": [
        "#Método random() \r\n",
        "\r\n",
        "print(np.random.rand(10))"
      ],
      "execution_count": null,
      "outputs": [
        {
          "output_type": "stream",
          "text": [
            "[0.79600977 0.04288403 0.37927627 0.58465324 0.67354083 0.0666728\n",
            " 0.56274789 0.76668055 0.23754058 0.22585795]\n"
          ],
          "name": "stdout"
        }
      ]
    },
    {
      "cell_type": "code",
      "metadata": {
        "id": "OS3t5Uj0cNUL"
      },
      "source": [
        "import matplotlib.pyplot as plt  #pacote que permite criar graficos"
      ],
      "execution_count": null,
      "outputs": []
    },
    {
      "cell_type": "code",
      "metadata": {
        "colab": {
          "base_uri": "https://localhost:8080/",
          "height": 265
        },
        "id": "wNR88qNAcR4n",
        "outputId": "e3528cea-7b30-446d-a226-130329aedb79"
      },
      "source": [
        "plt.show((plt.hist(np.random.rand(1000))))"
      ],
      "execution_count": null,
      "outputs": [
        {
          "output_type": "display_data",
          "data": {
            "image/png": "[encoded data removed]",
            "text/plain": [
              "<Figure size 432x288 with 1 Axes>"
            ]
          },
          "metadata": {
            "tags": [],
            "needs_background": "light"
          }
        }
      ]
    },
    {
      "cell_type": "code",
      "metadata": {
        "colab": {
          "base_uri": "https://localhost:8080/",
          "height": 283
        },
        "id": "IWAC-G6HcWjq",
        "outputId": "4713c827-f721-4a4d-f395-fb33659751ae"
      },
      "source": [
        "imagem = np.random.rand(30, 30)\r\n",
        "plt.imshow(imagem, cmap = plt.cm.hot)    \r\n",
        "plt.colorbar()"
      ],
      "execution_count": null,
      "outputs": [
        {
          "output_type": "execute_result",
          "data": {
            "text/plain": [
              "<matplotlib.colorbar.Colorbar at 0x7fdaa2a749e8>"
            ]
          },
          "metadata": {
            "tags": []
          },
          "execution_count": 18
        },
        {
          "output_type": "display_data",
          "data": {
            "image/png": "[encoded data removed]",
            "text/plain": [
              "<Figure size 432x288 with 2 Axes>"
            ]
          },
          "metadata": {
            "tags": [],
            "needs_background": "light"
          }
        }
      ]
    },
    {
      "cell_type": "markdown",
      "metadata": {
        "id": "Q-KgqkSuc8nd"
      },
      "source": [
        "# Pandas\r\n",
        "\r\n",
        "Biblioteca criada para o manejo de dados estruturados;\r\n"
      ]
    },
    {
      "cell_type": "code",
      "metadata": {
        "id": "vvBg384ZduBC"
      },
      "source": [
        "#Para poder trabalhar com Pandas, você deve conhecer bem estas duas estruturas: Series e DataFrame\r\n",
        "\r\n",
        "#Series: Series é um array unidimensional que contém um array de dados e um array de labels, chamado índice.\r\n",
        "#Data Frames: Dataframes representam uma estrutura tabular semelhante a estrutura de uma planilha do Excel, contendo uma coleção de colunas em que cada uma pode ser um diferente tipo de valor (número, string, etc...). Os Dataframes possuem index e linhas e esta estrutura é muito semelhante a um dataframe em R. Os dados de um dataframe são armazenados e um ou mais blocos bidimensionais, ao invés de listas, dicionários ou alguma outra estrutura de array."
      ],
      "execution_count": null,
      "outputs": []
    },
    {
      "cell_type": "code",
      "metadata": {
        "id": "iLkKXBwsd4pi"
      },
      "source": [
        "# Series \r\n",
        "from pandas import Series"
      ],
      "execution_count": null,
      "outputs": []
    },
    {
      "cell_type": "code",
      "metadata": {
        "id": "2Xqz4xkdeMRG"
      },
      "source": [
        "# Criando uma série sem especificar os índices\r\n",
        "Obj = Series([67, 78, -56, 13])"
      ],
      "execution_count": null,
      "outputs": []
    },
    {
      "cell_type": "code",
      "metadata": {
        "colab": {
          "base_uri": "https://localhost:8080/"
        },
        "id": "0GoolokEeQC1",
        "outputId": "858bf8dd-a63d-49b1-9c92-d1b831e51ec7"
      },
      "source": [
        "Obj.index"
      ],
      "execution_count": null,
      "outputs": [
        {
          "output_type": "execute_result",
          "data": {
            "text/plain": [
              "RangeIndex(start=0, stop=4, step=1)"
            ]
          },
          "metadata": {
            "tags": []
          },
          "execution_count": 21
        }
      ]
    },
    {
      "cell_type": "code",
      "metadata": {
        "id": "Pd_NkF8peYyM"
      },
      "source": [
        "# Criando uma série e especificando os índices\r\n",
        "Obj2 = Series([67, 78, -56, 13], index = ['a', 'b', 'c', 'd'])"
      ],
      "execution_count": null,
      "outputs": []
    },
    {
      "cell_type": "code",
      "metadata": {
        "id": "CNaPZrM3em4v"
      },
      "source": [
        "#DataFrames\r\n",
        "from pandas import DataFrame"
      ],
      "execution_count": null,
      "outputs": []
    },
    {
      "cell_type": "code",
      "metadata": {
        "id": "uayMKeJNezWJ"
      },
      "source": [
        "data = {'Estado': ['Santa Catarina', 'Paraná', 'Goiás', 'Bahia', 'Minas Gerais'], \r\n",
        "        'Ano': [2002, 2003, 2004, 2005, 2006], \r\n",
        "        'População': [1.5, 1.7, 3.6, 2.4, 2.9]}"
      ],
      "execution_count": null,
      "outputs": []
    },
    {
      "cell_type": "code",
      "metadata": {
        "colab": {
          "base_uri": "https://localhost:8080/",
          "height": 204
        },
        "id": "oQb4MKF-ez07",
        "outputId": "d1374431-8f68-4f97-d755-aa96b4136dfa"
      },
      "source": [
        "frame = DataFrame(data)\r\n",
        "frame"
      ],
      "execution_count": null,
      "outputs": [
        {
          "output_type": "execute_result",
          "data": {
            "text/html": [
              "<div>\n",
              "<style scoped>\n",
              "    .dataframe tbody tr th:only-of-type {\n",
              "        vertical-align: middle;\n",
              "    }\n",
              "\n",
              "    .dataframe tbody tr th {\n",
              "        vertical-align: top;\n",
              "    }\n",
              "\n",
              "    .dataframe thead th {\n",
              "        text-align: right;\n",
              "    }\n",
              "</style>\n",
              "<table border=\"1\" class=\"dataframe\">\n",
              "  <thead>\n",
              "    <tr style=\"text-align: right;\">\n",
              "      <th></th>\n",
              "      <th>Estado</th>\n",
              "      <th>Ano</th>\n",
              "      <th>População</th>\n",
              "    </tr>\n",
              "  </thead>\n",
              "  <tbody>\n",
              "    <tr>\n",
              "      <th>0</th>\n",
              "      <td>Santa Catarina</td>\n",
              "      <td>2002</td>\n",
              "      <td>1.5</td>\n",
              "    </tr>\n",
              "    <tr>\n",
              "      <th>1</th>\n",
              "      <td>Paraná</td>\n",
              "      <td>2003</td>\n",
              "      <td>1.7</td>\n",
              "    </tr>\n",
              "    <tr>\n",
              "      <th>2</th>\n",
              "      <td>Goiás</td>\n",
              "      <td>2004</td>\n",
              "      <td>3.6</td>\n",
              "    </tr>\n",
              "    <tr>\n",
              "      <th>3</th>\n",
              "      <td>Bahia</td>\n",
              "      <td>2005</td>\n",
              "      <td>2.4</td>\n",
              "    </tr>\n",
              "    <tr>\n",
              "      <th>4</th>\n",
              "      <td>Minas Gerais</td>\n",
              "      <td>2006</td>\n",
              "      <td>2.9</td>\n",
              "    </tr>\n",
              "  </tbody>\n",
              "</table>\n",
              "</div>"
            ],
            "text/plain": [
              "           Estado   Ano  População\n",
              "0  Santa Catarina  2002        1.5\n",
              "1          Paraná  2003        1.7\n",
              "2           Goiás  2004        3.6\n",
              "3           Bahia  2005        2.4\n",
              "4    Minas Gerais  2006        2.9"
            ]
          },
          "metadata": {
            "tags": []
          },
          "execution_count": 26
        }
      ]
    },
    {
      "cell_type": "code",
      "metadata": {
        "id": "cIX80Q1tfDAv"
      },
      "source": [
        "# Criando outro dataframe com os mesmo dados anteriores mas adicionando uma coluna\r\n",
        "frame2 = DataFrame(data, columns = ['Ano', 'Estado', 'População', 'Débito'], \r\n",
        "                   index = ['um', 'dois', 'três', 'quatro', 'cinco'])"
      ],
      "execution_count": null,
      "outputs": []
    },
    {
      "cell_type": "code",
      "metadata": {
        "colab": {
          "base_uri": "https://localhost:8080/",
          "height": 204
        },
        "id": "CVTtQ_vDfDxG",
        "outputId": "96506237-4868-4204-af17-4395c323a80a"
      },
      "source": [
        "frame2"
      ],
      "execution_count": null,
      "outputs": [
        {
          "output_type": "execute_result",
          "data": {
            "text/html": [
              "<div>\n",
              "<style scoped>\n",
              "    .dataframe tbody tr th:only-of-type {\n",
              "        vertical-align: middle;\n",
              "    }\n",
              "\n",
              "    .dataframe tbody tr th {\n",
              "        vertical-align: top;\n",
              "    }\n",
              "\n",
              "    .dataframe thead th {\n",
              "        text-align: right;\n",
              "    }\n",
              "</style>\n",
              "<table border=\"1\" class=\"dataframe\">\n",
              "  <thead>\n",
              "    <tr style=\"text-align: right;\">\n",
              "      <th></th>\n",
              "      <th>Ano</th>\n",
              "      <th>Estado</th>\n",
              "      <th>População</th>\n",
              "      <th>Débito</th>\n",
              "    </tr>\n",
              "  </thead>\n",
              "  <tbody>\n",
              "    <tr>\n",
              "      <th>um</th>\n",
              "      <td>2002</td>\n",
              "      <td>Santa Catarina</td>\n",
              "      <td>1.5</td>\n",
              "      <td>NaN</td>\n",
              "    </tr>\n",
              "    <tr>\n",
              "      <th>dois</th>\n",
              "      <td>2003</td>\n",
              "      <td>Paraná</td>\n",
              "      <td>1.7</td>\n",
              "      <td>NaN</td>\n",
              "    </tr>\n",
              "    <tr>\n",
              "      <th>três</th>\n",
              "      <td>2004</td>\n",
              "      <td>Goiás</td>\n",
              "      <td>3.6</td>\n",
              "      <td>NaN</td>\n",
              "    </tr>\n",
              "    <tr>\n",
              "      <th>quatro</th>\n",
              "      <td>2005</td>\n",
              "      <td>Bahia</td>\n",
              "      <td>2.4</td>\n",
              "      <td>NaN</td>\n",
              "    </tr>\n",
              "    <tr>\n",
              "      <th>cinco</th>\n",
              "      <td>2006</td>\n",
              "      <td>Minas Gerais</td>\n",
              "      <td>2.9</td>\n",
              "      <td>NaN</td>\n",
              "    </tr>\n",
              "  </tbody>\n",
              "</table>\n",
              "</div>"
            ],
            "text/plain": [
              "         Ano          Estado  População Débito\n",
              "um      2002  Santa Catarina        1.5    NaN\n",
              "dois    2003          Paraná        1.7    NaN\n",
              "três    2004           Goiás        3.6    NaN\n",
              "quatro  2005           Bahia        2.4    NaN\n",
              "cinco   2006    Minas Gerais        2.9    NaN"
            ]
          },
          "metadata": {
            "tags": []
          },
          "execution_count": 28
        }
      ]
    },
    {
      "cell_type": "code",
      "metadata": {
        "id": "kf7bEVe5fNWX"
      },
      "source": [
        "# Usando o NumPy para alimentar uma das colunas do dataframe\r\n",
        "frame2['Débito'] = np.arange(5.)"
      ],
      "execution_count": null,
      "outputs": []
    },
    {
      "cell_type": "code",
      "metadata": {
        "colab": {
          "base_uri": "https://localhost:8080/",
          "height": 204
        },
        "id": "HhDexBXlfOKa",
        "outputId": "f60e52db-05f3-41a1-94a3-578eb04dfab8"
      },
      "source": [
        "frame2"
      ],
      "execution_count": null,
      "outputs": [
        {
          "output_type": "execute_result",
          "data": {
            "text/html": [
              "<div>\n",
              "<style scoped>\n",
              "    .dataframe tbody tr th:only-of-type {\n",
              "        vertical-align: middle;\n",
              "    }\n",
              "\n",
              "    .dataframe tbody tr th {\n",
              "        vertical-align: top;\n",
              "    }\n",
              "\n",
              "    .dataframe thead th {\n",
              "        text-align: right;\n",
              "    }\n",
              "</style>\n",
              "<table border=\"1\" class=\"dataframe\">\n",
              "  <thead>\n",
              "    <tr style=\"text-align: right;\">\n",
              "      <th></th>\n",
              "      <th>Ano</th>\n",
              "      <th>Estado</th>\n",
              "      <th>População</th>\n",
              "      <th>Débito</th>\n",
              "    </tr>\n",
              "  </thead>\n",
              "  <tbody>\n",
              "    <tr>\n",
              "      <th>um</th>\n",
              "      <td>2002</td>\n",
              "      <td>Santa Catarina</td>\n",
              "      <td>1.5</td>\n",
              "      <td>0.0</td>\n",
              "    </tr>\n",
              "    <tr>\n",
              "      <th>dois</th>\n",
              "      <td>2003</td>\n",
              "      <td>Paraná</td>\n",
              "      <td>1.7</td>\n",
              "      <td>1.0</td>\n",
              "    </tr>\n",
              "    <tr>\n",
              "      <th>três</th>\n",
              "      <td>2004</td>\n",
              "      <td>Goiás</td>\n",
              "      <td>3.6</td>\n",
              "      <td>2.0</td>\n",
              "    </tr>\n",
              "    <tr>\n",
              "      <th>quatro</th>\n",
              "      <td>2005</td>\n",
              "      <td>Bahia</td>\n",
              "      <td>2.4</td>\n",
              "      <td>3.0</td>\n",
              "    </tr>\n",
              "    <tr>\n",
              "      <th>cinco</th>\n",
              "      <td>2006</td>\n",
              "      <td>Minas Gerais</td>\n",
              "      <td>2.9</td>\n",
              "      <td>4.0</td>\n",
              "    </tr>\n",
              "  </tbody>\n",
              "</table>\n",
              "</div>"
            ],
            "text/plain": [
              "         Ano          Estado  População  Débito\n",
              "um      2002  Santa Catarina        1.5     0.0\n",
              "dois    2003          Paraná        1.7     1.0\n",
              "três    2004           Goiás        3.6     2.0\n",
              "quatro  2005           Bahia        2.4     3.0\n",
              "cinco   2006    Minas Gerais        2.9     4.0"
            ]
          },
          "metadata": {
            "tags": []
          },
          "execution_count": 30
        }
      ]
    },
    {
      "cell_type": "markdown",
      "metadata": {
        "id": "Sa6qTzOlf21K"
      },
      "source": [
        "# Matplotlib"
      ]
    },
    {
      "cell_type": "code",
      "metadata": {
        "id": "dJrnnR2ef4Wo"
      },
      "source": [
        "import matplotlib as mpl"
      ],
      "execution_count": null,
      "outputs": []
    },
    {
      "cell_type": "code",
      "metadata": {
        "id": "ZqHP6qj8f-CD"
      },
      "source": [
        "# O matplotlib.pyplot é uma coleção de funções e estilos que fazem com que o Matplotlib funcione como o Matlab.\r\n",
        "import matplotlib.pyplot as plt\r\n",
        "#muitas opções, pesquisar!"
      ],
      "execution_count": null,
      "outputs": []
    },
    {
      "cell_type": "code",
      "metadata": {
        "colab": {
          "base_uri": "https://localhost:8080/",
          "height": 163
        },
        "id": "2Dq62JjGe6EO",
        "outputId": "c0d27fd4-ef24-4a8d-b029-a7796b270353"
      },
      "source": [
        "df = pd.read_csv(\"pima-data.csv\") "
      ],
      "execution_count": null,
      "outputs": [
        {
          "output_type": "error",
          "ename": "NameError",
          "evalue": "ignored",
          "traceback": [
            "\u001b[0;31m---------------------------------------------------------------------------\u001b[0m",
            "\u001b[0;31mNameError\u001b[0m                                 Traceback (most recent call last)",
            "\u001b[0;32m<ipython-input-15-75d6a46b33fa>\u001b[0m in \u001b[0;36m<module>\u001b[0;34m()\u001b[0m\n\u001b[0;32m----> 1\u001b[0;31m \u001b[0mdf\u001b[0m \u001b[0;34m=\u001b[0m \u001b[0mpd\u001b[0m\u001b[0;34m.\u001b[0m\u001b[0mread_csv\u001b[0m\u001b[0;34m(\u001b[0m\u001b[0;34m\"pima-data.csv\"\u001b[0m\u001b[0;34m)\u001b[0m\u001b[0;34m\u001b[0m\u001b[0;34m\u001b[0m\u001b[0m\n\u001b[0m",
            "\u001b[0;31mNameError\u001b[0m: name 'pd' is not defined"
          ]
        }
      ]
    },
    {
      "cell_type": "markdown",
      "metadata": {
        "id": "ghfmmKbwjHVm"
      },
      "source": [
        "# SciPy"
      ]
    },
    {
      "cell_type": "code",
      "metadata": {
        "id": "95clXyBMjJG3"
      },
      "source": [
        "#É um conjunto de algorítmos matemáticos que permite estender as funcionalidades do Numpy.\r\n",
        "#Tem conjunto para: Álgebra linear, Matrizes esparas, etc.\r\n"
      ],
      "execution_count": null,
      "outputs": []
    },
    {
      "cell_type": "code",
      "metadata": {
        "id": "fJzMn8FdjuWd"
      },
      "source": [
        "import scipy"
      ],
      "execution_count": null,
      "outputs": []
    },
    {
      "cell_type": "markdown",
      "metadata": {
        "id": "G7XTOkzpkh1R"
      },
      "source": [
        "# Scikit-learn"
      ]
    },
    {
      "cell_type": "code",
      "metadata": {
        "id": "7J7F-RNZki0g"
      },
      "source": [
        "#Prevendo preço da pizza\r\n",
        "\r\n",
        "# Importando Matplotlib e Numpy\r\n",
        "import matplotlib.pyplot as plt\r\n",
        "import matplotlib as mat\r\n",
        "import numpy as np"
      ],
      "execution_count": null,
      "outputs": []
    },
    {
      "cell_type": "code",
      "metadata": {
        "id": "drevBPZulnN4"
      },
      "source": [
        "#Vamos supor que você registrou o tamanho e preço de pizzas que você comeu nos últimos meses com a sua família\r\n",
        "\r\n",
        "# Diâmetros (cm)\r\n",
        "Diametros = [[7], [10], [15], [30], [45]]\r\n",
        "\r\n",
        "# Preços (R$)\r\n",
        "Precos = [[8], [11], [16], [38.5], [52]]"
      ],
      "execution_count": null,
      "outputs": []
    },
    {
      "cell_type": "code",
      "metadata": {
        "colab": {
          "base_uri": "https://localhost:8080/",
          "height": 295
        },
        "id": "vgHQ5AyClxi7",
        "outputId": "fbd4b246-b819-4696-ca92-d74751b60283"
      },
      "source": [
        "plt.figure()\r\n",
        "plt.xlabel('Diâmetro(cm)')\r\n",
        "plt.ylabel('Preço(R$)')\r\n",
        "plt.title('Diâmetro x Preço')\r\n",
        "plt.plot(Diametros, Precos, 'k.')\r\n",
        "plt.axis([0, 60, 0, 60])\r\n",
        "plt.grid(True)\r\n",
        "plt.show()"
      ],
      "execution_count": null,
      "outputs": [
        {
          "output_type": "display_data",
          "data": {
            "image/png": "[encoded data removed]",
            "text/plain": [
              "<Figure size 432x288 with 1 Axes>"
            ]
          },
          "metadata": {
            "tags": [],
            "needs_background": "light"
          }
        }
      ]
    },
    {
      "cell_type": "markdown",
      "metadata": {
        "id": "EXhaaDO4l-AN"
      },
      "source": [
        "\r\n",
        "Vamos agora modelar o relacionamento usando regressão linear e criar um modelo para prever o preço da Pizza.\r\n",
        "\r\n",
        "\r\n",
        "A classe sklearn.linear_model.LinearRegression é um estimador. Um estimador prevê um valor baseado em dados observados. Em scikit-learn, todos os estimadores implementam os métodos fit() e predict(). O método fit() é usado para aprender os parâmetros de um modelo e o método predict() é usado para prever o valor de uma variável dependente em relação a uma variável explanatória usando os parâmetros aprendidos.\r\n"
      ]
    },
    {
      "cell_type": "code",
      "metadata": {
        "id": "lmTy4JatmB8z"
      },
      "source": [
        "# Importando o módulo de Regressão Linear do scikit-learn\r\n",
        "from sklearn.linear_model import LinearRegression"
      ],
      "execution_count": null,
      "outputs": []
    },
    {
      "cell_type": "code",
      "metadata": {
        "id": "nr6iJDdomLrO"
      },
      "source": [
        "# Preparando os dados de treino\r\n",
        "\r\n",
        "# Vamos chamar de X os dados de diâmetro da Pizza.\r\n",
        "X = [[7], [10], [15], [30], [45]]\r\n",
        "\r\n",
        "# Vamos chamar de Y os dados de preço da Pizza.\r\n",
        "Y = [[8], [11], [16], [38.5], [52]]"
      ],
      "execution_count": null,
      "outputs": []
    },
    {
      "cell_type": "code",
      "metadata": {
        "id": "3rL-mN0SmTk2"
      },
      "source": [
        "# Criando o modelo\r\n",
        "modelo = LinearRegression()"
      ],
      "execution_count": null,
      "outputs": []
    },
    {
      "cell_type": "code",
      "metadata": {
        "colab": {
          "base_uri": "https://localhost:8080/"
        },
        "id": "ASIPuA70mV2E",
        "outputId": "28feb518-c6dc-4b3a-bdee-0aff6d2d005b"
      },
      "source": [
        "# Treinando o modelo\r\n",
        "modelo.fit(X, Y)"
      ],
      "execution_count": null,
      "outputs": [
        {
          "output_type": "execute_result",
          "data": {
            "text/plain": [
              "LinearRegression(copy_X=True, fit_intercept=True, n_jobs=None, normalize=False)"
            ]
          },
          "metadata": {
            "tags": []
          },
          "execution_count": 40
        }
      ]
    },
    {
      "cell_type": "code",
      "metadata": {
        "colab": {
          "base_uri": "https://localhost:8080/"
        },
        "id": "RNWY8nDdmgcK",
        "outputId": "90fd11c9-21a5-48b0-9e6c-12a978a959f2"
      },
      "source": [
        "print(\"Uma pizza de 20 cm de diâmetro deve custar: R$%.2f\" % modelo.predict([[20]]))"
      ],
      "execution_count": null,
      "outputs": [
        {
          "output_type": "stream",
          "text": [
            "Uma pizza de 20 cm de diâmetro deve custar: R$23.41\n"
          ],
          "name": "stdout"
        }
      ]
    },
    {
      "cell_type": "markdown",
      "metadata": {
        "id": "5WHNydUopp0D"
      },
      "source": [
        "Y – é o valor previsto da variável dependente (em nosso exemplo o preço da Pizza)\r\n",
        "X – é a variável explanatória (em nosso exemplo o diâmetro da Pizza)\r\n",
        "Alfa é o termo de intercepção ou coeficiente linear\r\n",
        "Beta é o coeficiente de cada variável ou coeficiente angular\r\n",
        "Alfa e Beta são parâmetros do modelo que são aprendidos pelo algoritmo de aprendizagem"
      ]
    }
  ]
}